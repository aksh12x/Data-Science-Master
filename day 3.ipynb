{
 "cells": [
  {
   "cell_type": "code",
   "execution_count": null,
   "id": "8828dc66-047f-4697-9542-9739e726f638",
   "metadata": {},
   "outputs": [],
   "source": [
    "## logical operator\n",
    "1. and\n",
    "2. or\n",
    "3. not"
   ]
  },
  {
   "cell_type": "code",
   "execution_count": 1,
   "id": "b4cc8bc0-d532-473c-8e43-6c6a187117f6",
   "metadata": {},
   "outputs": [
    {
     "data": {
      "text/plain": [
       "True"
      ]
     },
     "execution_count": 1,
     "metadata": {},
     "output_type": "execute_result"
    }
   ],
   "source": [
    "True and True"
   ]
  },
  {
   "cell_type": "code",
   "execution_count": 2,
   "id": "05758dd1-532e-4db8-82b7-b136fafa35dc",
   "metadata": {},
   "outputs": [
    {
     "data": {
      "text/plain": [
       "'\\nA    B    And    or   not A\\n0    0    0      0     1\\n1    0    0      1     0 \\n0    1    0      1     1\\n1    1    1      1     0\\n'"
      ]
     },
     "execution_count": 2,
     "metadata": {},
     "output_type": "execute_result"
    }
   ],
   "source": [
    "\"\"\"\n",
    "A    B    And    or   not A\n",
    "0    0    0      0     1\n",
    "1    0    0      1     0 \n",
    "0    1    0      1     1\n",
    "1    1    1      1     0\n",
    "\"\"\""
   ]
  },
  {
   "cell_type": "code",
   "execution_count": 3,
   "id": "a70804a0-dd6c-4998-b139-90b94af180dc",
   "metadata": {},
   "outputs": [
    {
     "data": {
      "text/plain": [
       "True"
      ]
     },
     "execution_count": 3,
     "metadata": {},
     "output_type": "execute_result"
    }
   ],
   "source": [
    "True or False"
   ]
  },
  {
   "cell_type": "code",
   "execution_count": 4,
   "id": "f4ba6c76-660d-4582-a517-8400b2727312",
   "metadata": {},
   "outputs": [
    {
     "name": "stdout",
     "output_type": "stream",
     "text": [
      "Defined value of START = True\n",
      "Defined value of START = False\n",
      "\n",
      "Defined value of START = True\n",
      "Defined value of START = False\n",
      "\n",
      "Defined value of START = True\n",
      "Defined value of START = False\n",
      "\n"
     ]
    }
   ],
   "source": [
    "# lets define two variables having boolean values true or false\n",
    "START = True\n",
    "STOP = False\n",
    "\n",
    "# print the value as it is\n",
    "print(f\"Defined value of START = {START}\")\n",
    "print(f\"Defined value of START = {STOP}\\n\")\n",
    "\n",
    "# if can also be written as -\n",
    "print(f\"Defined value of START = {START}\")\n",
    "print(f\"Defined value of START = {not START}\\n\")\n",
    "\n",
    "#alternative\n",
    "print(f\"Defined value of START = {not STOP}\")\n",
    "print(f\"Defined value of START = {STOP}\\n\")"
   ]
  },
  {
   "cell_type": "code",
   "execution_count": 5,
   "id": "19737ae2-6d39-46cd-a322-a5c29b254608",
   "metadata": {},
   "outputs": [
    {
     "data": {
      "text/plain": [
       "False"
      ]
     },
     "execution_count": 5,
     "metadata": {},
     "output_type": "execute_result"
    }
   ],
   "source": [
    "not True"
   ]
  },
  {
   "cell_type": "code",
   "execution_count": 6,
   "id": "7adb06ff-2fa2-4d59-9645-7d15295c1128",
   "metadata": {},
   "outputs": [
    {
     "data": {
      "text/plain": [
       "True"
      ]
     },
     "execution_count": 6,
     "metadata": {},
     "output_type": "execute_result"
    }
   ],
   "source": [
    "not bool(0)"
   ]
  },
  {
   "cell_type": "code",
   "execution_count": 7,
   "id": "010df1ea-5aa9-4ccf-bc8e-fef0a6e90afd",
   "metadata": {},
   "outputs": [
    {
     "data": {
      "text/plain": [
       "True"
      ]
     },
     "execution_count": 7,
     "metadata": {},
     "output_type": "execute_result"
    }
   ],
   "source": [
    "not int(bool(0))"
   ]
  },
  {
   "cell_type": "code",
   "execution_count": 8,
   "id": "caa43d5a-f994-4760-a5c2-d3d03d8f18f0",
   "metadata": {},
   "outputs": [
    {
     "data": {
      "text/plain": [
       "True"
      ]
     },
     "execution_count": 8,
     "metadata": {},
     "output_type": "execute_result"
    }
   ],
   "source": [
    "bool(1)"
   ]
  },
  {
   "cell_type": "code",
   "execution_count": 9,
   "id": "3f0bac74-1d17-43ef-83a4-5386666f1633",
   "metadata": {},
   "outputs": [
    {
     "data": {
      "text/plain": [
       "1"
      ]
     },
     "execution_count": 9,
     "metadata": {},
     "output_type": "execute_result"
    }
   ],
   "source": [
    "int(bool(1))"
   ]
  },
  {
   "cell_type": "code",
   "execution_count": 10,
   "id": "932f5bda-169d-40cc-9332-d97847a6729a",
   "metadata": {},
   "outputs": [
    {
     "data": {
      "text/plain": [
       "False"
      ]
     },
     "execution_count": 10,
     "metadata": {},
     "output_type": "execute_result"
    }
   ],
   "source": [
    "not int(bool(1))"
   ]
  },
  {
   "cell_type": "code",
   "execution_count": 11,
   "id": "2a5aa5ba-707e-4d21-9406-7d6814c741df",
   "metadata": {},
   "outputs": [
    {
     "data": {
      "text/plain": [
       "False"
      ]
     },
     "execution_count": 11,
     "metadata": {},
     "output_type": "execute_result"
    }
   ],
   "source": [
    "not 1"
   ]
  },
  {
   "cell_type": "code",
   "execution_count": 12,
   "id": "47908762-3830-49d7-ad46-27e7059ab5f8",
   "metadata": {},
   "outputs": [
    {
     "data": {
      "text/plain": [
       "True"
      ]
     },
     "execution_count": 12,
     "metadata": {},
     "output_type": "execute_result"
    }
   ],
   "source": [
    "not 0"
   ]
  },
  {
   "cell_type": "code",
   "execution_count": 13,
   "id": "04f89049-27ff-4534-8b3d-42513f30a977",
   "metadata": {},
   "outputs": [
    {
     "data": {
      "text/plain": [
       "1"
      ]
     },
     "execution_count": 13,
     "metadata": {},
     "output_type": "execute_result"
    }
   ],
   "source": [
    "int (not 0)"
   ]
  },
  {
   "cell_type": "code",
   "execution_count": 14,
   "id": "761844a8-0222-4de6-aa57-7281bfa21724",
   "metadata": {},
   "outputs": [
    {
     "data": {
      "text/plain": [
       "False"
      ]
     },
     "execution_count": 14,
     "metadata": {},
     "output_type": "execute_result"
    }
   ],
   "source": [
    "not 2"
   ]
  },
  {
   "cell_type": "code",
   "execution_count": 15,
   "id": "6237abc0-cfa0-463c-944e-ec3713ef7d45",
   "metadata": {},
   "outputs": [
    {
     "data": {
      "text/plain": [
       "False"
      ]
     },
     "execution_count": 15,
     "metadata": {},
     "output_type": "execute_result"
    }
   ],
   "source": [
    "not 3"
   ]
  },
  {
   "cell_type": "code",
   "execution_count": 16,
   "id": "757d81ac-cb7b-460c-8b21-13092c234682",
   "metadata": {},
   "outputs": [
    {
     "data": {
      "text/plain": [
       "False"
      ]
     },
     "execution_count": 16,
     "metadata": {},
     "output_type": "execute_result"
    }
   ],
   "source": [
    "not -1"
   ]
  },
  {
   "cell_type": "code",
   "execution_count": 17,
   "id": "e0042b3e-69bf-47ec-88f2-e5685cf95808",
   "metadata": {},
   "outputs": [
    {
     "name": "stdout",
     "output_type": "stream",
     "text": [
      "Defined value of START = 1\n",
      "Defined value of START = 0\n",
      "\n",
      "Defined value of START = 1\n",
      "Defined value of START = 0\n",
      "\n",
      "Defined value of START = 1\n",
      "Defined value of START = 0\n",
      "\n"
     ]
    }
   ],
   "source": [
    "START= 1\n",
    "STOP= 0\n",
    "\n",
    "# print the value as it is\n",
    "print(f\"Defined value of START = {START}\")\n",
    "print(f\"Defined value of START = {STOP}\\n\")\n",
    "\n",
    "# if can also be written as -\n",
    "print(f\"Defined value of START = {START}\")\n",
    "print(f\"Defined value of START = {int(not START)}\\n\")\n",
    "\n",
    "#alternative\n",
    "print(f\"Defined value of START = {int(not STOP)}\")\n",
    "print(f\"Defined value of START = {STOP}\\n\")"
   ]
  },
  {
   "cell_type": "code",
   "execution_count": 19,
   "id": "1e045624-9d0e-470a-bb0d-e56f21c51584",
   "metadata": {},
   "outputs": [
    {
     "name": "stdout",
     "output_type": "stream",
     "text": [
      " boolean value os no. 0 is False\n",
      "boolean value of no. 1 is True\n",
      "negation of 0 is True and negation of 1 is False\n",
      "\n",
      "....................................\n",
      "\n"
     ]
    }
   ],
   "source": [
    "# negation means not or negative\n",
    "zero = 0\n",
    "one = 1\n",
    "\n",
    "print(f\" boolean value os no. {zero} is {bool(zero)}\")\n",
    "print(f\"boolean value of no. {one} is {bool(one)}\")\n",
    "print(f\"negation of {zero} is {not zero} and negation of {one} is {not one}\")\n",
    "print(\"\\n....................................\\n\")"
   ]
  },
  {
   "cell_type": "code",
   "execution_count": 20,
   "id": "001d432a-11ec-40f6-8a42-3d7e52e9cb1b",
   "metadata": {},
   "outputs": [
    {
     "name": "stdout",
     "output_type": "stream",
     "text": [
      " boolean value os no. -5 is True\n",
      "boolean value of no. 5 is True\n",
      "negation of -5 is False and negation of 5 is False\n",
      "\n",
      "....................................\n",
      "\n"
     ]
    }
   ],
   "source": [
    "Some_negative_integer = -5\n",
    "Some_positive_integer = 5\n",
    "\n",
    "print(f\" boolean value os no. {Some_negative_integer} is {bool(Some_negative_integer)}\")\n",
    "print(f\"boolean value of no. {Some_positive_integer } is {bool(Some_positive_integer )}\")\n",
    "print(f\"negation of {Some_negative_integer} is {not Some_negative_integer} and negation of {Some_positive_integer } is {not Some_positive_integer }\")\n",
    "print(\"\\n....................................\\n\")"
   ]
  },
  {
   "cell_type": "code",
   "execution_count": 21,
   "id": "c2a9680b-2356-4387-8cec-507914ab010a",
   "metadata": {},
   "outputs": [
    {
     "data": {
      "text/plain": [
       "True"
      ]
     },
     "execution_count": 21,
     "metadata": {},
     "output_type": "execute_result"
    }
   ],
   "source": [
    "bool(-5)"
   ]
  },
  {
   "cell_type": "code",
   "execution_count": 22,
   "id": "cb806213-9193-408a-b42c-be6b8ccd6499",
   "metadata": {},
   "outputs": [
    {
     "data": {
      "text/plain": [
       "False"
      ]
     },
     "execution_count": 22,
     "metadata": {},
     "output_type": "execute_result"
    }
   ],
   "source": [
    "not (-5)"
   ]
  },
  {
   "cell_type": "code",
   "execution_count": 23,
   "id": "a108c5c3-0c78-43f6-bef0-f8248cc91c1c",
   "metadata": {},
   "outputs": [
    {
     "data": {
      "text/plain": [
       "False"
      ]
     },
     "execution_count": 23,
     "metadata": {},
     "output_type": "execute_result"
    }
   ],
   "source": [
    "not 5"
   ]
  },
  {
   "cell_type": "code",
   "execution_count": 25,
   "id": "b09bc7e0-8ce5-47ea-a443-43938f120756",
   "metadata": {},
   "outputs": [
    {
     "name": "stdout",
     "output_type": "stream",
     "text": [
      " boolean value os no. -5.99 is True\n",
      "boolean value of no. 5.6 is True\n",
      "negation of -5.99 is False and negation of 5.6 is False\n",
      "\n",
      "....................................\n",
      "\n"
     ]
    }
   ],
   "source": [
    "Some_negative_float= -5.99\n",
    "Some_positive_float= 5.6\n",
    "\n",
    "print(f\" boolean value os no. {Some_negative_float} is {bool(Some_negative_float)}\")\n",
    "print(f\"boolean value of no. {Some_positive_float } is {bool(Some_positive_float )}\")\n",
    "print(f\"negation of {Some_negative_float} is {not Some_negative_float} and negation of {Some_positive_float } is {not Some_positive_float }\")\n",
    "print(\"\\n....................................\\n\")"
   ]
  },
  {
   "cell_type": "code",
   "execution_count": 26,
   "id": "6ae3f460-8a6b-4205-af91-03388f2ae2ef",
   "metadata": {},
   "outputs": [
    {
     "name": "stdout",
     "output_type": "stream",
     "text": [
      "dish contain vegetable: True\n",
      "dish contain salt: False\n",
      "hence dish prepared was good: False\n"
     ]
    }
   ],
   "source": [
    "vegetables= True\n",
    "salt= False\n",
    "dish= vegetables and salt\n",
    "\n",
    "print(f\"dish contain vegetable: {vegetables}\")\n",
    "print(f\"dish contain salt: {salt}\")\n",
    "print(f\"hence dish prepared was good: {dish}\")"
   ]
  },
  {
   "cell_type": "code",
   "execution_count": 29,
   "id": "b9e722cc-580d-480b-b8bf-0e4c92ec6104",
   "metadata": {},
   "outputs": [
    {
     "data": {
      "text/plain": [
       "0"
      ]
     },
     "execution_count": 29,
     "metadata": {},
     "output_type": "execute_result"
    }
   ],
   "source": [
    "False * True"
   ]
  },
  {
   "cell_type": "code",
   "execution_count": 30,
   "id": "3f23336f-b32c-4ff8-b2fd-9f766df24632",
   "metadata": {},
   "outputs": [
    {
     "data": {
      "text/plain": [
       "True"
      ]
     },
     "execution_count": 30,
     "metadata": {},
     "output_type": "execute_result"
    }
   ],
   "source": [
    "not (False) * True"
   ]
  },
  {
   "cell_type": "code",
   "execution_count": 31,
   "id": "c4f63216-189f-4024-b687-ba6cac9001d0",
   "metadata": {},
   "outputs": [
    {
     "data": {
      "text/plain": [
       "0"
      ]
     },
     "execution_count": 31,
     "metadata": {},
     "output_type": "execute_result"
    }
   ],
   "source": [
    "False* False"
   ]
  },
  {
   "cell_type": "code",
   "execution_count": 33,
   "id": "eb3bf3bb-827d-45e5-b5bc-828c2aa49516",
   "metadata": {},
   "outputs": [
    {
     "data": {
      "text/plain": [
       "0"
      ]
     },
     "execution_count": 33,
     "metadata": {},
     "output_type": "execute_result"
    }
   ],
   "source": [
    "## bodmas rule\n",
    "False * (not(False))"
   ]
  },
  {
   "cell_type": "code",
   "execution_count": 34,
   "id": "6589eae0-a0b8-4171-94b8-3ef37592f760",
   "metadata": {},
   "outputs": [
    {
     "name": "stdout",
     "output_type": "stream",
     "text": [
      "0\n"
     ]
    }
   ],
   "source": [
    "print((not(False))* False)"
   ]
  },
  {
   "cell_type": "code",
   "execution_count": 35,
   "id": "2f5fbbec-da28-4662-95e3-c9411d503554",
   "metadata": {},
   "outputs": [
    {
     "data": {
      "text/plain": [
       "True"
      ]
     },
     "execution_count": 35,
     "metadata": {},
     "output_type": "execute_result"
    }
   ],
   "source": [
    "not False* True == True"
   ]
  },
  {
   "cell_type": "code",
   "execution_count": 37,
   "id": "d5e4067f-7e03-44d2-aac6-1b1499c20313",
   "metadata": {},
   "outputs": [],
   "source": [
    "lst_a=[1,2,3,4]\n",
    "lst_b=[1,2,3,4]\n"
   ]
  },
  {
   "cell_type": "code",
   "execution_count": 39,
   "id": "19c6ea73-61a5-41a1-aa6a-e246fe7d7e6c",
   "metadata": {},
   "outputs": [
    {
     "name": "stdout",
     "output_type": "stream",
     "text": [
      "139942719336704\n",
      "139942353266688\n"
     ]
    }
   ],
   "source": [
    "#id - where the data stored (in your RAM)\n",
    "\n",
    "print(id(lst_a))\n",
    "print(id(lst_b))"
   ]
  },
  {
   "cell_type": "code",
   "execution_count": 40,
   "id": "8f32de5b-3d21-4c12-b8d3-5993f2322154",
   "metadata": {},
   "outputs": [
    {
     "data": {
      "text/plain": [
       "False"
      ]
     },
     "execution_count": 40,
     "metadata": {},
     "output_type": "execute_result"
    }
   ],
   "source": [
    "lst_a is lst_b"
   ]
  },
  {
   "cell_type": "code",
   "execution_count": 43,
   "id": "c2b2d998-c1db-46e8-bc85-955380db4ada",
   "metadata": {},
   "outputs": [
    {
     "name": "stdout",
     "output_type": "stream",
     "text": [
      "139942353266688\n",
      "139942353266688\n"
     ]
    }
   ],
   "source": [
    "lst_a= lst_b\n",
    "\n",
    "print(id(lst_a))\n",
    "print(id(lst_b))"
   ]
  },
  {
   "cell_type": "code",
   "execution_count": 44,
   "id": "e7ebc877-7c3d-4858-b74c-4ec371003ed8",
   "metadata": {},
   "outputs": [
    {
     "data": {
      "text/plain": [
       "True"
      ]
     },
     "execution_count": 44,
     "metadata": {},
     "output_type": "execute_result"
    }
   ],
   "source": [
    "lst_a is lst_b"
   ]
  },
  {
   "cell_type": "code",
   "execution_count": 45,
   "id": "192c11f0-e9c0-49d2-9d0e-f487c2a0610b",
   "metadata": {},
   "outputs": [],
   "source": [
    "lst_a=[1,2,3,4]\n",
    "lst_b=[1,2,3,4]"
   ]
  },
  {
   "cell_type": "code",
   "execution_count": 46,
   "id": "aa14bbce-4fb7-48e4-b284-f272399c4d66",
   "metadata": {},
   "outputs": [
    {
     "data": {
      "text/plain": [
       "True"
      ]
     },
     "execution_count": 46,
     "metadata": {},
     "output_type": "execute_result"
    }
   ],
   "source": [
    "lst_a is not lst_b"
   ]
  },
  {
   "cell_type": "code",
   "execution_count": 49,
   "id": "5275c789-bf0d-47ec-99a8-ba74a263428c",
   "metadata": {},
   "outputs": [
    {
     "data": {
      "text/plain": [
       "True"
      ]
     },
     "execution_count": 49,
     "metadata": {},
     "output_type": "execute_result"
    }
   ],
   "source": [
    "lst_a == lst_b"
   ]
  },
  {
   "cell_type": "code",
   "execution_count": 50,
   "id": "ef86acc8-a93e-490f-bf89-c0b0fa939ccc",
   "metadata": {},
   "outputs": [],
   "source": [
    "a= 2\n",
    "b= 2"
   ]
  },
  {
   "cell_type": "code",
   "execution_count": 51,
   "id": "45ce7b2a-e149-4201-8e78-f1f8d8b83cfa",
   "metadata": {},
   "outputs": [
    {
     "name": "stdout",
     "output_type": "stream",
     "text": [
      "139942836912400\n",
      "139942836912400\n"
     ]
    }
   ],
   "source": [
    "print(id(a))\n",
    "print(id(b))"
   ]
  },
  {
   "cell_type": "code",
   "execution_count": 52,
   "id": "06a43934-8846-430e-993d-7472c2bcc4d7",
   "metadata": {},
   "outputs": [
    {
     "name": "stdout",
     "output_type": "stream",
     "text": [
      "139942353701616\n",
      "139942353701616\n"
     ]
    }
   ],
   "source": [
    "str1= \"Ash\"\n",
    "str2= \"Ash\"\n",
    "\n",
    "print(id(str1))\n",
    "print(id(str2))"
   ]
  },
  {
   "cell_type": "code",
   "execution_count": 53,
   "id": "43bc0742-c597-435a-bcd5-16b585e2276e",
   "metadata": {},
   "outputs": [
    {
     "data": {
      "text/plain": [
       "[1, 2, 3, 4]"
      ]
     },
     "execution_count": 53,
     "metadata": {},
     "output_type": "execute_result"
    }
   ],
   "source": [
    "lst_a"
   ]
  },
  {
   "cell_type": "code",
   "execution_count": 60,
   "id": "4e96c4cd-5288-4563-93d5-a82d6bb76193",
   "metadata": {},
   "outputs": [
    {
     "data": {
      "text/plain": [
       "3"
      ]
     },
     "execution_count": 60,
     "metadata": {},
     "output_type": "execute_result"
    }
   ],
   "source": [
    "lst_a[2]"
   ]
  },
  {
   "cell_type": "code",
   "execution_count": 61,
   "id": "80c819fb-0e48-4365-85b9-d0f2e68ccb2c",
   "metadata": {},
   "outputs": [
    {
     "data": {
      "text/plain": [
       "'A'"
      ]
     },
     "execution_count": 61,
     "metadata": {},
     "output_type": "execute_result"
    }
   ],
   "source": [
    "str1[0]"
   ]
  },
  {
   "cell_type": "code",
   "execution_count": 64,
   "id": "97c08886-acce-4ada-8805-d83a70a5a374",
   "metadata": {},
   "outputs": [
    {
     "ename": "TypeError",
     "evalue": "'str' object does not support item assignment",
     "output_type": "error",
     "traceback": [
      "\u001b[0;31m---------------------------------------------------------------------------\u001b[0m",
      "\u001b[0;31mTypeError\u001b[0m                                 Traceback (most recent call last)",
      "Cell \u001b[0;32mIn[64], line 1\u001b[0m\n\u001b[0;32m----> 1\u001b[0m \u001b[43mstr1\u001b[49m\u001b[43m[\u001b[49m\u001b[38;5;241;43m0\u001b[39;49m\u001b[43m]\u001b[49m\u001b[38;5;241m=\u001b[39m \u001b[38;5;124m\"\u001b[39m\u001b[38;5;124mN\u001b[39m\u001b[38;5;124m\"\u001b[39m\n",
      "\u001b[0;31mTypeError\u001b[0m: 'str' object does not support item assignment"
     ]
    }
   ],
   "source": [
    "str1[0]= \"N\" ## immutable, cannot change the element"
   ]
  },
  {
   "cell_type": "code",
   "execution_count": 1,
   "id": "f48db2f0-7897-408b-becc-a1c78966771c",
   "metadata": {},
   "outputs": [
    {
     "name": "stdout",
     "output_type": "stream",
     "text": [
      "bike is faster than car : False\n"
     ]
    }
   ],
   "source": [
    "## comparison operation\n",
    "\n",
    "maximum_speed_of_bike= 150\n",
    "maximum_speed_of_car= 200\n",
    "\n",
    "print(f\"bike is faster than car : {maximum_speed_of_bike > maximum_speed_of_car}\")"
   ]
  },
  {
   "cell_type": "code",
   "execution_count": 2,
   "id": "b8bd1ff1-2b30-4a7f-9fe4-bdcf094efddd",
   "metadata": {},
   "outputs": [],
   "source": [
    "## arithmetic operations\n",
    "a= 25\n",
    "b= 101\n",
    "\n",
    "    "
   ]
  },
  {
   "cell_type": "code",
   "execution_count": 3,
   "id": "4dfeb39c-8258-4d35-b771-06728a9508c9",
   "metadata": {},
   "outputs": [
    {
     "data": {
      "text/plain": [
       "2525"
      ]
     },
     "execution_count": 3,
     "metadata": {},
     "output_type": "execute_result"
    }
   ],
   "source": [
    "b*a"
   ]
  },
  {
   "cell_type": "code",
   "execution_count": 4,
   "id": "3db90296-3064-4fba-9601-52d3f748febb",
   "metadata": {},
   "outputs": [
    {
     "data": {
      "text/plain": [
       "126"
      ]
     },
     "execution_count": 4,
     "metadata": {},
     "output_type": "execute_result"
    }
   ],
   "source": [
    "b+a"
   ]
  },
  {
   "cell_type": "code",
   "execution_count": 5,
   "id": "84ba33be-89e3-4359-9a19-9f482240447a",
   "metadata": {},
   "outputs": [
    {
     "data": {
      "text/plain": [
       "4.04"
      ]
     },
     "execution_count": 5,
     "metadata": {},
     "output_type": "execute_result"
    }
   ],
   "source": [
    "b/a"
   ]
  },
  {
   "cell_type": "code",
   "execution_count": 6,
   "id": "fe733c97-5ad6-4ee0-90da-f13eb2d4d2c0",
   "metadata": {},
   "outputs": [
    {
     "data": {
      "text/plain": [
       "0"
      ]
     },
     "execution_count": 6,
     "metadata": {},
     "output_type": "execute_result"
    }
   ],
   "source": [
    "a//b"
   ]
  },
  {
   "cell_type": "code",
   "execution_count": 7,
   "id": "137116b4-c138-4829-b6f6-1db0e67d6996",
   "metadata": {},
   "outputs": [
    {
     "data": {
      "text/plain": [
       "4"
      ]
     },
     "execution_count": 7,
     "metadata": {},
     "output_type": "execute_result"
    }
   ],
   "source": [
    "b//a"
   ]
  },
  {
   "cell_type": "code",
   "execution_count": 8,
   "id": "7c51327c-f068-43a4-84f7-0862bbbe1759",
   "metadata": {},
   "outputs": [
    {
     "data": {
      "text/plain": [
       "4.04"
      ]
     },
     "execution_count": 8,
     "metadata": {},
     "output_type": "execute_result"
    }
   ],
   "source": [
    "b/a"
   ]
  },
  {
   "cell_type": "code",
   "execution_count": 9,
   "id": "d45e195e-448b-4e19-9249-6cfde708f9a3",
   "metadata": {},
   "outputs": [
    {
     "data": {
      "text/plain": [
       "1"
      ]
     },
     "execution_count": 9,
     "metadata": {},
     "output_type": "execute_result"
    }
   ],
   "source": [
    "b%a"
   ]
  },
  {
   "cell_type": "code",
   "execution_count": 10,
   "id": "9ef4e1f6-bbbc-4dcc-9259-f2fbfa117ad5",
   "metadata": {},
   "outputs": [
    {
     "data": {
      "text/plain": [
       "25"
      ]
     },
     "execution_count": 10,
     "metadata": {},
     "output_type": "execute_result"
    }
   ],
   "source": [
    "#display remainder\n",
    "a%b"
   ]
  },
  {
   "cell_type": "markdown",
   "id": "da4685a5-6364-43cc-9ab5-1356d7327d96",
   "metadata": {
    "tags": []
   },
   "source": [
    "## bitwise operators"
   ]
  },
  {
   "cell_type": "code",
   "execution_count": 11,
   "id": "af296744-4db2-4b86-858f-c6d9282810f8",
   "metadata": {},
   "outputs": [],
   "source": [
    "## learn binary number - home work"
   ]
  },
  {
   "cell_type": "code",
   "execution_count": 12,
   "id": "4e34da38-7623-4e52-9b22-bf7616cf52f1",
   "metadata": {},
   "outputs": [
    {
     "data": {
      "text/plain": [
       "'0b1010'"
      ]
     },
     "execution_count": 12,
     "metadata": {},
     "output_type": "execute_result"
    }
   ],
   "source": [
    "var= 10\n",
    "bin(var)"
   ]
  },
  {
   "cell_type": "code",
   "execution_count": 13,
   "id": "dd05a375-df75-4570-9776-be3287dc8c7c",
   "metadata": {},
   "outputs": [],
   "source": [
    "## 0b indicates binary"
   ]
  },
  {
   "cell_type": "code",
   "execution_count": 2,
   "id": "c835b5fc-3720-4aaf-9fae-8222d98b5f9d",
   "metadata": {},
   "outputs": [],
   "source": [
    "# ~ bitwise compliment (prefix unary operator)\n"
   ]
  },
  {
   "cell_type": "code",
   "execution_count": 5,
   "id": "6155865c-6682-4c10-98ad-47a20c76c029",
   "metadata": {},
   "outputs": [
    {
     "data": {
      "text/plain": [
       "-11"
      ]
     },
     "execution_count": 5,
     "metadata": {},
     "output_type": "execute_result"
    }
   ],
   "source": [
    "var= 10\n",
    "~var"
   ]
  },
  {
   "cell_type": "code",
   "execution_count": 6,
   "id": "76fd5250-2f82-41d6-b528-79e4d79a0bbb",
   "metadata": {},
   "outputs": [
    {
     "data": {
      "text/plain": [
       "False"
      ]
     },
     "execution_count": 6,
     "metadata": {},
     "output_type": "execute_result"
    }
   ],
   "source": [
    "True & False"
   ]
  },
  {
   "cell_type": "code",
   "execution_count": 7,
   "id": "48ee26f5-7f14-4242-9962-18f12a8e45a0",
   "metadata": {},
   "outputs": [
    {
     "data": {
      "text/plain": [
       "True"
      ]
     },
     "execution_count": 7,
     "metadata": {},
     "output_type": "execute_result"
    }
   ],
   "source": [
    "True| False"
   ]
  },
  {
   "cell_type": "code",
   "execution_count": 8,
   "id": "a7dcc5af-fb10-41c5-aa32-966093802e3f",
   "metadata": {},
   "outputs": [
    {
     "data": {
      "text/plain": [
       "5"
      ]
     },
     "execution_count": 8,
     "metadata": {},
     "output_type": "execute_result"
    }
   ],
   "source": [
    "var >> 1  "
   ]
  },
  {
   "cell_type": "code",
   "execution_count": 9,
   "id": "5af11d1e-70a6-41f8-8fe1-bfa96538dcda",
   "metadata": {},
   "outputs": [],
   "source": [
    "## because  binary of 10 is 1010\n",
    "## now shift 1 in last it become 0101 and i.e 5"
   ]
  },
  {
   "cell_type": "code",
   "execution_count": 11,
   "id": "d05c065e-46bf-4e40-b96c-4b9a8254bf12",
   "metadata": {},
   "outputs": [
    {
     "data": {
      "text/plain": [
       "20"
      ]
     },
     "execution_count": 11,
     "metadata": {},
     "output_type": "execute_result"
    }
   ],
   "source": [
    "var<< 1"
   ]
  },
  {
   "cell_type": "code",
   "execution_count": null,
   "id": "6d546ca4-8138-45c8-9f6e-995a14de3ffe",
   "metadata": {},
   "outputs": [],
   "source": [
    "## 1 shift to first i.e 10100"
   ]
  },
  {
   "cell_type": "markdown",
   "id": "07e8ae93-fe7c-4d40-8d63-3b66648ec402",
   "metadata": {},
   "source": [
    "## strings"
   ]
  },
  {
   "cell_type": "code",
   "execution_count": 12,
   "id": "0afeef76-6b6f-423a-b182-13dbdd3f9f46",
   "metadata": {},
   "outputs": [
    {
     "data": {
      "text/plain": [
       "'Ashish'"
      ]
     },
     "execution_count": 12,
     "metadata": {},
     "output_type": "execute_result"
    }
   ],
   "source": [
    "\"\"\n",
    "''\n",
    "\"Ashish\"\n",
    "'Ashish'"
   ]
  },
  {
   "cell_type": "code",
   "execution_count": 13,
   "id": "9520c4da-477c-4b4a-9ac3-acfd317c7c5e",
   "metadata": {},
   "outputs": [],
   "source": [
    "str1= \"Welcome to data science master\""
   ]
  },
  {
   "cell_type": "code",
   "execution_count": 14,
   "id": "d876367c-f57b-4dce-90f6-208e9dbf941c",
   "metadata": {},
   "outputs": [
    {
     "data": {
      "text/plain": [
       "str"
      ]
     },
     "execution_count": 14,
     "metadata": {},
     "output_type": "execute_result"
    }
   ],
   "source": [
    "type(str1)"
   ]
  },
  {
   "cell_type": "code",
   "execution_count": 15,
   "id": "e4d2a4f5-c50f-4c38-b0e8-f7dd5511c2f7",
   "metadata": {},
   "outputs": [
    {
     "data": {
      "text/plain": [
       "'W'"
      ]
     },
     "execution_count": 15,
     "metadata": {},
     "output_type": "execute_result"
    }
   ],
   "source": [
    "str1[0]"
   ]
  },
  {
   "cell_type": "code",
   "execution_count": 16,
   "id": "e4c67924-8ed7-4a71-9445-a1d08f67d3cf",
   "metadata": {},
   "outputs": [
    {
     "ename": "NameError",
     "evalue": "name 'v' is not defined",
     "output_type": "error",
     "traceback": [
      "\u001b[0;31m---------------------------------------------------------------------------\u001b[0m",
      "\u001b[0;31mNameError\u001b[0m                                 Traceback (most recent call last)",
      "Cell \u001b[0;32mIn[16], line 1\u001b[0m\n\u001b[0;32m----> 1\u001b[0m str1[\u001b[38;5;241m0\u001b[39m] \u001b[38;5;241m=\u001b[39m \u001b[43mv\u001b[49m\n",
      "\u001b[0;31mNameError\u001b[0m: name 'v' is not defined"
     ]
    }
   ],
   "source": [
    "str1[0] = v"
   ]
  },
  {
   "cell_type": "code",
   "execution_count": 17,
   "id": "6604df61-59a1-4d4e-8392-423d096a7b5e",
   "metadata": {},
   "outputs": [],
   "source": [
    "## string are immutable i.e it doesnt change \n",
    "## but we can replace entire string with something else"
   ]
  },
  {
   "cell_type": "code",
   "execution_count": 18,
   "id": "f0bc7a48-1b46-4d17-b4f0-27974f4c166d",
   "metadata": {},
   "outputs": [],
   "source": [
    "str1=\"Ashish\""
   ]
  },
  {
   "cell_type": "code",
   "execution_count": 19,
   "id": "47bda51f-e268-4fe3-b907-157e8785f416",
   "metadata": {},
   "outputs": [
    {
     "data": {
      "text/plain": [
       "'Ashish'"
      ]
     },
     "execution_count": 19,
     "metadata": {},
     "output_type": "execute_result"
    }
   ],
   "source": [
    "str1"
   ]
  },
  {
   "cell_type": "code",
   "execution_count": 20,
   "id": "8739d848-b15a-4075-b391-e2c81a866d5e",
   "metadata": {},
   "outputs": [],
   "source": [
    "string= \"Pw skills Data Science\""
   ]
  },
  {
   "cell_type": "code",
   "execution_count": 21,
   "id": "033ca0af-8218-4df5-ab3c-ad8fe133dfcd",
   "metadata": {},
   "outputs": [
    {
     "data": {
      "text/plain": [
       "'i'"
      ]
     },
     "execution_count": 21,
     "metadata": {},
     "output_type": "execute_result"
    }
   ],
   "source": [
    "string[5]"
   ]
  },
  {
   "cell_type": "code",
   "execution_count": 22,
   "id": "e5f554c5-aac6-4bde-91ed-f658fa1184d5",
   "metadata": {},
   "outputs": [
    {
     "data": {
      "text/plain": [
       "'ills Data Science'"
      ]
     },
     "execution_count": 22,
     "metadata": {},
     "output_type": "execute_result"
    }
   ],
   "source": [
    "## slice operation\n",
    "string[5:]"
   ]
  },
  {
   "cell_type": "code",
   "execution_count": 23,
   "id": "85f6d1e1-a518-487f-8d4f-282a6252c9d1",
   "metadata": {},
   "outputs": [
    {
     "data": {
      "text/plain": [
       "'ills D'"
      ]
     },
     "execution_count": 23,
     "metadata": {},
     "output_type": "execute_result"
    }
   ],
   "source": [
    "string[5:11]"
   ]
  },
  {
   "cell_type": "code",
   "execution_count": 25,
   "id": "c954a521-b402-40ad-a624-821b801041ff",
   "metadata": {},
   "outputs": [
    {
     "data": {
      "text/plain": [
       "'e'"
      ]
     },
     "execution_count": 25,
     "metadata": {},
     "output_type": "execute_result"
    }
   ],
   "source": [
    "string[-1]"
   ]
  },
  {
   "cell_type": "code",
   "execution_count": 26,
   "id": "69c0e015-f9de-4f7e-aafc-eb72232db7a0",
   "metadata": {},
   "outputs": [
    {
     "data": {
      "text/plain": [
       "'e'"
      ]
     },
     "execution_count": 26,
     "metadata": {},
     "output_type": "execute_result"
    }
   ],
   "source": [
    "string[-1:]"
   ]
  },
  {
   "cell_type": "code",
   "execution_count": 27,
   "id": "12d1abb0-3b59-4b22-9b4c-7269b4ea4749",
   "metadata": {},
   "outputs": [
    {
     "data": {
      "text/plain": [
       "'nce'"
      ]
     },
     "execution_count": 27,
     "metadata": {},
     "output_type": "execute_result"
    }
   ],
   "source": [
    "string[-3:]"
   ]
  },
  {
   "cell_type": "code",
   "execution_count": 28,
   "id": "8ea371e6-f39a-459d-85cc-24e4f1d122ae",
   "metadata": {},
   "outputs": [
    {
     "data": {
      "text/plain": [
       "'Science'"
      ]
     },
     "execution_count": 28,
     "metadata": {},
     "output_type": "execute_result"
    }
   ],
   "source": [
    "string[-7:]"
   ]
  },
  {
   "cell_type": "code",
   "execution_count": 29,
   "id": "e4ac1bf5-7147-423e-8536-d7835cabf7f9",
   "metadata": {},
   "outputs": [
    {
     "data": {
      "text/plain": [
       "'Scie'"
      ]
     },
     "execution_count": 29,
     "metadata": {},
     "output_type": "execute_result"
    }
   ],
   "source": [
    "string[-7:-3]"
   ]
  },
  {
   "cell_type": "code",
   "execution_count": 30,
   "id": "a6331798-6d37-4a6c-985d-1926809f21b6",
   "metadata": {},
   "outputs": [
    {
     "data": {
      "text/plain": [
       "''"
      ]
     },
     "execution_count": 30,
     "metadata": {},
     "output_type": "execute_result"
    }
   ],
   "source": [
    "string[-7:5]"
   ]
  },
  {
   "cell_type": "code",
   "execution_count": 31,
   "id": "ffea9058-2dbf-4cc7-aa11-55ac3d94d921",
   "metadata": {},
   "outputs": [
    {
     "data": {
      "text/plain": [
       "''"
      ]
     },
     "execution_count": 31,
     "metadata": {},
     "output_type": "execute_result"
    }
   ],
   "source": [
    "string[7:5]\n"
   ]
  },
  {
   "cell_type": "code",
   "execution_count": 34,
   "id": "0c67c238-0701-4b75-a29b-d96255182463",
   "metadata": {},
   "outputs": [
    {
     "data": {
      "text/plain": [
       "'Pw skills Data Scienc'"
      ]
     },
     "execution_count": 34,
     "metadata": {},
     "output_type": "execute_result"
    }
   ],
   "source": [
    "string[:-1]"
   ]
  },
  {
   "cell_type": "code",
   "execution_count": 35,
   "id": "70e0649c-ab10-4b87-b438-8133368ae621",
   "metadata": {},
   "outputs": [
    {
     "data": {
      "text/plain": [
       "'Pw skills Data Science'"
      ]
     },
     "execution_count": 35,
     "metadata": {},
     "output_type": "execute_result"
    }
   ],
   "source": [
    "string[:]"
   ]
  },
  {
   "cell_type": "code",
   "execution_count": 36,
   "id": "5f1dd89f-3c12-4f52-90c4-d3780384ad26",
   "metadata": {},
   "outputs": [
    {
     "data": {
      "text/plain": [
       "'rt'"
      ]
     },
     "execution_count": 36,
     "metadata": {},
     "output_type": "execute_result"
    }
   ],
   "source": [
    "name= \"karthik\"\n",
    "name[-5:4]"
   ]
  },
  {
   "cell_type": "code",
   "execution_count": 37,
   "id": "d866f987-7229-4e51-9fb5-78bf9175b35f",
   "metadata": {},
   "outputs": [
    {
     "data": {
      "text/plain": [
       "'Pw skills Data Science'"
      ]
     },
     "execution_count": 37,
     "metadata": {},
     "output_type": "execute_result"
    }
   ],
   "source": [
    "string"
   ]
  },
  {
   "cell_type": "code",
   "execution_count": 38,
   "id": "49a0e00e-ea9d-412a-927c-70436ba1dc8c",
   "metadata": {},
   "outputs": [
    {
     "data": {
      "text/plain": [
       "'Pw skills Data Science'"
      ]
     },
     "execution_count": 38,
     "metadata": {},
     "output_type": "execute_result"
    }
   ],
   "source": [
    "string[::]"
   ]
  },
  {
   "cell_type": "code",
   "execution_count": 39,
   "id": "c2abcc7b-cfa7-4487-a2cd-fdc158a7b5f2",
   "metadata": {},
   "outputs": [
    {
     "data": {
      "text/plain": [
       "'ecneicS ataD slliks wP'"
      ]
     },
     "execution_count": 39,
     "metadata": {},
     "output_type": "execute_result"
    }
   ],
   "source": [
    "string[::-1]"
   ]
  },
  {
   "cell_type": "code",
   "execution_count": 40,
   "id": "4c0f127a-9f1c-4e92-8307-39fab4a55144",
   "metadata": {},
   "outputs": [
    {
     "data": {
      "text/plain": [
       "'eniSaa lisw'"
      ]
     },
     "execution_count": 40,
     "metadata": {},
     "output_type": "execute_result"
    }
   ],
   "source": [
    "string[::-2]"
   ]
  },
  {
   "cell_type": "code",
   "execution_count": 3,
   "id": "28944bb6-068e-4942-acb0-29e9971ab524",
   "metadata": {},
   "outputs": [
    {
     "ename": "NameError",
     "evalue": "name 'string' is not defined",
     "output_type": "error",
     "traceback": [
      "\u001b[0;31m---------------------------------------------------------------------------\u001b[0m",
      "\u001b[0;31mNameError\u001b[0m                                 Traceback (most recent call last)",
      "Cell \u001b[0;32mIn[3], line 1\u001b[0m\n\u001b[0;32m----> 1\u001b[0m \u001b[43mstring\u001b[49m\n",
      "\u001b[0;31mNameError\u001b[0m: name 'string' is not defined"
     ]
    }
   ],
   "source": [
    "string"
   ]
  },
  {
   "cell_type": "code",
   "execution_count": 4,
   "id": "5dd83fa1-cf5b-4b11-93ae-1217ad02b75a",
   "metadata": {},
   "outputs": [],
   "source": [
    "string= \"Pw skills Data Science\""
   ]
  },
  {
   "cell_type": "code",
   "execution_count": 5,
   "id": "3ffb85d2-12bf-4fdd-8253-fc2b5274259a",
   "metadata": {},
   "outputs": [
    {
     "data": {
      "text/plain": [
       "'P klsDt cec'"
      ]
     },
     "execution_count": 5,
     "metadata": {},
     "output_type": "execute_result"
    }
   ],
   "source": [
    "string[::2]"
   ]
  },
  {
   "cell_type": "code",
   "execution_count": 6,
   "id": "20192065-0f48-446a-8497-a7b77b59eb6e",
   "metadata": {},
   "outputs": [
    {
     "data": {
      "text/plain": [
       "'s '"
      ]
     },
     "execution_count": 6,
     "metadata": {},
     "output_type": "execute_result"
    }
   ],
   "source": [
    "string[3:1:-1]"
   ]
  },
  {
   "cell_type": "code",
   "execution_count": 7,
   "id": "aa5ea221-e0c3-4658-9a27-4d123d019bd9",
   "metadata": {},
   "outputs": [],
   "source": [
    "course_name= \"data science master\""
   ]
  },
  {
   "cell_type": "code",
   "execution_count": 9,
   "id": "6bb5890b-423e-4387-8a70-b3b1d01f9404",
   "metadata": {},
   "outputs": [
    {
     "data": {
      "text/plain": [
       "'science'"
      ]
     },
     "execution_count": 9,
     "metadata": {},
     "output_type": "execute_result"
    }
   ],
   "source": [
    "course_name[5:12]"
   ]
  },
  {
   "cell_type": "code",
   "execution_count": 10,
   "id": "f02b63ec-74ad-417d-8f08-a1590912de37",
   "metadata": {},
   "outputs": [
    {
     "data": {
      "text/plain": [
       "'ecneics'"
      ]
     },
     "execution_count": 10,
     "metadata": {},
     "output_type": "execute_result"
    }
   ],
   "source": [
    "course_name[11:4:-1]"
   ]
  },
  {
   "cell_type": "code",
   "execution_count": 12,
   "id": "092052fa-cd11-4320-b3c9-dfa2a167c980",
   "metadata": {},
   "outputs": [
    {
     "data": {
      "text/plain": [
       "'data science mastercourse'"
      ]
     },
     "execution_count": 12,
     "metadata": {},
     "output_type": "execute_result"
    }
   ],
   "source": [
    "## concatenation\n",
    "\n",
    "c"
   ]
  },
  {
   "cell_type": "code",
   "execution_count": 13,
   "id": "aee18679-d779-45ce-b9e0-b11f4d7c94d3",
   "metadata": {},
   "outputs": [
    {
     "data": {
      "text/plain": [
       "'data science masterdata science masterdata science masterdata science masterdata science master'"
      ]
     },
     "execution_count": 13,
     "metadata": {},
     "output_type": "execute_result"
    }
   ],
   "source": [
    "course_name*5"
   ]
  },
  {
   "cell_type": "code",
   "execution_count": 14,
   "id": "6eafa44c-2265-45f3-a342-e1f6440263c3",
   "metadata": {},
   "outputs": [
    {
     "data": {
      "text/plain": [
       "19"
      ]
     },
     "execution_count": 14,
     "metadata": {},
     "output_type": "execute_result"
    }
   ],
   "source": [
    "len(course_name)"
   ]
  },
  {
   "cell_type": "code",
   "execution_count": 17,
   "id": "2590a0c1-d6fe-4db2-b39d-0c3db9a25469",
   "metadata": {},
   "outputs": [
    {
     "data": {
      "text/plain": [
       "1"
      ]
     },
     "execution_count": 17,
     "metadata": {},
     "output_type": "execute_result"
    }
   ],
   "source": [
    "## find function\n",
    "## answer showing index no\n",
    "\n",
    "course_name.find(\"a\")\n"
   ]
  },
  {
   "cell_type": "code",
   "execution_count": 18,
   "id": "8da6d892-5af8-4db7-ace5-5fd4657ee64c",
   "metadata": {},
   "outputs": [
    {
     "data": {
      "text/plain": [
       "9"
      ]
     },
     "execution_count": 18,
     "metadata": {},
     "output_type": "execute_result"
    }
   ],
   "source": [
    "course_name.find(\"n\")"
   ]
  },
  {
   "cell_type": "code",
   "execution_count": 19,
   "id": "b7fc882e-7e26-4bfa-b869-e4e7db5fef91",
   "metadata": {},
   "outputs": [
    {
     "data": {
      "text/plain": [
       "3"
      ]
     },
     "execution_count": 19,
     "metadata": {},
     "output_type": "execute_result"
    }
   ],
   "source": [
    "course_name.find(\"a\", 2, 10)"
   ]
  },
  {
   "cell_type": "code",
   "execution_count": 20,
   "id": "39c13a61-a48c-4bd9-a8c5-d46173538a31",
   "metadata": {},
   "outputs": [
    {
     "data": {
      "text/plain": [
       "-1"
      ]
     },
     "execution_count": 20,
     "metadata": {},
     "output_type": "execute_result"
    }
   ],
   "source": [
    "course_name.find(\"z\")"
   ]
  },
  {
   "cell_type": "code",
   "execution_count": 21,
   "id": "71e17165-f1be-478b-93c4-8c006ea9ea50",
   "metadata": {},
   "outputs": [
    {
     "data": {
      "text/plain": [
       "3"
      ]
     },
     "execution_count": 21,
     "metadata": {},
     "output_type": "execute_result"
    }
   ],
   "source": [
    "## string count function\n",
    "## answer is how many time the a is present\n",
    "\n",
    "course_name.count(\"a\")"
   ]
  },
  {
   "cell_type": "code",
   "execution_count": 22,
   "id": "8eb26931-1747-426d-8ac3-210f3ed69731",
   "metadata": {},
   "outputs": [
    {
     "data": {
      "text/plain": [
       "2"
      ]
     },
     "execution_count": 22,
     "metadata": {},
     "output_type": "execute_result"
    }
   ],
   "source": [
    "course_name.count(\" \")"
   ]
  },
  {
   "cell_type": "code",
   "execution_count": 26,
   "id": "c7736feb-2dcc-409a-9094-710f2992dfe4",
   "metadata": {},
   "outputs": [
    {
     "data": {
      "text/plain": [
       "20"
      ]
     },
     "execution_count": 26,
     "metadata": {},
     "output_type": "execute_result"
    }
   ],
   "source": [
    "course_name.count('')"
   ]
  },
  {
   "cell_type": "code",
   "execution_count": 28,
   "id": "fe9ef1f1-5147-40a1-83a7-d93dde0fdb48",
   "metadata": {},
   "outputs": [
    {
     "data": {
      "text/plain": [
       "3"
      ]
     },
     "execution_count": 28,
     "metadata": {},
     "output_type": "execute_result"
    }
   ],
   "source": [
    "course_name.find(\"a\",2,10)"
   ]
  },
  {
   "cell_type": "code",
   "execution_count": 29,
   "id": "61d78643-732c-47d8-9cae-cd5c141f0f55",
   "metadata": {},
   "outputs": [],
   "source": [
    "## string split function"
   ]
  },
  {
   "cell_type": "code",
   "execution_count": 31,
   "id": "7cf6d640-ecd2-4e42-b0a7-ee85bb37b7c6",
   "metadata": {},
   "outputs": [
    {
     "data": {
      "text/plain": [
       "['data', 'science', 'master']"
      ]
     },
     "execution_count": 31,
     "metadata": {},
     "output_type": "execute_result"
    }
   ],
   "source": [
    "course_name.split(' ')"
   ]
  },
  {
   "cell_type": "code",
   "execution_count": 32,
   "id": "f6739090-fc04-4a0a-b7b8-b7ef0b9fd625",
   "metadata": {},
   "outputs": [
    {
     "data": {
      "text/plain": [
       "['data ', 'cience ma', 'ter']"
      ]
     },
     "execution_count": 32,
     "metadata": {},
     "output_type": "execute_result"
    }
   ],
   "source": [
    "course_name.split('s')"
   ]
  },
  {
   "cell_type": "code",
   "execution_count": 33,
   "id": "92186850-ebaa-4dbd-9631-634bd5c29eaf",
   "metadata": {},
   "outputs": [
    {
     "data": {
      "text/plain": [
       "('data ', 's', 'cience master')"
      ]
     },
     "execution_count": 33,
     "metadata": {},
     "output_type": "execute_result"
    }
   ],
   "source": [
    "course_name.partition('s')"
   ]
  },
  {
   "cell_type": "code",
   "execution_count": 34,
   "id": "4398631f-01d4-4388-9298-0abfe15f6c1f",
   "metadata": {},
   "outputs": [],
   "source": [
    "## string upper and lower case"
   ]
  },
  {
   "cell_type": "code",
   "execution_count": 35,
   "id": "62e3415b-9a1f-4bf7-9212-ad40e3a492b8",
   "metadata": {},
   "outputs": [
    {
     "data": {
      "text/plain": [
       "'DATA SCIENCE MASTER'"
      ]
     },
     "execution_count": 35,
     "metadata": {},
     "output_type": "execute_result"
    }
   ],
   "source": [
    "course_name.upper()"
   ]
  },
  {
   "cell_type": "code",
   "execution_count": 38,
   "id": "6b8ad57d-68c1-408e-bbce-6b736b7ca322",
   "metadata": {},
   "outputs": [
    {
     "data": {
      "text/plain": [
       "'data science master'"
      ]
     },
     "execution_count": 38,
     "metadata": {},
     "output_type": "execute_result"
    }
   ],
   "source": [
    "course_name.lower()"
   ]
  },
  {
   "cell_type": "code",
   "execution_count": 39,
   "id": "d7407299-7256-4657-af1e-3e0b3a6b0bff",
   "metadata": {},
   "outputs": [
    {
     "data": {
      "text/plain": [
       "'dATA sCIENCE mASTER'"
      ]
     },
     "execution_count": 39,
     "metadata": {},
     "output_type": "execute_result"
    }
   ],
   "source": [
    "course_name= \"Data Science Master\"\n",
    "\n",
    "\n",
    "\n",
    "course_name.swapcase()"
   ]
  },
  {
   "cell_type": "code",
   "execution_count": 40,
   "id": "b237a3ce-5858-41ca-8ca5-0295aa63c2f8",
   "metadata": {},
   "outputs": [
    {
     "data": {
      "text/plain": [
       "'Data Science Master'"
      ]
     },
     "execution_count": 40,
     "metadata": {},
     "output_type": "execute_result"
    }
   ],
   "source": [
    "## evry word first letter will be capital\n",
    "course_name.title()"
   ]
  },
  {
   "cell_type": "code",
   "execution_count": 42,
   "id": "c7c9f547-e5c8-4a69-a2bb-d5e30cdbdb00",
   "metadata": {},
   "outputs": [
    {
     "data": {
      "text/plain": [
       "'Ashish Gupta'"
      ]
     },
     "execution_count": 42,
     "metadata": {},
     "output_type": "execute_result"
    }
   ],
   "source": [
    "name= \"ashish gupta\"\n",
    "name.title()"
   ]
  },
  {
   "cell_type": "code",
   "execution_count": null,
   "id": "01abe0f4-ca0a-48ea-b0ed-f996fbc8f06d",
   "metadata": {},
   "outputs": [],
   "source": []
  }
 ],
 "metadata": {
  "kernelspec": {
   "display_name": "Python 3 (ipykernel)",
   "language": "python",
   "name": "python3"
  },
  "language_info": {
   "codemirror_mode": {
    "name": "ipython",
    "version": 3
   },
   "file_extension": ".py",
   "mimetype": "text/x-python",
   "name": "python",
   "nbconvert_exporter": "python",
   "pygments_lexer": "ipython3",
   "version": "3.10.8"
  }
 },
 "nbformat": 4,
 "nbformat_minor": 5
}
