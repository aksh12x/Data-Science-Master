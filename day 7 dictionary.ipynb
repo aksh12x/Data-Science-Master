{
 "cells": [
  {
   "cell_type": "code",
   "execution_count": 1,
   "id": "c0c26e2d-3ff2-4b3b-9690-1896e4a20017",
   "metadata": {},
   "outputs": [],
   "source": [
    "d= {}"
   ]
  },
  {
   "cell_type": "code",
   "execution_count": 3,
   "id": "51d10296-a1fa-4887-8f54-081e03930961",
   "metadata": {},
   "outputs": [
    {
     "data": {
      "text/plain": [
       "dict"
      ]
     },
     "execution_count": 3,
     "metadata": {},
     "output_type": "execute_result"
    }
   ],
   "source": [
    "type(d)"
   ]
  },
  {
   "cell_type": "code",
   "execution_count": 1,
   "id": "a091d30f-2459-48be-b1f9-9232b4ac7a11",
   "metadata": {},
   "outputs": [],
   "source": [
    "## here name is called key and ashish is value\n",
    "d1= {\"name\" : \"ashish\", \"email_id\" : \"v.ashish\", \"number\": 123456}"
   ]
  },
  {
   "cell_type": "code",
   "execution_count": 5,
   "id": "9a2a5632-3e0b-47ce-a711-f300e218f353",
   "metadata": {},
   "outputs": [
    {
     "data": {
      "text/plain": [
       "dict"
      ]
     },
     "execution_count": 5,
     "metadata": {},
     "output_type": "execute_result"
    }
   ],
   "source": [
    "type(d1)"
   ]
  },
  {
   "cell_type": "code",
   "execution_count": 6,
   "id": "3f1d2c0c-8191-411b-87ad-d0e9e752773b",
   "metadata": {},
   "outputs": [
    {
     "data": {
      "text/plain": [
       "{'name': 'ashish', 'email_id': 'v.ashish', 'number': 123456}"
      ]
     },
     "execution_count": 6,
     "metadata": {},
     "output_type": "execute_result"
    }
   ],
   "source": [
    "d1"
   ]
  },
  {
   "cell_type": "code",
   "execution_count": 7,
   "id": "afbafc0b-fcb7-4070-a00f-d25fa6f0603f",
   "metadata": {},
   "outputs": [],
   "source": [
    "d2 = {\"name\" : \"ashish\", \"name\" : \"Ak\"}"
   ]
  },
  {
   "cell_type": "code",
   "execution_count": 8,
   "id": "fbf3c338-1523-4bd1-97fb-4676dc7ca430",
   "metadata": {},
   "outputs": [
    {
     "data": {
      "text/plain": [
       "{'name': 'Ak'}"
      ]
     },
     "execution_count": 8,
     "metadata": {},
     "output_type": "execute_result"
    }
   ],
   "source": [
    "d2"
   ]
  },
  {
   "cell_type": "code",
   "execution_count": 9,
   "id": "966ffce8-b1f1-4176-a576-446403c360ca",
   "metadata": {},
   "outputs": [],
   "source": [
    "d3 = {23456 : \"abc\"}"
   ]
  },
  {
   "cell_type": "code",
   "execution_count": 10,
   "id": "5d6d537a-7d31-4741-be9a-3a4530e817b6",
   "metadata": {},
   "outputs": [
    {
     "data": {
      "text/plain": [
       "{23456: 'abc'}"
      ]
     },
     "execution_count": 10,
     "metadata": {},
     "output_type": "execute_result"
    }
   ],
   "source": [
    "d3"
   ]
  },
  {
   "cell_type": "code",
   "execution_count": 11,
   "id": "6ea3bc17-bf28-45a0-a731-b69acff6068b",
   "metadata": {},
   "outputs": [],
   "source": [
    "d4= {234.56 : \"abc\"}"
   ]
  },
  {
   "cell_type": "code",
   "execution_count": 12,
   "id": "a2a844c3-4ad6-4ce7-a02b-0f9fb40400b0",
   "metadata": {},
   "outputs": [
    {
     "data": {
      "text/plain": [
       "{234.56: 'abc'}"
      ]
     },
     "execution_count": 12,
     "metadata": {},
     "output_type": "execute_result"
    }
   ],
   "source": [
    "d4"
   ]
  },
  {
   "cell_type": "code",
   "execution_count": 13,
   "id": "34ea8aeb-326f-4ff2-b98d-e755eabd4cc6",
   "metadata": {},
   "outputs": [],
   "source": [
    "d5= {True: \"abc\"}"
   ]
  },
  {
   "cell_type": "code",
   "execution_count": 14,
   "id": "4e93f8db-c52b-4e16-aa70-e0e72ddd0a0d",
   "metadata": {},
   "outputs": [
    {
     "data": {
      "text/plain": [
       "{True: 'abc'}"
      ]
     },
     "execution_count": 14,
     "metadata": {},
     "output_type": "execute_result"
    }
   ],
   "source": [
    "d5"
   ]
  },
  {
   "cell_type": "code",
   "execution_count": 15,
   "id": "e1f60ddb-22e7-42b5-ad91-b4ba4d7fab1b",
   "metadata": {},
   "outputs": [
    {
     "ename": "SyntaxError",
     "evalue": "incomplete input (1128137419.py, line 1)",
     "output_type": "error",
     "traceback": [
      "\u001b[0;36m  Cell \u001b[0;32mIn[15], line 1\u001b[0;36m\u001b[0m\n\u001b[0;31m    d6= {# : \"abc\"}\u001b[0m\n\u001b[0m                   ^\u001b[0m\n\u001b[0;31mSyntaxError\u001b[0m\u001b[0;31m:\u001b[0m incomplete input\n"
     ]
    }
   ],
   "source": [
    "d6= {# : \"abc\"}"
   ]
  },
  {
   "cell_type": "code",
   "execution_count": 16,
   "id": "6c2dd2f4-0dbc-405e-9b87-9cf76d4794fa",
   "metadata": {},
   "outputs": [
    {
     "ename": "SyntaxError",
     "evalue": "invalid syntax (630726308.py, line 1)",
     "output_type": "error",
     "traceback": [
      "\u001b[0;36m  Cell \u001b[0;32mIn[16], line 1\u001b[0;36m\u001b[0m\n\u001b[0;31m    d7 = {@ : \"abc\"}\u001b[0m\n\u001b[0m          ^\u001b[0m\n\u001b[0;31mSyntaxError\u001b[0m\u001b[0;31m:\u001b[0m invalid syntax\n"
     ]
    }
   ],
   "source": [
    "d7 = {@ : \"abc\"}"
   ]
  },
  {
   "cell_type": "code",
   "execution_count": 18,
   "id": "a7429e78-a5db-4445-b9df-df67e4be39d7",
   "metadata": {},
   "outputs": [
    {
     "ename": "TypeError",
     "evalue": "unhashable type: 'list'",
     "output_type": "error",
     "traceback": [
      "\u001b[0;31m---------------------------------------------------------------------------\u001b[0m",
      "\u001b[0;31mTypeError\u001b[0m                                 Traceback (most recent call last)",
      "Cell \u001b[0;32mIn[18], line 1\u001b[0m\n\u001b[0;32m----> 1\u001b[0m d8\u001b[38;5;241m=\u001b[39m {[\u001b[38;5;241m1\u001b[39m,\u001b[38;5;241m2\u001b[39m,\u001b[38;5;241m3\u001b[39m,\u001b[38;5;241m4\u001b[39m] : \u001b[38;5;124m\"\u001b[39m\u001b[38;5;124mabc\u001b[39m\u001b[38;5;124m\"\u001b[39m}\n",
      "\u001b[0;31mTypeError\u001b[0m: unhashable type: 'list'"
     ]
    }
   ],
   "source": [
    "d8= {[1,2,3,4] : \"abc\"}"
   ]
  },
  {
   "cell_type": "code",
   "execution_count": 19,
   "id": "0be34595-56cb-42e6-817c-bb678cbec344",
   "metadata": {},
   "outputs": [],
   "source": [
    "d9 = {(1,2,3) : \"abc\"}"
   ]
  },
  {
   "cell_type": "code",
   "execution_count": 20,
   "id": "bce0add0-06e0-4ee0-89fd-f2a522d19099",
   "metadata": {},
   "outputs": [
    {
     "data": {
      "text/plain": [
       "{(1, 2, 3): 'abc'}"
      ]
     },
     "execution_count": 20,
     "metadata": {},
     "output_type": "execute_result"
    }
   ],
   "source": [
    "d9"
   ]
  },
  {
   "cell_type": "code",
   "execution_count": 21,
   "id": "59d1accc-f23d-4036-9473-56033be41087",
   "metadata": {},
   "outputs": [
    {
     "ename": "TypeError",
     "evalue": "unhashable type: 'set'",
     "output_type": "error",
     "traceback": [
      "\u001b[0;31m---------------------------------------------------------------------------\u001b[0m",
      "\u001b[0;31mTypeError\u001b[0m                                 Traceback (most recent call last)",
      "Cell \u001b[0;32mIn[21], line 1\u001b[0m\n\u001b[0;32m----> 1\u001b[0m d10\u001b[38;5;241m=\u001b[39m {{\u001b[38;5;241m1\u001b[39m,\u001b[38;5;241m2\u001b[39m,\u001b[38;5;241m3\u001b[39m} : \u001b[38;5;124m\"\u001b[39m\u001b[38;5;124mabc\u001b[39m\u001b[38;5;124m\"\u001b[39m}\n",
      "\u001b[0;31mTypeError\u001b[0m: unhashable type: 'set'"
     ]
    }
   ],
   "source": [
    "d10= {{1,2,3} : \"abc\"}"
   ]
  },
  {
   "cell_type": "code",
   "execution_count": 22,
   "id": "0c3aea90-18fe-41c0-9f26-9e4714dd69c2",
   "metadata": {},
   "outputs": [
    {
     "ename": "TypeError",
     "evalue": "unhashable type: 'dict'",
     "output_type": "error",
     "traceback": [
      "\u001b[0;31m---------------------------------------------------------------------------\u001b[0m",
      "\u001b[0;31mTypeError\u001b[0m                                 Traceback (most recent call last)",
      "Cell \u001b[0;32mIn[22], line 1\u001b[0m\n\u001b[0;32m----> 1\u001b[0m d11 \u001b[38;5;241m=\u001b[39m {{\u001b[38;5;124m\"\u001b[39m\u001b[38;5;124mkey\u001b[39m\u001b[38;5;124m\"\u001b[39m : \u001b[38;5;241m234\u001b[39m} : \u001b[38;5;124m\"\u001b[39m\u001b[38;5;124mabc\u001b[39m\u001b[38;5;124m\"\u001b[39m}\n",
      "\u001b[0;31mTypeError\u001b[0m: unhashable type: 'dict'"
     ]
    }
   ],
   "source": [
    "d11 = {{\"key\" : 234} : \"abc\"}"
   ]
  },
  {
   "cell_type": "code",
   "execution_count": 23,
   "id": "7eceeb5d-87fe-42d8-a6d0-c26ec0b167ee",
   "metadata": {},
   "outputs": [],
   "source": [
    "d12 = {\"course_name\" : [\"data science\", \"web dev\", \"java\"]}"
   ]
  },
  {
   "cell_type": "code",
   "execution_count": 24,
   "id": "044e238f-e643-48e8-98dd-0beac8b75834",
   "metadata": {},
   "outputs": [
    {
     "data": {
      "text/plain": [
       "{'course_name': ['data science', 'web dev', 'java']}"
      ]
     },
     "execution_count": 24,
     "metadata": {},
     "output_type": "execute_result"
    }
   ],
   "source": [
    "d12"
   ]
  },
  {
   "cell_type": "code",
   "execution_count": 25,
   "id": "0dc4948f-f827-4806-949e-d9b5bf13867f",
   "metadata": {},
   "outputs": [],
   "source": [
    "d13= {\"key\" : (1,2,3)}"
   ]
  },
  {
   "cell_type": "code",
   "execution_count": 26,
   "id": "59831cdc-a84d-4046-b1e4-f100abb65a8f",
   "metadata": {},
   "outputs": [
    {
     "data": {
      "text/plain": [
       "{'key': (1, 2, 3)}"
      ]
     },
     "execution_count": 26,
     "metadata": {},
     "output_type": "execute_result"
    }
   ],
   "source": [
    "d13"
   ]
  },
  {
   "cell_type": "code",
   "execution_count": 27,
   "id": "ebe8b7c3-a127-4520-a907-a544c753061c",
   "metadata": {},
   "outputs": [],
   "source": [
    "d14= {\"key\" : {1,2,3}}"
   ]
  },
  {
   "cell_type": "code",
   "execution_count": 28,
   "id": "d013f3b7-8c8c-42b9-8ae7-c1b1bb4b7dfb",
   "metadata": {},
   "outputs": [
    {
     "data": {
      "text/plain": [
       "{'key': {1, 2, 3}}"
      ]
     },
     "execution_count": 28,
     "metadata": {},
     "output_type": "execute_result"
    }
   ],
   "source": [
    "d14"
   ]
  },
  {
   "cell_type": "code",
   "execution_count": 31,
   "id": "b3056830-8ec6-4247-afec-14c7bd55383d",
   "metadata": {},
   "outputs": [],
   "source": [
    "## nested dictionary\n",
    "d15 = {\"key\" :{\"name\": \"ashish\", \"class\" : \"DSM\"}}"
   ]
  },
  {
   "cell_type": "code",
   "execution_count": 30,
   "id": "d3d4fd7f-621f-4182-914d-f64cef00a79f",
   "metadata": {},
   "outputs": [
    {
     "data": {
      "text/plain": [
       "{'key': {'name': 'ashish', 'class': 'DSM'}}"
      ]
     },
     "execution_count": 30,
     "metadata": {},
     "output_type": "execute_result"
    }
   ],
   "source": [
    "d15"
   ]
  },
  {
   "cell_type": "code",
   "execution_count": 32,
   "id": "50e9e798-946b-4509-b0e0-bf23f2494ff9",
   "metadata": {},
   "outputs": [],
   "source": [
    "d16= {\"batch_name\" : [\"data science\", \"web dev\", \"JDS\"] , \"start_date\": (28,14,15), \"mentor_name\":{\"krish\", \"sid\",\"hitesh\"}}"
   ]
  },
  {
   "cell_type": "code",
   "execution_count": 33,
   "id": "3147e778-3d3e-450c-8ce0-1517b6b8bb49",
   "metadata": {},
   "outputs": [
    {
     "data": {
      "text/plain": [
       "{'batch_name': ['data science', 'web dev', 'JDS'],\n",
       " 'start_date': (28, 14, 15),\n",
       " 'mentor_name': {'hitesh', 'krish', 'sid'}}"
      ]
     },
     "execution_count": 33,
     "metadata": {},
     "output_type": "execute_result"
    }
   ],
   "source": [
    "d16"
   ]
  },
  {
   "cell_type": "code",
   "execution_count": 3,
   "id": "01d0b121-cd89-46c6-9e11-061fb604cb1f",
   "metadata": {},
   "outputs": [
    {
     "data": {
      "text/plain": [
       "{'batch_name': ['data science', 'web dev', 'JDS'],\n",
       " 'start_date': (28, 14, 15),\n",
       " 'mentor_name': {'hitesh', 'krish', 'sid'}}"
      ]
     },
     "execution_count": 3,
     "metadata": {},
     "output_type": "execute_result"
    }
   ],
   "source": [
    "d16= {\"batch_name\" : [\"data science\", \"web dev\", \"JDS\"] , \"start_date\": (28,14,15), \"mentor_name\":{\"krish\", \"sid\",\"hitesh\"}}\n",
    "d16 "
   ]
  },
  {
   "cell_type": "code",
   "execution_count": 6,
   "id": "3bb849cf-0b6e-40f0-bc7a-fc70e6297a4a",
   "metadata": {},
   "outputs": [],
   "source": [
    "d16 [\"timing\"] = (8,8,8)"
   ]
  },
  {
   "cell_type": "code",
   "execution_count": 7,
   "id": "bfde293f-26b9-4161-b06e-cc2bd88f364b",
   "metadata": {},
   "outputs": [
    {
     "data": {
      "text/plain": [
       "{'batch_name': ['data science', 'web dev', 'JDS'],\n",
       " 'start_date': (28, 14, 15),\n",
       " 'mentor_name': {'hitesh', 'krish', 'sid'},\n",
       " 'timing': (8, 8, 8)}"
      ]
     },
     "execution_count": 7,
     "metadata": {},
     "output_type": "execute_result"
    }
   ],
   "source": [
    "d16"
   ]
  },
  {
   "cell_type": "code",
   "execution_count": 8,
   "id": "8232852e-b486-4224-8c98-74cc6a77ba9f",
   "metadata": {},
   "outputs": [
    {
     "data": {
      "text/plain": [
       "['data science', 'web dev', 'JDS']"
      ]
     },
     "execution_count": 8,
     "metadata": {},
     "output_type": "execute_result"
    }
   ],
   "source": [
    "d16[\"batch_name\"]"
   ]
  },
  {
   "cell_type": "code",
   "execution_count": 9,
   "id": "623b7600-a3a1-4778-8431-6754e1c047f9",
   "metadata": {},
   "outputs": [
    {
     "data": {
      "text/plain": [
       "list"
      ]
     },
     "execution_count": 9,
     "metadata": {},
     "output_type": "execute_result"
    }
   ],
   "source": [
    "type(d16[\"batch_name\"])"
   ]
  },
  {
   "cell_type": "code",
   "execution_count": 12,
   "id": "7f82e95d-9101-4506-8181-ac6b8fe2355e",
   "metadata": {},
   "outputs": [],
   "source": [
    "d16[\"name\"] = \"ashishh\""
   ]
  },
  {
   "cell_type": "code",
   "execution_count": 13,
   "id": "bbf168d0-d274-4d7a-afe1-16c3f80412d9",
   "metadata": {},
   "outputs": [
    {
     "data": {
      "text/plain": [
       "{'batch_name': ['data science', 'web dev', 'JDS'],\n",
       " 'start_date': (28, 14, 15),\n",
       " 'mentor_name': {'hitesh', 'krish', 'sid'},\n",
       " 'timing': (8, 8, 8),\n",
       " 'name': 'ashishh'}"
      ]
     },
     "execution_count": 13,
     "metadata": {},
     "output_type": "execute_result"
    }
   ],
   "source": [
    "d16"
   ]
  },
  {
   "cell_type": "code",
   "execution_count": 15,
   "id": "43ef9afb-8d1d-4d5b-a4c8-ccf60b695407",
   "metadata": {},
   "outputs": [
    {
     "data": {
      "text/plain": [
       "'ASHISHH'"
      ]
     },
     "execution_count": 15,
     "metadata": {},
     "output_type": "execute_result"
    }
   ],
   "source": [
    "d16[\"name\"].upper()"
   ]
  },
  {
   "cell_type": "code",
   "execution_count": 17,
   "id": "4928bfb9-dc52-42fb-940b-072ab7538dd5",
   "metadata": {},
   "outputs": [],
   "source": [
    "d15 = {\"key\" :{\"name\": \"ashish\", \"class\" : \"DSM\"}}"
   ]
  },
  {
   "cell_type": "code",
   "execution_count": 18,
   "id": "94500553-4cc5-4004-8f8e-65ea161644f7",
   "metadata": {},
   "outputs": [
    {
     "data": {
      "text/plain": [
       "{'key': {'name': 'ashish', 'class': 'DSM'}}"
      ]
     },
     "execution_count": 18,
     "metadata": {},
     "output_type": "execute_result"
    }
   ],
   "source": [
    "d15"
   ]
  },
  {
   "cell_type": "code",
   "execution_count": 19,
   "id": "bdda6e51-fa5a-414c-be04-48c1abd3bbfe",
   "metadata": {},
   "outputs": [
    {
     "data": {
      "text/plain": [
       "{'name': 'ashish', 'class': 'DSM'}"
      ]
     },
     "execution_count": 19,
     "metadata": {},
     "output_type": "execute_result"
    }
   ],
   "source": [
    "d15[\"key\"]"
   ]
  },
  {
   "cell_type": "code",
   "execution_count": 20,
   "id": "e131d729-65c7-49fc-83d1-9ffee70d2208",
   "metadata": {},
   "outputs": [
    {
     "data": {
      "text/plain": [
       "dict"
      ]
     },
     "execution_count": 20,
     "metadata": {},
     "output_type": "execute_result"
    }
   ],
   "source": [
    "type(d15[\"key\"])"
   ]
  },
  {
   "cell_type": "code",
   "execution_count": 21,
   "id": "78ac3210-04fc-4aaa-bf64-b075bb81f6ce",
   "metadata": {},
   "outputs": [
    {
     "data": {
      "text/plain": [
       "'DSM'"
      ]
     },
     "execution_count": 21,
     "metadata": {},
     "output_type": "execute_result"
    }
   ],
   "source": [
    "d15[\"key\"][\"class\"]"
   ]
  },
  {
   "cell_type": "code",
   "execution_count": 22,
   "id": "f957c7f1-d060-40e2-988e-5dcbc9d80943",
   "metadata": {},
   "outputs": [
    {
     "data": {
      "text/plain": [
       "{'key': {'name': 'ashish', 'class': 'DSM'}}"
      ]
     },
     "execution_count": 22,
     "metadata": {},
     "output_type": "execute_result"
    }
   ],
   "source": [
    "d15"
   ]
  },
  {
   "cell_type": "code",
   "execution_count": 23,
   "id": "f7b42453-9e99-431b-aa75-512df2572868",
   "metadata": {},
   "outputs": [],
   "source": [
    "d15[\"key1\"] = \"abc\""
   ]
  },
  {
   "cell_type": "code",
   "execution_count": 24,
   "id": "e3fbb1e6-32e4-499a-a5c7-13826060ca46",
   "metadata": {},
   "outputs": [
    {
     "data": {
      "text/plain": [
       "{'key': {'name': 'ashish', 'class': 'DSM'}, 'key1': 'abc'}"
      ]
     },
     "execution_count": 24,
     "metadata": {},
     "output_type": "execute_result"
    }
   ],
   "source": [
    "d15"
   ]
  },
  {
   "cell_type": "code",
   "execution_count": 25,
   "id": "6d91c024-556c-4f5f-990a-93b9616667cd",
   "metadata": {},
   "outputs": [],
   "source": [
    "del d15 [\"key1\"]"
   ]
  },
  {
   "cell_type": "code",
   "execution_count": 26,
   "id": "684f1431-487c-40a2-ba55-1e2aeaa0e0bc",
   "metadata": {},
   "outputs": [
    {
     "data": {
      "text/plain": [
       "{'key': {'name': 'ashish', 'class': 'DSM'}}"
      ]
     },
     "execution_count": 26,
     "metadata": {},
     "output_type": "execute_result"
    }
   ],
   "source": [
    "d15"
   ]
  },
  {
   "cell_type": "code",
   "execution_count": 27,
   "id": "cf29c2d3-acdf-49c5-8824-5c38f614b859",
   "metadata": {},
   "outputs": [],
   "source": [
    "d15.clear()"
   ]
  },
  {
   "cell_type": "code",
   "execution_count": 28,
   "id": "ebf5cc9e-ecc8-4006-9a90-2d3d607a6340",
   "metadata": {},
   "outputs": [
    {
     "data": {
      "text/plain": [
       "{}"
      ]
     },
     "execution_count": 28,
     "metadata": {},
     "output_type": "execute_result"
    }
   ],
   "source": [
    "d15"
   ]
  },
  {
   "cell_type": "code",
   "execution_count": 29,
   "id": "9fd907d1-588a-4d81-8e7e-017a8528fd6c",
   "metadata": {},
   "outputs": [
    {
     "data": {
      "text/plain": [
       "5"
      ]
     },
     "execution_count": 29,
     "metadata": {},
     "output_type": "execute_result"
    }
   ],
   "source": [
    "len(d16)"
   ]
  },
  {
   "cell_type": "code",
   "execution_count": 30,
   "id": "b5894084-fdb8-47e0-99f8-262ba2c3beb8",
   "metadata": {},
   "outputs": [
    {
     "data": {
      "text/plain": [
       "{'batch_name': ['data science', 'web dev', 'JDS'],\n",
       " 'start_date': (28, 14, 15),\n",
       " 'mentor_name': {'hitesh', 'krish', 'sid'},\n",
       " 'timing': (8, 8, 8),\n",
       " 'name': 'ashishh'}"
      ]
     },
     "execution_count": 30,
     "metadata": {},
     "output_type": "execute_result"
    }
   ],
   "source": [
    "d16"
   ]
  },
  {
   "cell_type": "code",
   "execution_count": 31,
   "id": "c51ca062-9145-461c-92f3-6d7734c46c0e",
   "metadata": {},
   "outputs": [
    {
     "data": {
      "text/plain": [
       "dict_keys(['batch_name', 'start_date', 'mentor_name', 'timing', 'name'])"
      ]
     },
     "execution_count": 31,
     "metadata": {},
     "output_type": "execute_result"
    }
   ],
   "source": [
    "d16.keys()"
   ]
  },
  {
   "cell_type": "code",
   "execution_count": 32,
   "id": "f6f0a718-d5f6-41de-93ad-69c4bcbd301b",
   "metadata": {},
   "outputs": [
    {
     "data": {
      "text/plain": [
       "dict_values([['data science', 'web dev', 'JDS'], (28, 14, 15), {'krish', 'sid', 'hitesh'}, (8, 8, 8), 'ashishh'])"
      ]
     },
     "execution_count": 32,
     "metadata": {},
     "output_type": "execute_result"
    }
   ],
   "source": [
    "d16.values()"
   ]
  },
  {
   "cell_type": "code",
   "execution_count": 33,
   "id": "e4f5dc06-eaa1-4cea-9301-998135a0715d",
   "metadata": {},
   "outputs": [
    {
     "data": {
      "text/plain": [
       "[['data science', 'web dev', 'JDS'],\n",
       " (28, 14, 15),\n",
       " {'hitesh', 'krish', 'sid'},\n",
       " (8, 8, 8),\n",
       " 'ashishh']"
      ]
     },
     "execution_count": 33,
     "metadata": {},
     "output_type": "execute_result"
    }
   ],
   "source": [
    "list(d16.values())"
   ]
  },
  {
   "cell_type": "code",
   "execution_count": 34,
   "id": "4b4ebb35-bc6c-4dc7-bb8a-a37ffcda5744",
   "metadata": {},
   "outputs": [
    {
     "data": {
      "text/plain": [
       "['batch_name', 'start_date', 'mentor_name', 'timing', 'name']"
      ]
     },
     "execution_count": 34,
     "metadata": {},
     "output_type": "execute_result"
    }
   ],
   "source": [
    "list(d16.keys())"
   ]
  },
  {
   "cell_type": "code",
   "execution_count": 35,
   "id": "4c8acfe8-666b-4aea-99b1-8b3703516bfa",
   "metadata": {},
   "outputs": [
    {
     "data": {
      "text/plain": [
       "dict_items([('batch_name', ['data science', 'web dev', 'JDS']), ('start_date', (28, 14, 15)), ('mentor_name', {'krish', 'sid', 'hitesh'}), ('timing', (8, 8, 8)), ('name', 'ashishh')])"
      ]
     },
     "execution_count": 35,
     "metadata": {},
     "output_type": "execute_result"
    }
   ],
   "source": [
    "d16.items()"
   ]
  },
  {
   "cell_type": "code",
   "execution_count": 36,
   "id": "ffa0c024-ae3c-4f71-b51d-4bcdd4356f64",
   "metadata": {},
   "outputs": [
    {
     "data": {
      "text/plain": [
       "[('batch_name', ['data science', 'web dev', 'JDS']),\n",
       " ('start_date', (28, 14, 15)),\n",
       " ('mentor_name', {'hitesh', 'krish', 'sid'}),\n",
       " ('timing', (8, 8, 8)),\n",
       " ('name', 'ashishh')]"
      ]
     },
     "execution_count": 36,
     "metadata": {},
     "output_type": "execute_result"
    }
   ],
   "source": [
    "list (d16.items())"
   ]
  },
  {
   "cell_type": "code",
   "execution_count": 37,
   "id": "9591aa37-63b4-4e01-b20a-0baf28e9f41c",
   "metadata": {},
   "outputs": [
    {
     "data": {
      "text/plain": [
       "{'batch_name': ['data science', 'web dev', 'JDS'],\n",
       " 'start_date': (28, 14, 15),\n",
       " 'mentor_name': {'hitesh', 'krish', 'sid'},\n",
       " 'timing': (8, 8, 8),\n",
       " 'name': 'ashishh'}"
      ]
     },
     "execution_count": 37,
     "metadata": {},
     "output_type": "execute_result"
    }
   ],
   "source": [
    "d16"
   ]
  },
  {
   "cell_type": "code",
   "execution_count": 38,
   "id": "a0277a6c-80dc-4507-949e-61fd6acfba9d",
   "metadata": {},
   "outputs": [],
   "source": [
    "d17= d16.copy()"
   ]
  },
  {
   "cell_type": "code",
   "execution_count": 39,
   "id": "10c7c928-2464-4b92-a6f4-17b6079a2cba",
   "metadata": {},
   "outputs": [
    {
     "data": {
      "text/plain": [
       "{'batch_name': ['data science', 'web dev', 'JDS'],\n",
       " 'start_date': (28, 14, 15),\n",
       " 'mentor_name': {'hitesh', 'krish', 'sid'},\n",
       " 'timing': (8, 8, 8),\n",
       " 'name': 'ashishh'}"
      ]
     },
     "execution_count": 39,
     "metadata": {},
     "output_type": "execute_result"
    }
   ],
   "source": [
    "d17"
   ]
  },
  {
   "cell_type": "code",
   "execution_count": 42,
   "id": "e5d5b06e-9013-4299-83de-d22cc53f2d6b",
   "metadata": {},
   "outputs": [],
   "source": [
    "del d16 [\"name\"]"
   ]
  },
  {
   "cell_type": "code",
   "execution_count": 43,
   "id": "276cf8b3-1a67-418f-a802-c5bc23e2a582",
   "metadata": {},
   "outputs": [
    {
     "data": {
      "text/plain": [
       "{'batch_name': ['data science', 'web dev', 'JDS'],\n",
       " 'start_date': (28, 14, 15),\n",
       " 'mentor_name': {'hitesh', 'krish', 'sid'},\n",
       " 'timing': (8, 8, 8)}"
      ]
     },
     "execution_count": 43,
     "metadata": {},
     "output_type": "execute_result"
    }
   ],
   "source": [
    "d16"
   ]
  },
  {
   "cell_type": "code",
   "execution_count": 40,
   "id": "066a0233-5f0a-43e2-87f9-db379aa58888",
   "metadata": {},
   "outputs": [],
   "source": [
    "d18=  d16"
   ]
  },
  {
   "cell_type": "code",
   "execution_count": 44,
   "id": "bae08eca-399a-489a-a366-32509e720baa",
   "metadata": {},
   "outputs": [
    {
     "data": {
      "text/plain": [
       "{'batch_name': ['data science', 'web dev', 'JDS'],\n",
       " 'start_date': (28, 14, 15),\n",
       " 'mentor_name': {'hitesh', 'krish', 'sid'},\n",
       " 'timing': (8, 8, 8),\n",
       " 'name': 'ashishh'}"
      ]
     },
     "execution_count": 44,
     "metadata": {},
     "output_type": "execute_result"
    }
   ],
   "source": [
    "d17"
   ]
  },
  {
   "cell_type": "code",
   "execution_count": 45,
   "id": "762f4938-6462-4214-a9d1-02c65016e756",
   "metadata": {},
   "outputs": [
    {
     "data": {
      "text/plain": [
       "{'batch_name': ['data science', 'web dev', 'JDS'],\n",
       " 'start_date': (28, 14, 15),\n",
       " 'mentor_name': {'hitesh', 'krish', 'sid'},\n",
       " 'timing': (8, 8, 8)}"
      ]
     },
     "execution_count": 45,
     "metadata": {},
     "output_type": "execute_result"
    }
   ],
   "source": [
    "d18"
   ]
  },
  {
   "cell_type": "code",
   "execution_count": 46,
   "id": "9e157f0f-e1a9-4135-adff-ec53f412c180",
   "metadata": {},
   "outputs": [
    {
     "data": {
      "text/plain": [
       "{'batch_name': ['data science', 'web dev', 'JDS'],\n",
       " 'start_date': (28, 14, 15),\n",
       " 'mentor_name': {'hitesh', 'krish', 'sid'},\n",
       " 'timing': (8, 8, 8)}"
      ]
     },
     "execution_count": 46,
     "metadata": {},
     "output_type": "execute_result"
    }
   ],
   "source": [
    "d16"
   ]
  },
  {
   "cell_type": "code",
   "execution_count": 47,
   "id": "0bf6302e-337a-4841-97da-975bfc266eb8",
   "metadata": {},
   "outputs": [
    {
     "ename": "TypeError",
     "evalue": "pop expected at least 1 argument, got 0",
     "output_type": "error",
     "traceback": [
      "\u001b[0;31m---------------------------------------------------------------------------\u001b[0m",
      "\u001b[0;31mTypeError\u001b[0m                                 Traceback (most recent call last)",
      "Cell \u001b[0;32mIn[47], line 1\u001b[0m\n\u001b[0;32m----> 1\u001b[0m \u001b[43md16\u001b[49m\u001b[38;5;241;43m.\u001b[39;49m\u001b[43mpop\u001b[49m\u001b[43m(\u001b[49m\u001b[43m)\u001b[49m\n",
      "\u001b[0;31mTypeError\u001b[0m: pop expected at least 1 argument, got 0"
     ]
    }
   ],
   "source": [
    "d16.pop()"
   ]
  },
  {
   "cell_type": "code",
   "execution_count": 48,
   "id": "76b1e40c-a518-4c05-b616-f113e555a083",
   "metadata": {},
   "outputs": [
    {
     "data": {
      "text/plain": [
       "(8, 8, 8)"
      ]
     },
     "execution_count": 48,
     "metadata": {},
     "output_type": "execute_result"
    }
   ],
   "source": [
    "d16.pop(\"timing\")"
   ]
  },
  {
   "cell_type": "code",
   "execution_count": 49,
   "id": "799cc9e9-5106-43c0-b8f5-23f7b01f37bf",
   "metadata": {},
   "outputs": [
    {
     "data": {
      "text/plain": [
       "{'batch_name': ['data science', 'web dev', 'JDS'],\n",
       " 'start_date': (28, 14, 15),\n",
       " 'mentor_name': {'hitesh', 'krish', 'sid'}}"
      ]
     },
     "execution_count": 49,
     "metadata": {},
     "output_type": "execute_result"
    }
   ],
   "source": [
    "d16"
   ]
  },
  {
   "cell_type": "code",
   "execution_count": 50,
   "id": "0d5e0eb5-2d8f-40e7-9609-e9b1ba40fa08",
   "metadata": {},
   "outputs": [
    {
     "data": {
      "text/plain": [
       "{'hitesh', 'krish', 'sid'}"
      ]
     },
     "execution_count": 50,
     "metadata": {},
     "output_type": "execute_result"
    }
   ],
   "source": [
    "d16.pop(\"mentor_name\")"
   ]
  },
  {
   "cell_type": "code",
   "execution_count": 51,
   "id": "230305e7-bb9e-4992-a988-3669d355e5cd",
   "metadata": {},
   "outputs": [
    {
     "data": {
      "text/plain": [
       "{'batch_name': ['data science', 'web dev', 'JDS'], 'start_date': (28, 14, 15)}"
      ]
     },
     "execution_count": 51,
     "metadata": {},
     "output_type": "execute_result"
    }
   ],
   "source": [
    "d16"
   ]
  },
  {
   "cell_type": "code",
   "execution_count": 55,
   "id": "1e8341e1-470c-4be8-a098-1974699760fe",
   "metadata": {},
   "outputs": [
    {
     "data": {
      "text/plain": [
       "{1: ('a', 'b', 'c'), 2: ('a', 'b', 'c'), 3: ('a', 'b', 'c')}"
      ]
     },
     "execution_count": 55,
     "metadata": {},
     "output_type": "execute_result"
    }
   ],
   "source": [
    "d= {}\n",
    "d.fromkeys((1,2,3), (\"a\", \"b\", \"c\"))"
   ]
  },
  {
   "cell_type": "code",
   "execution_count": 56,
   "id": "0859977f-a324-4a34-b374-8f6a6a4f8733",
   "metadata": {},
   "outputs": [],
   "source": [
    "d19 = {\"key1\": \"value\", \"key2\": \"value2\"}\n",
    "d20=  {\"key3\": \"value3\", \"key4\": \"value4\"}"
   ]
  },
  {
   "cell_type": "code",
   "execution_count": 57,
   "id": "82ed9d01-4bb1-4d1f-af9f-e5fa236a7177",
   "metadata": {},
   "outputs": [
    {
     "data": {
      "text/plain": [
       "({'key1': 'value', 'key2': 'value2'}, {'key3': 'value3', 'key4': 'value4'})"
      ]
     },
     "execution_count": 57,
     "metadata": {},
     "output_type": "execute_result"
    }
   ],
   "source": [
    "(d19,d20)"
   ]
  },
  {
   "cell_type": "code",
   "execution_count": 58,
   "id": "9623adf2-eb1b-4ac6-a4b0-2b01c3145dc4",
   "metadata": {},
   "outputs": [],
   "source": [
    "d19.update(d20)"
   ]
  },
  {
   "cell_type": "code",
   "execution_count": 59,
   "id": "e4bdd576-42da-4a53-9a04-269b79e1dae3",
   "metadata": {},
   "outputs": [
    {
     "data": {
      "text/plain": [
       "{'key1': 'value', 'key2': 'value2', 'key3': 'value3', 'key4': 'value4'}"
      ]
     },
     "execution_count": 59,
     "metadata": {},
     "output_type": "execute_result"
    }
   ],
   "source": [
    "d19"
   ]
  },
  {
   "cell_type": "code",
   "execution_count": 60,
   "id": "a2d68ced-5c82-4ade-91fb-1a35fa725090",
   "metadata": {},
   "outputs": [
    {
     "data": {
      "text/plain": [
       "{'key3': 'value3', 'key4': 'value4'}"
      ]
     },
     "execution_count": 60,
     "metadata": {},
     "output_type": "execute_result"
    }
   ],
   "source": [
    "d20"
   ]
  },
  {
   "cell_type": "code",
   "execution_count": 61,
   "id": "df416c04-ed83-4a84-9f37-520d5b86bd77",
   "metadata": {},
   "outputs": [],
   "source": [
    "d20.update(d19)"
   ]
  },
  {
   "cell_type": "code",
   "execution_count": 62,
   "id": "4121e7ac-15e8-4a3f-a9cd-ec5d73e054fc",
   "metadata": {},
   "outputs": [
    {
     "data": {
      "text/plain": [
       "{'key3': 'value3', 'key4': 'value4', 'key1': 'value', 'key2': 'value2'}"
      ]
     },
     "execution_count": 62,
     "metadata": {},
     "output_type": "execute_result"
    }
   ],
   "source": [
    "d20"
   ]
  },
  {
   "cell_type": "code",
   "execution_count": 63,
   "id": "941c8094-5ab1-414c-a8b0-54c228c672b1",
   "metadata": {},
   "outputs": [],
   "source": [
    "d20.get(\"ash\")"
   ]
  },
  {
   "cell_type": "code",
   "execution_count": 64,
   "id": "915fc854-6b7f-4371-8b64-41c2c1f75d21",
   "metadata": {},
   "outputs": [
    {
     "data": {
      "text/plain": [
       "'value3'"
      ]
     },
     "execution_count": 64,
     "metadata": {},
     "output_type": "execute_result"
    }
   ],
   "source": [
    "d20.get(\"key3\")"
   ]
  },
  {
   "cell_type": "code",
   "execution_count": 65,
   "id": "91118092-d98a-40d6-8c97-ff7162a963b5",
   "metadata": {},
   "outputs": [
    {
     "data": {
      "text/plain": [
       "'value3'"
      ]
     },
     "execution_count": 65,
     "metadata": {},
     "output_type": "execute_result"
    }
   ],
   "source": [
    "d20[\"key3\"]"
   ]
  },
  {
   "cell_type": "code",
   "execution_count": 66,
   "id": "0a0df00c-8cdf-4f41-96a6-688718bc85cb",
   "metadata": {},
   "outputs": [
    {
     "ename": "KeyError",
     "evalue": "'ash'",
     "output_type": "error",
     "traceback": [
      "\u001b[0;31m---------------------------------------------------------------------------\u001b[0m",
      "\u001b[0;31mKeyError\u001b[0m                                  Traceback (most recent call last)",
      "Cell \u001b[0;32mIn[66], line 1\u001b[0m\n\u001b[0;32m----> 1\u001b[0m \u001b[43md20\u001b[49m\u001b[43m[\u001b[49m\u001b[38;5;124;43m\"\u001b[39;49m\u001b[38;5;124;43mash\u001b[39;49m\u001b[38;5;124;43m\"\u001b[39;49m\u001b[43m]\u001b[49m\n",
      "\u001b[0;31mKeyError\u001b[0m: 'ash'"
     ]
    }
   ],
   "source": [
    "d20[\"ash\"]"
   ]
  },
  {
   "cell_type": "markdown",
   "id": "56c2175c-d7fd-408d-a588-3fb3a4dfff17",
   "metadata": {},
   "source": [
    "dictionary comprehension"
   ]
  },
  {
   "cell_type": "code",
   "execution_count": 73,
   "id": "98bc2fbe-130e-40cf-8834-bfa30910a1cf",
   "metadata": {},
   "outputs": [
    {
     "data": {
      "text/plain": [
       "{1: 1, 2: 4, 3: 9, 4: 16, 5: 25, 6: 36, 7: 49, 8: 64, 9: 81, 10: 100}"
      ]
     },
     "execution_count": 73,
     "metadata": {},
     "output_type": "execute_result"
    }
   ],
   "source": [
    "{i: i**2 for i in range(1,11)}"
   ]
  },
  {
   "cell_type": "code",
   "execution_count": 72,
   "id": "bd9c4af5-1246-462e-a904-095ddfb58620",
   "metadata": {},
   "outputs": [
    {
     "data": {
      "text/plain": [
       "[1, 2, 3, 4, 5, 6, 7, 8, 9, 10]"
      ]
     },
     "execution_count": 72,
     "metadata": {},
     "output_type": "execute_result"
    }
   ],
   "source": [
    "list(range(1,11))"
   ]
  },
  {
   "cell_type": "code",
   "execution_count": 74,
   "id": "3d3a65b3-3642-4a55-b417-30323ed80f00",
   "metadata": {},
   "outputs": [
    {
     "data": {
      "text/plain": [
       "{1: 11, 2: 12, 3: 13, 4: 14, 5: 15, 6: 16, 7: 17, 8: 18, 9: 19, 10: 20}"
      ]
     },
     "execution_count": 74,
     "metadata": {},
     "output_type": "execute_result"
    }
   ],
   "source": [
    "{i: i+10 for i in range(1,11)}"
   ]
  },
  {
   "cell_type": "code",
   "execution_count": 78,
   "id": "159de1dc-069b-49d4-acc8-68ad922cdd66",
   "metadata": {},
   "outputs": [],
   "source": [
    "import math\n",
    "d21= {i: math.log10(i) for i in range(1,11)}"
   ]
  },
  {
   "cell_type": "code",
   "execution_count": 76,
   "id": "df30eede-bb17-4ce7-ac9f-8d9ffe6b2f06",
   "metadata": {},
   "outputs": [
    {
     "data": {
      "text/plain": [
       "{'batch_name': ['data science', 'web dev', 'JDS'], 'start_date': (28, 14, 15)}"
      ]
     },
     "execution_count": 76,
     "metadata": {},
     "output_type": "execute_result"
    }
   ],
   "source": [
    "d16"
   ]
  },
  {
   "cell_type": "code",
   "execution_count": 77,
   "id": "20974900-538c-4554-8ad5-21d9853781e7",
   "metadata": {},
   "outputs": [
    {
     "data": {
      "text/plain": [
       "True"
      ]
     },
     "execution_count": 77,
     "metadata": {},
     "output_type": "execute_result"
    }
   ],
   "source": [
    "\"batch_name\" in d16"
   ]
  },
  {
   "cell_type": "code",
   "execution_count": 79,
   "id": "068129ea-9131-4150-9ad8-aac304e48e14",
   "metadata": {},
   "outputs": [
    {
     "data": {
      "text/plain": [
       "{1: 0.0,\n",
       " 2: 0.3010299956639812,\n",
       " 3: 0.47712125471966244,\n",
       " 4: 0.6020599913279624,\n",
       " 5: 0.6989700043360189,\n",
       " 6: 0.7781512503836436,\n",
       " 7: 0.8450980400142568,\n",
       " 8: 0.9030899869919435,\n",
       " 9: 0.9542425094393249,\n",
       " 10: 1.0}"
      ]
     },
     "execution_count": 79,
     "metadata": {},
     "output_type": "execute_result"
    }
   ],
   "source": [
    "d21"
   ]
  },
  {
   "cell_type": "code",
   "execution_count": 80,
   "id": "2e840d13-3199-44a1-a3d6-d2a8813b9677",
   "metadata": {},
   "outputs": [
    {
     "name": "stdout",
     "output_type": "stream",
     "text": [
      "0.3010299956639812\n",
      "0.6020599913279624\n",
      "0.7781512503836436\n",
      "0.9030899869919435\n",
      "1.0\n"
     ]
    }
   ],
   "source": [
    "for i in d21.keys():\n",
    "    if i %2 == 0:\n",
    "        print(d21[i])"
   ]
  },
  {
   "cell_type": "code",
   "execution_count": null,
   "id": "20adb4bd-c630-4f23-b1de-c3de21abf6ce",
   "metadata": {},
   "outputs": [],
   "source": []
  }
 ],
 "metadata": {
  "kernelspec": {
   "display_name": "Python 3 (ipykernel)",
   "language": "python",
   "name": "python3"
  },
  "language_info": {
   "codemirror_mode": {
    "name": "ipython",
    "version": 3
   },
   "file_extension": ".py",
   "mimetype": "text/x-python",
   "name": "python",
   "nbconvert_exporter": "python",
   "pygments_lexer": "ipython3",
   "version": "3.10.8"
  }
 },
 "nbformat": 4,
 "nbformat_minor": 5
}
