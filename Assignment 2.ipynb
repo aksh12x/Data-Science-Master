{
 "cells": [
  {
   "cell_type": "markdown",
   "id": "1dfb3c37-fbe9-423f-8d04-94e3c91f53bc",
   "metadata": {},
   "source": [
    "ASSIGNMENT"
   ]
  },
  {
   "cell_type": "markdown",
   "id": "edb4b5c4-29bf-4807-9efd-b3eafb20f35c",
   "metadata": {},
   "source": [
    "Ques1- Which keyword is used to create a function? Create a function to return a list of odd number in the range 1 to 25."
   ]
  },
  {
   "cell_type": "markdown",
   "id": "8443de44-74a9-4941-9b5b-b606b4c96f64",
   "metadata": {},
   "source": [
    "Ans- Def keyword is used to create a function."
   ]
  },
  {
   "cell_type": "code",
   "execution_count": 35,
   "id": "356e4b30-a59a-4bb5-bb1d-4079b61e3043",
   "metadata": {},
   "outputs": [],
   "source": [
    "def odd_no(a, b):\n",
    "    n=[]\n",
    "    for i in range(a, b):\n",
    "        if i %2 != 0:\n",
    "            n.append(i)\n",
    "    return n"
   ]
  },
  {
   "cell_type": "code",
   "execution_count": 36,
   "id": "cc95a037-ba67-4fe5-9a6c-bd60d5679475",
   "metadata": {},
   "outputs": [
    {
     "data": {
      "text/plain": [
       "[1, 3, 5, 7, 9, 11, 13, 15, 17, 19, 21, 23]"
      ]
     },
     "execution_count": 36,
     "metadata": {},
     "output_type": "execute_result"
    }
   ],
   "source": [
    "odd_no(1,25)"
   ]
  },
  {
   "cell_type": "markdown",
   "id": "df45921b-e604-4959-8010-f2ba87dffd32",
   "metadata": {},
   "source": [
    "Ques2- Why *args and **kwargs is used in some functions? Create a function each for *args and *kwargs to demonstrate their use.\n"
   ]
  },
  {
   "cell_type": "markdown",
   "id": "f5fbe23f-3ac5-4f3d-b78f-9ca2eb1caca3",
   "metadata": {},
   "source": [
    "Ans= In python * args and ** kwargs are used as an argument when we are not sure about how many number we are going to pass in a function.\n",
    "\n",
    "*args allow us to pass the variable number of non keyword argument to fumction.\n",
    "Whereas **kwargs allow us to pass the variable bumber of keyword argument to a function that can perform dictionary operation."
   ]
  },
  {
   "cell_type": "code",
   "execution_count": 46,
   "id": "13e7dc69-43ef-4d1c-85d5-dce06f891220",
   "metadata": {},
   "outputs": [],
   "source": [
    "## Example of *args to extract list from function\n",
    "def test(*args):\n",
    "    l=[]\n",
    "    for i in args:\n",
    "        if type(i) == list:\n",
    "            l.append(i)\n",
    "    return l\n",
    "    "
   ]
  },
  {
   "cell_type": "code",
   "execution_count": 47,
   "id": "8344bd0a-317c-4b32-ab54-556bf253d6d8",
   "metadata": {},
   "outputs": [
    {
     "data": {
      "text/plain": [
       "[['Ashish'], [7, 8, 9]]"
      ]
     },
     "execution_count": 47,
     "metadata": {},
     "output_type": "execute_result"
    }
   ],
   "source": [
    "test(1,2,3,4, [\"Ashish\"], 5,6, [7,8,9])"
   ]
  },
  {
   "cell_type": "code",
   "execution_count": 48,
   "id": "cceb9e24-b923-4b13-a70b-1e79d38ab73d",
   "metadata": {},
   "outputs": [],
   "source": [
    "## Example of **kwargs to perform dictionary operation\n",
    "\n",
    "def test1(**kwargs):\n",
    "    return kwargs"
   ]
  },
  {
   "cell_type": "code",
   "execution_count": 49,
   "id": "e6b8b901-4b61-4a51-b7a6-e61a5e98ac69",
   "metadata": {},
   "outputs": [
    {
     "data": {
      "text/plain": [
       "{'a': 'Ashish', 'b': 'Pw Skills', 'c': 'Data Science Master'}"
      ]
     },
     "execution_count": 49,
     "metadata": {},
     "output_type": "execute_result"
    }
   ],
   "source": [
    "test1(a=\"Ashish\", b=\"Pw Skills\", c= \"Data Science Master\")"
   ]
  },
  {
   "cell_type": "markdown",
   "id": "f4761501-76bc-4276-a3e8-038774321bd0",
   "metadata": {},
   "source": [
    "Ques3- What is an iterate in python? Name the method used to initialise the iterator object and the method used for iteration. Use these method to print the first five elements of the given list [2,4,6,8,10,12,14,16,18,20]"
   ]
  },
  {
   "cell_type": "markdown",
   "id": "64d1ade6-e8df-435a-961b-45b575acf343",
   "metadata": {},
   "source": [
    "Ans- Iterator in python is an object that used to iterate over iterable object like lists, tuples, dicts and set.\n",
    "The iterator object is initialized using the iter() method. It uses the next() method for iteration.\n"
   ]
  },
  {
   "cell_type": "code",
   "execution_count": 54,
   "id": "61e835d6-9736-4a4d-a5ad-6e3af717c203",
   "metadata": {},
   "outputs": [
    {
     "name": "stdout",
     "output_type": "stream",
     "text": [
      "2\n",
      "4\n",
      "6\n",
      "8\n",
      "10\n"
     ]
    }
   ],
   "source": [
    "lists=  [2,4,6,8,10,12,14,16,18,20]\n",
    "myiter= iter(lists)\n",
    "print(next(myiter))\n",
    "print(next(myiter))\n",
    "print(next(myiter))\n",
    "print(next(myiter))\n",
    "print(next(myiter))"
   ]
  },
  {
   "cell_type": "markdown",
   "id": "cdbe9f21-eaed-4407-9fb4-655cd6a08d46",
   "metadata": {},
   "source": [
    "Ques4- What is a generator function in python? Why yield keyword is used? Give an example of a generator function."
   ]
  },
  {
   "cell_type": "markdown",
   "id": "df59f351-f6c3-4768-a5e8-f10dc9554b17",
   "metadata": {},
   "source": [
    "Ans-  A generator-function is defined like a normal function, but whenever it needs to generate a value, it does so with the yield keyword rather than return. If the body of a def contains yield, the function automatically becomes a generator function. \n",
    "\n",
    "The yield keyword in python works like a return with the only difference is that instead of returning a value, it gives back a generator object to the caller."
   ]
  },
  {
   "cell_type": "code",
   "execution_count": 55,
   "id": "6a2aab79-6229-4561-8d19-79bc7eaa5cb8",
   "metadata": {},
   "outputs": [],
   "source": [
    "## Example of generator \n",
    "## find square upto range 10\n",
    "\n",
    "def square(n):\n",
    "    for i in range (n):\n",
    "        yield i**2"
   ]
  },
  {
   "cell_type": "code",
   "execution_count": 56,
   "id": "857a3fd9-965e-47ef-a851-127ccd5e1183",
   "metadata": {},
   "outputs": [
    {
     "name": "stdout",
     "output_type": "stream",
     "text": [
      "0\n",
      "1\n",
      "4\n",
      "9\n",
      "16\n",
      "25\n",
      "36\n",
      "49\n",
      "64\n",
      "81\n"
     ]
    }
   ],
   "source": [
    "for i in square(10):\n",
    "    print(i)"
   ]
  },
  {
   "cell_type": "markdown",
   "id": "1b95a5f8-79c3-4ad5-9a22-cc268aaa6be6",
   "metadata": {},
   "source": [
    "Ques5- Create a generator function for prime number less than 1000. Use the next() method to print the first 20 prime numbers."
   ]
  },
  {
   "cell_type": "code",
   "execution_count": 1,
   "id": "74b4e584-5d5a-43dd-a86f-4bdaa6d8dcd4",
   "metadata": {},
   "outputs": [
    {
     "name": "stdout",
     "output_type": "stream",
     "text": [
      "2\n",
      "3\n",
      "5\n",
      "7\n",
      "11\n",
      "13\n",
      "17\n",
      "19\n",
      "23\n",
      "29\n",
      "31\n",
      "37\n",
      "41\n",
      "43\n",
      "47\n",
      "53\n",
      "59\n",
      "61\n",
      "67\n",
      "71\n"
     ]
    }
   ],
   "source": [
    "def primes():\n",
    "    \"\"\"Generator function that yields prime numbers less than 1000\"\"\"\n",
    "    for num in range(2, 1000):\n",
    "        # check if num is prime\n",
    "        for i in range(2, int(num ** 0.5) + 1):\n",
    "            if num % i == 0:\n",
    "                break\n",
    "        else:\n",
    "            yield num\n",
    "# create a generator object for prime numbers\n",
    "prime_gen = primes()\n",
    "\n",
    "# print the first 20 prime numbers\n",
    "for i in range(20):\n",
    "    print(next(prime_gen))"
   ]
  },
  {
   "cell_type": "code",
   "execution_count": null,
   "id": "a0125b92-ab1b-496c-8477-3f8ba1e6a9f5",
   "metadata": {},
   "outputs": [],
   "source": []
  }
 ],
 "metadata": {
  "kernelspec": {
   "display_name": "Python 3 (ipykernel)",
   "language": "python",
   "name": "python3"
  },
  "language_info": {
   "codemirror_mode": {
    "name": "ipython",
    "version": 3
   },
   "file_extension": ".py",
   "mimetype": "text/x-python",
   "name": "python",
   "nbconvert_exporter": "python",
   "pygments_lexer": "ipython3",
   "version": "3.10.8"
  }
 },
 "nbformat": 4,
 "nbformat_minor": 5
}
