{
 "cells": [
  {
   "cell_type": "code",
   "execution_count": 1,
   "id": "6d14d879-7dd9-4812-aa8e-090e2a6b68a0",
   "metadata": {},
   "outputs": [],
   "source": [
    "a=10"
   ]
  },
  {
   "cell_type": "code",
   "execution_count": 2,
   "id": "fefb618a-55c7-4360-a398-bf75e00aaf13",
   "metadata": {},
   "outputs": [],
   "source": [
    "a='c'"
   ]
  },
  {
   "cell_type": "code",
   "execution_count": 3,
   "id": "e49fcedc-9207-4d85-ace8-5d9a9ceab0d8",
   "metadata": {},
   "outputs": [
    {
     "data": {
      "text/plain": [
       "str"
      ]
     },
     "execution_count": 3,
     "metadata": {},
     "output_type": "execute_result"
    }
   ],
   "source": [
    "type(a)"
   ]
  },
  {
   "cell_type": "code",
   "execution_count": 4,
   "id": "7a83b4ee-70d4-425c-8afd-d06decf38ba9",
   "metadata": {},
   "outputs": [
    {
     "data": {
      "text/plain": [
       "int"
      ]
     },
     "execution_count": 4,
     "metadata": {},
     "output_type": "execute_result"
    }
   ],
   "source": [
    "int"
   ]
  },
  {
   "cell_type": "code",
   "execution_count": 5,
   "id": "7f8d2173-6dbe-4d81-bce7-1a0a2b996a85",
   "metadata": {},
   "outputs": [
    {
     "data": {
      "text/plain": [
       "0"
      ]
     },
     "execution_count": 5,
     "metadata": {},
     "output_type": "execute_result"
    }
   ],
   "source": [
    "int()"
   ]
  },
  {
   "cell_type": "code",
   "execution_count": 6,
   "id": "e9799c3a-5e2d-44af-b542-02bd7113fd72",
   "metadata": {},
   "outputs": [
    {
     "data": {
      "text/plain": [
       "123"
      ]
     },
     "execution_count": 6,
     "metadata": {},
     "output_type": "execute_result"
    }
   ],
   "source": [
    "int(\"123\")"
   ]
  },
  {
   "cell_type": "code",
   "execution_count": 7,
   "id": "d03dbf2c-71f9-4a81-8e7c-fc2794336c37",
   "metadata": {},
   "outputs": [
    {
     "name": "stdout",
     "output_type": "stream",
     "text": [
      "Hello world\n"
     ]
    }
   ],
   "source": [
    "print(\"Hello world\")"
   ]
  },
  {
   "cell_type": "code",
   "execution_count": 10,
   "id": "39ff0242-4bd5-4819-9fce-83264cfd43ee",
   "metadata": {},
   "outputs": [
    {
     "name": "stdout",
     "output_type": "stream",
     "text": [
      "123\n"
     ]
    }
   ],
   "source": [
    "print(\"123\")"
   ]
  },
  {
   "cell_type": "code",
   "execution_count": 11,
   "id": "5ffab26b-e997-4197-b637-5bbeeba72967",
   "metadata": {},
   "outputs": [
    {
     "name": "stdout",
     "output_type": "stream",
     "text": [
      " my age is: 32\n"
     ]
    }
   ],
   "source": [
    "age= 32\n",
    "print(\" my age is:\", age)"
   ]
  },
  {
   "cell_type": "code",
   "execution_count": 16,
   "id": "59106348-027b-4b08-8b34-a3520c7baff1",
   "metadata": {},
   "outputs": [
    {
     "name": "stdout",
     "output_type": "stream",
     "text": [
      " My age is: 32\n"
     ]
    }
   ],
   "source": [
    "# f string\n",
    "print(f\" My age is: {age}\")\n"
   ]
  },
  {
   "cell_type": "code",
   "execution_count": 20,
   "id": "eb9eaaee-f896-42f4-9d60-8ec9908c54f2",
   "metadata": {},
   "outputs": [
    {
     "name": "stdout",
     "output_type": "stream",
     "text": [
      "My name is Ashish and age is 22\n"
     ]
    }
   ],
   "source": [
    "## format()\n",
    "name= \"Ashish\"\n",
    "age= 22\n",
    "print(\"My name is {} and age is {}\".format(name,age))"
   ]
  },
  {
   "cell_type": "code",
   "execution_count": 21,
   "id": "25b79a4b-7f01-4836-8920-fa59733bd576",
   "metadata": {},
   "outputs": [
    {
     "name": "stdout",
     "output_type": "stream",
     "text": [
      "My name is Ashish and age is 22\n"
     ]
    }
   ],
   "source": [
    "##placeholder\n",
    "print(\"My name is {firstname} and age is {firstage}\".format(firstage=age, firstname=name))"
   ]
  },
  {
   "cell_type": "code",
   "execution_count": 23,
   "id": "1e6631a3-5b95-483d-8bbd-f6d4aa083838",
   "metadata": {},
   "outputs": [
    {
     "name": "stdout",
     "output_type": "stream",
     "text": [
      "My age is 22 and i have completed : my degree of BA with the name Ashish\n"
     ]
    }
   ],
   "source": [
    "name= \"Ashish\"\n",
    "age= 22\n",
    "degree=\"BA\"\n",
    "print(\"My age is {} and i have completed : my degree of {} with the name {}\".format(age,degree,name))\n"
   ]
  },
  {
   "cell_type": "code",
   "execution_count": 24,
   "id": "0c26ca76-d9e0-4781-a7cf-fcd0129159c3",
   "metadata": {},
   "outputs": [
    {
     "name": "stdout",
     "output_type": "stream",
     "text": [
      " my age is 22 and i have completed: BA with the name Ashish\n"
     ]
    }
   ],
   "source": [
    "print(f\" my age is {age} and i have completed: {degree} with the name {name}\")"
   ]
  },
  {
   "cell_type": "code",
   "execution_count": 25,
   "id": "c4eab241-f282-46ed-8de1-fea1d66b7d03",
   "metadata": {},
   "outputs": [
    {
     "name": "stdout",
     "output_type": "stream",
     "text": [
      "My age is 22 and i have completed: my degree of BA with the name Ashish\n"
     ]
    }
   ],
   "source": [
    "print(\"My age is {age} and i have completed: my degree of {degree} with the name {name}\".format(name=name, age=age, degree=degree))"
   ]
  },
  {
   "cell_type": "code",
   "execution_count": 26,
   "id": "7dd73030-0934-4402-84a3-20d28b7d3ab4",
   "metadata": {},
   "outputs": [
    {
     "name": "stdout",
     "output_type": "stream",
     "text": [
      "you can vote\n"
     ]
    }
   ],
   "source": [
    "### control flow\n",
    "### Decision making statements\n",
    "\n",
    "# If statement\n",
    "age=18\n",
    "if age>= 18:\n",
    "    print(\"you can vote\")"
   ]
  },
  {
   "cell_type": "code",
   "execution_count": 27,
   "id": "d9c4d36b-3bb6-4a3a-900e-c5e166d81a45",
   "metadata": {},
   "outputs": [
    {
     "name": "stdin",
     "output_type": "stream",
     "text": [
      " ashish\n"
     ]
    },
    {
     "data": {
      "text/plain": [
       "'ashish'"
      ]
     },
     "execution_count": 27,
     "metadata": {},
     "output_type": "execute_result"
    }
   ],
   "source": [
    "input()"
   ]
  },
  {
   "cell_type": "code",
   "execution_count": 28,
   "id": "c7707b76-3c1a-4989-b1ba-b630e5f819ff",
   "metadata": {},
   "outputs": [
    {
     "name": "stdin",
     "output_type": "stream",
     "text": [
      "what is your name? Ashish\n"
     ]
    }
   ],
   "source": [
    "name= input(\"what is your name?\")"
   ]
  },
  {
   "cell_type": "code",
   "execution_count": 29,
   "id": "b7d0d460-a428-405b-a6b7-216b83c2d43a",
   "metadata": {},
   "outputs": [
    {
     "data": {
      "text/plain": [
       "'Ashish'"
      ]
     },
     "execution_count": 29,
     "metadata": {},
     "output_type": "execute_result"
    }
   ],
   "source": [
    "name"
   ]
  },
  {
   "cell_type": "code",
   "execution_count": 1,
   "id": "e480dd99-3bc0-486b-b7bb-a8ce1f84f69e",
   "metadata": {},
   "outputs": [
    {
     "name": "stdin",
     "output_type": "stream",
     "text": [
      "enter your age 22\n"
     ]
    }
   ],
   "source": [
    "age= int(input(\"enter your age\"))"
   ]
  },
  {
   "cell_type": "code",
   "execution_count": 2,
   "id": "b638abc5-f0d3-4f60-8cd2-799fe04cfac6",
   "metadata": {},
   "outputs": [
    {
     "data": {
      "text/plain": [
       "22"
      ]
     },
     "execution_count": 2,
     "metadata": {},
     "output_type": "execute_result"
    }
   ],
   "source": [
    "age"
   ]
  },
  {
   "cell_type": "code",
   "execution_count": 3,
   "id": "d13494f0-82cb-4754-a14b-78dbdcd1e386",
   "metadata": {},
   "outputs": [
    {
     "data": {
      "text/plain": [
       "int"
      ]
     },
     "execution_count": 3,
     "metadata": {},
     "output_type": "execute_result"
    }
   ],
   "source": [
    "type(age)"
   ]
  },
  {
   "cell_type": "code",
   "execution_count": 4,
   "id": "6edd09a6-05ed-44c9-a056-b63c6bc21dd2",
   "metadata": {},
   "outputs": [],
   "source": [
    "## Task\n",
    "## take a input of age\n",
    "## check whether age >= 18 and age<= 32\n",
    "## display a message you are young blood"
   ]
  },
  {
   "cell_type": "code",
   "execution_count": 7,
   "id": "69e53be5-6672-450a-8d56-8889b72c8597",
   "metadata": {},
   "outputs": [
    {
     "name": "stdin",
     "output_type": "stream",
     "text": [
      "Enter the age 32\n"
     ]
    },
    {
     "name": "stdout",
     "output_type": "stream",
     "text": [
      "you are young blood\n"
     ]
    }
   ],
   "source": [
    "age=int(input(\"Enter the age\"))\n",
    "if age>= 18 and age<=32:\n",
    "    print(\"you are young blood\")"
   ]
  },
  {
   "cell_type": "code",
   "execution_count": 1,
   "id": "05f7e0af-cfd4-4625-ae5d-5b385cb06aff",
   "metadata": {},
   "outputs": [
    {
     "data": {
      "text/plain": [
       "False"
      ]
     },
     "execution_count": 1,
     "metadata": {},
     "output_type": "execute_result"
    }
   ],
   "source": [
    "12>=17"
   ]
  },
  {
   "cell_type": "code",
   "execution_count": 2,
   "id": "31a29374-c902-4215-8792-f399c1b84393",
   "metadata": {},
   "outputs": [
    {
     "name": "stdin",
     "output_type": "stream",
     "text": [
      "Enter the age 1\n"
     ]
    },
    {
     "name": "stdout",
     "output_type": "stream",
     "text": [
      "Thank you, your application is rejected\n"
     ]
    }
   ],
   "source": [
    "#if else statement\n",
    "age=int(input(\"Enter the age\"))\n",
    "if age>= 18 and age<=32:\n",
    "    print(\"you are young blood\")\n",
    "else:\n",
    "    print(\"Thank you, your application is rejected\")"
   ]
  },
  {
   "cell_type": "code",
   "execution_count": null,
   "id": "14834571-b006-484b-944b-835de4494647",
   "metadata": {},
   "outputs": [],
   "source": []
  },
  {
   "cell_type": "code",
   "execution_count": null,
   "id": "39e50fd3-6b8a-41a6-a8ff-b0d15f303091",
   "metadata": {},
   "outputs": [],
   "source": [
    "## mall- input the product price\n",
    "## product > 1000 rs 20 % off\n",
    "## print the product price after discount\n",
    "## product <= 1000 rs 30 % off\n",
    "## print the product price after discount"
   ]
  },
  {
   "cell_type": "code",
   "execution_count": 3,
   "id": "38ac4f0e-24d6-40b5-ad1a-9b177dd946bd",
   "metadata": {},
   "outputs": [
    {
     "name": "stdin",
     "output_type": "stream",
     "text": [
      "Enter product price 5000\n"
     ]
    },
    {
     "name": "stdout",
     "output_type": "stream",
     "text": [
      "your mrp after discount:4000.0\n"
     ]
    }
   ],
   "source": [
    "product_price= int(input(\"Enter product price\"))\n",
    "if product_price> 1000:\n",
    "    print(\"your mrp after discount:{}\".format(product_price*0.8))\n",
    "else:\n",
    "    print(\"your mrp after discount:{}\".format(product_price*0.7))\n"
   ]
  },
  {
   "cell_type": "code",
   "execution_count": 5,
   "id": "fd39b38b-b0a8-496f-98cd-3d9d1d86e7e4",
   "metadata": {},
   "outputs": [
    {
     "data": {
      "text/plain": [
       "4000"
      ]
     },
     "execution_count": 5,
     "metadata": {},
     "output_type": "execute_result"
    }
   ],
   "source": [
    "int(5000-(20/100)*5000)"
   ]
  },
  {
   "cell_type": "code",
   "execution_count": 6,
   "id": "6ee58d78-aaa7-4b66-a26b-e0a9a5020d23",
   "metadata": {},
   "outputs": [
    {
     "data": {
      "text/plain": [
       "int"
      ]
     },
     "execution_count": 6,
     "metadata": {},
     "output_type": "execute_result"
    }
   ],
   "source": [
    "type(1000)"
   ]
  },
  {
   "cell_type": "code",
   "execution_count": 10,
   "id": "5d770bda-fa39-4c9f-b5cc-92c916ad70f5",
   "metadata": {},
   "outputs": [
    {
     "name": "stdin",
     "output_type": "stream",
     "text": [
      "Enter price 2000\n"
     ]
    },
    {
     "name": "stdout",
     "output_type": "stream",
     "text": [
      "final price: 1600.0\n"
     ]
    }
   ],
   "source": [
    "product_price= int(input(\"Enter price\"))\n",
    "if product_price > 1000:\n",
    "    print(f\"final price: {product_price*0.8}\")\n",
    "else:\n",
    "          print(f\"final pprice: {product_price*0.7}\")"
   ]
  },
  {
   "cell_type": "code",
   "execution_count": null,
   "id": "5aec8330-c0b6-4609-9764-a33a8d715284",
   "metadata": {},
   "outputs": [],
   "source": [
    "## mall- input the product price\n",
    "## product > 3000 rs 20 % off\n",
    "## print the product price after discount\n",
    "## product  price== 4000\n",
    "## you get a goa trip\n",
    "## product >= 2000 rs and <=3000 30 % off\n",
    "## print the product price after discount\n",
    "## product <=1000 rs and <= 2000 40% off\n",
    "## print the product price after discount"
   ]
  },
  {
   "cell_type": "code",
   "execution_count": 1,
   "id": "96348191-36ae-4695-994b-a49e727533a9",
   "metadata": {},
   "outputs": [
    {
     "name": "stdin",
     "output_type": "stream",
     "text": [
      "enter price: 4000\n"
     ]
    },
    {
     "name": "stdout",
     "output_type": "stream",
     "text": [
      "mrp: 3200.0\n",
      "you get goa trip\n"
     ]
    }
   ],
   "source": [
    "product_price= int(input(\"enter price:\"))\n",
    "if product_price> 3000:\n",
    "    print(\"mrp: {}\".format(product_price*0.8))\n",
    "elif product_price >= 2000 and product_price<=3000:\n",
    "    print(\"mrp: {}\".format(product_price*0.7))\n",
    "# nested if- if in if\n",
    "if product_price == 4000:\n",
    "    print(\"you get goa trip\")\n",
    "else:\n",
    "    print(\"mrp:{}\".format(product_price*0.6))"
   ]
  },
  {
   "cell_type": "code",
   "execution_count": 12,
   "id": "d28e8d5a-0f47-4f66-ab50-bd5c458be8d4",
   "metadata": {},
   "outputs": [
    {
     "name": "stdin",
     "output_type": "stream",
     "text": [
      "enter price: 5000\n"
     ]
    },
    {
     "name": "stdout",
     "output_type": "stream",
     "text": [
      "mrp: 4000.0\n"
     ]
    }
   ],
   "source": [
    "product_price= int(input(\"enter price:\"))\n",
    "if product_price> 3000:\n",
    "    print(f\"mrp: {product_price*0.8}\")\n",
    "elif product_price >= 2000 and product_price<=3000:\n",
    "    print(f\"mrp: {product_price*0.7}\")\n",
    "else:\n",
    "    print(f\"mrp:{product_price*0.6}\")"
   ]
  },
  {
   "cell_type": "code",
   "execution_count": 4,
   "id": "8a9e8595-ea91-40aa-be07-5fc55d6910bd",
   "metadata": {},
   "outputs": [
    {
     "name": "stdin",
     "output_type": "stream",
     "text": [
      "Enter the number 1000\n"
     ]
    },
    {
     "name": "stdout",
     "output_type": "stream",
     "text": [
      "Go home\n"
     ]
    }
   ],
   "source": [
    "## single statement suites\n",
    "val= int(input(\"Enter the number\"))\n",
    "if(val<=999):print(\"value is less than equal to 999\")\n",
    "else:\n",
    "    print(\"Go home\")"
   ]
  },
  {
   "cell_type": "code",
   "execution_count": 1,
   "id": "74bf4b93-460e-40f7-b283-6c568a9b145a",
   "metadata": {},
   "outputs": [
    {
     "name": "stdout",
     "output_type": "stream",
     "text": [
      "3\n"
     ]
    }
   ],
   "source": [
    "print(2+1)"
   ]
  },
  {
   "cell_type": "markdown",
   "id": "109305a1-e642-4b3f-9fbf-fbb84589cfb8",
   "metadata": {},
   "source": [
    "## Loops statements\n",
    "1. while loop\n",
    "2. for loops\n",
    "3. nested loop\n",
    "4 loop control(break, continue, pass)"
   ]
  },
  {
   "cell_type": "code",
   "execution_count": 14,
   "id": "2b01f743-1f82-45aa-83ce-3c4161194215",
   "metadata": {},
   "outputs": [
    {
     "name": "stdout",
     "output_type": "stream",
     "text": [
      "25\n",
      "26\n",
      "27\n",
      "28\n",
      "29\n",
      "30\n",
      "31\n",
      "32\n",
      "33\n",
      "34\n",
      "35\n",
      "36\n",
      "37\n",
      "38\n",
      "39\n",
      "40\n",
      "41\n",
      "42\n",
      "43\n",
      "44\n",
      "45\n",
      "46\n",
      "47\n",
      "48\n",
      "49\n",
      "50\n",
      "51\n",
      "52\n",
      "53\n",
      "54\n",
      "55\n",
      "56\n",
      "57\n",
      "58\n",
      "59\n",
      "60\n",
      "retirement\n"
     ]
    }
   ],
   "source": [
    "# while loop, while else\n",
    "joining_age= 25\n",
    "while joining_age<= 60:\n",
    "    print(joining_age)\n",
    "    joining_age= joining_age+1\n",
    "else:\n",
    "    print(\"retirement\")\n",
    "    \n"
   ]
  },
  {
   "cell_type": "code",
   "execution_count": 15,
   "id": "dec761d4-ddfa-4b43-b939-e64354037be2",
   "metadata": {},
   "outputs": [
    {
     "name": "stdout",
     "output_type": "stream",
     "text": [
      "1000\n",
      "900\n",
      "800\n",
      "700\n",
      "600\n",
      "500\n",
      "400\n",
      "300\n",
      "200\n",
      "100\n",
      "put more money bank people\n"
     ]
    }
   ],
   "source": [
    "## atm machine with 1000 rs\n",
    "total_amount= 1000\n",
    "while total_amount!=0:\n",
    "    print(total_amount)\n",
    "    total_amount=total_amount-100\n",
    "else:\n",
    "    print(\"put more money bank people\")"
   ]
  },
  {
   "cell_type": "markdown",
   "id": "29129dfd-916d-483b-8aa7-5eb6f6dbecda",
   "metadata": {},
   "source": [
    "## for loops"
   ]
  },
  {
   "cell_type": "code",
   "execution_count": 19,
   "id": "7753aa5a-56fa-4916-a8ec-cf33d8a8759e",
   "metadata": {},
   "outputs": [
    {
     "data": {
      "text/plain": [
       "list"
      ]
     },
     "execution_count": 19,
     "metadata": {},
     "output_type": "execute_result"
    }
   ],
   "source": [
    "# list is collection of data structure\n",
    "#list denoted by square bracket\n",
    "\n",
    "lst= [\"Ashish\",1,2,3,4,\"apple\"]\n",
    "type(lst)\n",
    "      "
   ]
  },
  {
   "cell_type": "code",
   "execution_count": 20,
   "id": "992322b4-7eee-4341-a795-2d35fa366824",
   "metadata": {},
   "outputs": [
    {
     "data": {
      "text/plain": [
       "'Ashish'"
      ]
     },
     "execution_count": 20,
     "metadata": {},
     "output_type": "execute_result"
    }
   ],
   "source": [
    "lst[0]"
   ]
  },
  {
   "cell_type": "code",
   "execution_count": 21,
   "id": "3fc9582f-0af0-4162-9bf7-a4815a466d09",
   "metadata": {},
   "outputs": [
    {
     "data": {
      "text/plain": [
       "['Ashish', 1, 2, 3, 4, 'apple']"
      ]
     },
     "execution_count": 21,
     "metadata": {},
     "output_type": "execute_result"
    }
   ],
   "source": [
    "lst"
   ]
  },
  {
   "cell_type": "code",
   "execution_count": 22,
   "id": "321bd120-d0a4-463f-9504-9e31fe02674b",
   "metadata": {},
   "outputs": [
    {
     "name": "stdout",
     "output_type": "stream",
     "text": [
      "Ashish\n",
      "1\n",
      "2\n",
      "3\n",
      "4\n",
      "apple\n"
     ]
    }
   ],
   "source": [
    "for x in lst:\n",
    "    print(x)"
   ]
  },
  {
   "cell_type": "code",
   "execution_count": 23,
   "id": "64f00d55-9ba8-4a50-b0ee-2f037b8db238",
   "metadata": {},
   "outputs": [],
   "source": [
    "fruits_list= [\"mango\", \"apple\", \"banana\"]\n"
   ]
  },
  {
   "cell_type": "code",
   "execution_count": 26,
   "id": "9f581920-bc9b-4227-ae56-f135ee808656",
   "metadata": {},
   "outputs": [
    {
     "name": "stdout",
     "output_type": "stream",
     "text": [
      "mango\n",
      "apple\n",
      "apple is fruit\n",
      "banana\n"
     ]
    }
   ],
   "source": [
    "for a in fruits_list:\n",
    "    print(a)\n",
    "    if a==\"apple\":\n",
    "        print(\"apple is fruit\")"
   ]
  },
  {
   "cell_type": "code",
   "execution_count": 29,
   "id": "105001ea-9316-4289-9ee7-84ee33d6ef01",
   "metadata": {},
   "outputs": [
    {
     "name": "stdout",
     "output_type": "stream",
     "text": [
      "m\n",
      "a\n",
      "n\n",
      "g\n",
      "o\n"
     ]
    }
   ],
   "source": [
    "fruit= \"mango\"\n",
    "for x in fruit:\n",
    "    print(x)"
   ]
  },
  {
   "cell_type": "code",
   "execution_count": 30,
   "id": "0a84324f-6eb4-4765-adc6-f630ca419f26",
   "metadata": {},
   "outputs": [
    {
     "data": {
      "text/plain": [
       "'n'"
      ]
     },
     "execution_count": 30,
     "metadata": {},
     "output_type": "execute_result"
    }
   ],
   "source": [
    "fruit[2]"
   ]
  },
  {
   "cell_type": "code",
   "execution_count": 31,
   "id": "559410d7-d8dc-4ff9-a7c6-98f14a9d48cd",
   "metadata": {},
   "outputs": [
    {
     "name": "stdout",
     "output_type": "stream",
     "text": [
      "mango"
     ]
    }
   ],
   "source": [
    "fruit= \"mango\"\n",
    "for x in fruit:\n",
    "    print(x, end='')"
   ]
  },
  {
   "cell_type": "code",
   "execution_count": null,
   "id": "e454e6c9-707d-4a43-aa6d-cef20c8ed9d1",
   "metadata": {},
   "outputs": [],
   "source": []
  },
  {
   "cell_type": "code",
   "execution_count": null,
   "id": "953155b7-04b7-4a20-addf-4905621b4a57",
   "metadata": {},
   "outputs": [],
   "source": [
    "## nested loops\n",
    "n= 7\n",
    "\n"
   ]
  },
  {
   "cell_type": "code",
   "execution_count": 32,
   "id": "cf0943e2-6c08-4809-adc2-920906477068",
   "metadata": {},
   "outputs": [
    {
     "data": {
      "text/plain": [
       "range(1, 6)"
      ]
     },
     "execution_count": 32,
     "metadata": {},
     "output_type": "execute_result"
    }
   ],
   "source": [
    "range(1,6)"
   ]
  },
  {
   "cell_type": "code",
   "execution_count": 33,
   "id": "a9a373b7-ef7c-4526-9472-c91a17e270ba",
   "metadata": {},
   "outputs": [
    {
     "name": "stdout",
     "output_type": "stream",
     "text": [
      "1\n",
      "2\n",
      "3\n",
      "4\n",
      "5\n"
     ]
    }
   ],
   "source": [
    "## range\n",
    "for i in range(1,6):\n",
    "    print(i)"
   ]
  },
  {
   "cell_type": "code",
   "execution_count": 34,
   "id": "0000d8ab-97b3-414e-8432-4123bbd9b6c0",
   "metadata": {},
   "outputs": [
    {
     "name": "stdout",
     "output_type": "stream",
     "text": [
      "1\n",
      "3\n",
      "5\n"
     ]
    }
   ],
   "source": [
    "for i in range (1,6,2):\n",
    "    print(i)\n"
   ]
  },
  {
   "cell_type": "code",
   "execution_count": 35,
   "id": "53c7a4e1-baba-4e98-ad85-4f2c6525e0ef",
   "metadata": {},
   "outputs": [
    {
     "name": "stdout",
     "output_type": "stream",
     "text": [
      "*\n",
      "**\n",
      "***\n",
      "****\n",
      "*****\n",
      "******\n",
      "*******\n"
     ]
    }
   ],
   "source": [
    "## nested loops\n",
    "n=7\n",
    "\n",
    "for i in range(0,n):\n",
    "    for j in range(0,i+1):\n",
    "        print(\"*\", end=\"\")\n",
    "    print(\"\\r\")"
   ]
  },
  {
   "cell_type": "code",
   "execution_count": 37,
   "id": "943d1280-6822-4c2e-9a22-fb3ddf455453",
   "metadata": {},
   "outputs": [],
   "source": [
    "# equilateral triangle assignment"
   ]
  },
  {
   "cell_type": "code",
   "execution_count": 38,
   "id": "5d4a2401-db17-4159-9908-01dcea3a62ae",
   "metadata": {},
   "outputs": [],
   "source": [
    "#loop controls\n",
    "## break and continue\n",
    "\n",
    "fruits_list= [\"mango\", \"cherry\", \"apple\", \"papaya\", \"banana\"]"
   ]
  },
  {
   "cell_type": "code",
   "execution_count": 41,
   "id": "8cbb006c-cd87-4a79-9f2b-5a557d7e0f49",
   "metadata": {},
   "outputs": [
    {
     "name": "stdout",
     "output_type": "stream",
     "text": [
      "mango\n",
      "cherry\n",
      "the fruit is apple\n"
     ]
    }
   ],
   "source": [
    "for i in fruits_list:\n",
    "    if i==\"apple\":\n",
    "        print(\"the fruit is apple\")\n",
    "        break\n",
    "    print(i)"
   ]
  },
  {
   "cell_type": "code",
   "execution_count": 42,
   "id": "2c71b910-acd2-475e-917b-40f484e5c1eb",
   "metadata": {},
   "outputs": [
    {
     "name": "stdout",
     "output_type": "stream",
     "text": [
      "mango\n",
      "cherry\n",
      "the fruit is apple\n",
      "apple\n",
      "papaya\n",
      "banana\n"
     ]
    }
   ],
   "source": [
    "for i in fruits_list:\n",
    "    if i==\"apple\":\n",
    "        print(\"the fruit is apple\")\n",
    "        pass\n",
    "    print(i)"
   ]
  },
  {
   "cell_type": "code",
   "execution_count": 43,
   "id": "5e877c02-dc22-41f5-8bc6-b81dd0a583d5",
   "metadata": {},
   "outputs": [
    {
     "name": "stdout",
     "output_type": "stream",
     "text": [
      "mango\n",
      "cherry\n",
      "the fruit is apple\n",
      "papaya\n",
      "banana\n"
     ]
    }
   ],
   "source": [
    "## continue\n",
    "for i in fruits_list:\n",
    "    if i==\"apple\":\n",
    "        print(\"the fruit is apple\")\n",
    "        continue\n",
    "    print(i)"
   ]
  },
  {
   "cell_type": "code",
   "execution_count": 1,
   "id": "e83d9892-0715-4d1e-b795-71468be04393",
   "metadata": {},
   "outputs": [
    {
     "name": "stdin",
     "output_type": "stream",
     "text": [
      "enter row 7\n"
     ]
    },
    {
     "name": "stdout",
     "output_type": "stream",
     "text": [
      "*  *  *  *  *  *  *  \n",
      "*  *  *  *  *  *  *  \n",
      "*  *  *  *  *  *  *  \n",
      "*  *  *  *  *  *  *  \n",
      "*  *  *  *  *  *  *  \n",
      "*  *  *  *  *  *  *  \n",
      "*  *  *  *  *  *  *  \n"
     ]
    }
   ],
   "source": [
    "## squARE\n",
    "n=int(input(\"enter row\"))\n",
    "for i in range ( n):\n",
    "    for j in range ( n):\n",
    "        print (\"*\", end= \"  \")\n",
    "    print()"
   ]
  },
  {
   "cell_type": "code",
   "execution_count": 2,
   "id": "f4cdaf43-a15e-4a3e-888c-30fcf6390d48",
   "metadata": {},
   "outputs": [
    {
     "name": "stdout",
     "output_type": "stream",
     "text": [
      "*  \n",
      "*  *  \n",
      "*  *  *  \n",
      "*  *  *  *  \n",
      "*  *  *  *  *  \n"
     ]
    }
   ],
   "source": [
    "## INCREASING TRIANGLE\n",
    "n= 5\n",
    "for i in range (n):\n",
    "    for j in range (i+1):\n",
    "        print(\"*\", end=\"  \")\n",
    "    print()"
   ]
  },
  {
   "cell_type": "code",
   "execution_count": 3,
   "id": "c8d780bc-6dac-4305-a0dd-2ef87576650f",
   "metadata": {},
   "outputs": [
    {
     "name": "stdout",
     "output_type": "stream",
     "text": [
      "*  *  *  *  *  \n",
      "*  *  *  *  \n",
      "*  *  *  \n",
      "*  *  \n",
      "*  \n"
     ]
    }
   ],
   "source": [
    "## DECREASING TRIANGLE\n",
    "n= 5\n",
    "for i in range (n):\n",
    "    for j in range (i, n):\n",
    "        print(\"*\", end=\"  \")\n",
    "    print()"
   ]
  },
  {
   "cell_type": "code",
   "execution_count": 4,
   "id": "5bc73a02-de44-4ae8-afc0-b04640443def",
   "metadata": {},
   "outputs": [
    {
     "name": "stdout",
     "output_type": "stream",
     "text": [
      "          * \n",
      "        * * \n",
      "      * * * \n",
      "    * * * * \n",
      "  * * * * * \n"
     ]
    }
   ],
   "source": [
    "## RIGHT SIDED TRIANGLE\n",
    "n= 5\n",
    "for i in range (n):\n",
    "    for j in range (i, n):\n",
    "        print(\" \", end = \" \")\n",
    "    for j in range (i+1):\n",
    "        print(\"*\", end =\" \")\n",
    "    print()"
   ]
  },
  {
   "cell_type": "code",
   "execution_count": 6,
   "id": "de6a2a28-95cb-4860-a240-13ed3e4fedb1",
   "metadata": {},
   "outputs": [
    {
     "name": "stdout",
     "output_type": "stream",
     "text": [
      "  * * * * * \n",
      "    * * * * \n",
      "      * * * \n",
      "        * * \n",
      "          * \n"
     ]
    }
   ],
   "source": [
    "## LEFT SIDED TRIANGLE\n",
    "n= 5\n",
    "for i in range (n):\n",
    "    for j in range (i+1):\n",
    "        print(\" \", end=\" \")\n",
    "    for j in range (i,n):\n",
    "        print(\"*\", end = \" \")\n",
    "    print()"
   ]
  },
  {
   "cell_type": "code",
   "execution_count": 7,
   "id": "d0f94399-f0b3-431f-ae68-308816a5a715",
   "metadata": {},
   "outputs": [],
   "source": [
    "## EQUILATERAL TRIANGLE OR HILL PATTERN\n"
   ]
  },
  {
   "cell_type": "code",
   "execution_count": 8,
   "id": "79f38d36-123f-48d2-bf31-85c603e22e0e",
   "metadata": {},
   "outputs": [
    {
     "name": "stdout",
     "output_type": "stream",
     "text": [
      "          * * \n",
      "        * * * * \n",
      "      * * * * * * \n",
      "    * * * * * * * * \n",
      "  * * * * * * * * * * \n"
     ]
    }
   ],
   "source": [
    "n=5\n",
    "for i in range (n):\n",
    "    for j in range (i,n):\n",
    "        print(\" \", end=\" \")\n",
    "    for j in range (i+1):\n",
    "        print(\"*\", end= \" \")\n",
    "    for j in range(i+1):\n",
    "        print(\"*\", end= \" \")\n",
    "    print()"
   ]
  },
  {
   "cell_type": "code",
   "execution_count": 9,
   "id": "52db4d84-f6b4-4422-aed5-71ddd0d0612f",
   "metadata": {},
   "outputs": [
    {
     "name": "stdout",
     "output_type": "stream",
     "text": [
      "          * \n",
      "        * * * \n",
      "      * * * * * \n",
      "    * * * * * * * \n",
      "  * * * * * * * * * \n"
     ]
    }
   ],
   "source": [
    "n=5\n",
    "for i in range (n):\n",
    "    for j in range (i,n):\n",
    "        print(\" \", end=\" \")\n",
    "    for j in range (i):\n",
    "        print(\"*\", end= \" \")\n",
    "    for j in range(i+1):\n",
    "        print(\"*\", end= \" \")\n",
    "    print()"
   ]
  },
  {
   "cell_type": "code",
   "execution_count": 10,
   "id": "5189f97c-c140-4fea-ab70-e9c80b456df0",
   "metadata": {},
   "outputs": [
    {
     "name": "stdout",
     "output_type": "stream",
     "text": [
      "  * * * * * * * * * \n",
      "    * * * * * * * \n",
      "      * * * * * \n",
      "        * * * \n",
      "          * \n"
     ]
    }
   ],
   "source": [
    "## REVERSE HILL PATTERN\n",
    "n=5\n",
    "for i in range (n):\n",
    "    for j in range (i+1):\n",
    "        print(\" \", end=\" \")\n",
    "    for j in range (i,n-1):\n",
    "        print(\"*\", end= \" \")\n",
    "    for j in range(i,n):\n",
    "        print(\"*\", end= \" \")\n",
    "    print()\n"
   ]
  },
  {
   "cell_type": "code",
   "execution_count": 11,
   "id": "6288da9f-224b-4c6b-9a54-ca44c340d7f8",
   "metadata": {},
   "outputs": [],
   "source": [
    "## DIAMOND PATTERN"
   ]
  },
  {
   "cell_type": "code",
   "execution_count": 12,
   "id": "7b6229fa-377a-4240-8a28-48a8b2b9af83",
   "metadata": {},
   "outputs": [
    {
     "name": "stdout",
     "output_type": "stream",
     "text": [
      "          * \n",
      "        * * * \n",
      "      * * * * * \n",
      "    * * * * * * * \n",
      "  * * * * * * * * * \n",
      "  * * * * * * * * * \n",
      "    * * * * * * * \n",
      "      * * * * * \n",
      "        * * * \n",
      "          * \n"
     ]
    }
   ],
   "source": [
    "n=5\n",
    "for i in range (n):\n",
    "    for j in range (i,n):\n",
    "        print(\" \", end=\" \")\n",
    "    for j in range (i):\n",
    "        print(\"*\", end= \" \")\n",
    "    for j in range(i+1):\n",
    "        print(\"*\", end= \" \")\n",
    "    print()\n",
    "    \n",
    "\n",
    "for i in range (n):\n",
    "    for j in range (i+1):\n",
    "        print(\" \", end=\" \")\n",
    "    for j in range (i,n-1):\n",
    "        print(\"*\", end= \" \")\n",
    "    for j in range(i,n):\n",
    "        print(\"*\", end= \" \")\n",
    "    print()"
   ]
  },
  {
   "cell_type": "code",
   "execution_count": 13,
   "id": "0cae9cbe-e17d-4876-8eae-3ef1bea52631",
   "metadata": {},
   "outputs": [
    {
     "name": "stdout",
     "output_type": "stream",
     "text": [
      "          * \n",
      "        * * * \n",
      "      * * * * * \n",
      "    * * * * * * * \n",
      "  * * * * * * * * * \n",
      "    * * * * * * * \n",
      "      * * * * * \n",
      "        * * * \n",
      "          * \n"
     ]
    }
   ],
   "source": [
    "n=5\n",
    "for i in range (n-1):\n",
    "    for j in range (i,n):\n",
    "        print(\" \", end=\" \")\n",
    "    for j in range (i):\n",
    "        print(\"*\", end= \" \")\n",
    "    for j in range(i+1):\n",
    "        print(\"*\", end= \" \")\n",
    "    print()\n",
    "    \n",
    "\n",
    "for i in range (n):\n",
    "    for j in range (i+1):\n",
    "        print(\" \", end=\" \")\n",
    "    for j in range (i,n-1):\n",
    "        print(\"*\", end= \" \")\n",
    "    for j in range(i,n):\n",
    "        print(\"*\", end= \" \")\n",
    "    print()"
   ]
  },
  {
   "cell_type": "code",
   "execution_count": null,
   "id": "5caf22b0-e804-4fc0-869a-d7c3c897c750",
   "metadata": {},
   "outputs": [],
   "source": []
  }
 ],
 "metadata": {
  "kernelspec": {
   "display_name": "Python 3 (ipykernel)",
   "language": "python",
   "name": "python3"
  },
  "language_info": {
   "codemirror_mode": {
    "name": "ipython",
    "version": 3
   },
   "file_extension": ".py",
   "mimetype": "text/x-python",
   "name": "python",
   "nbconvert_exporter": "python",
   "pygments_lexer": "ipython3",
   "version": "3.10.8"
  }
 },
 "nbformat": 4,
 "nbformat_minor": 5
}
