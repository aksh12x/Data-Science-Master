{
 "cells": [
  {
   "cell_type": "code",
   "execution_count": 1,
   "id": "b93239a9-5183-4246-926c-116dde0c59fc",
   "metadata": {},
   "outputs": [],
   "source": [
    "name= \"Data Science Masters\""
   ]
  },
  {
   "cell_type": "code",
   "execution_count": 2,
   "id": "20d8082d-a100-4c21-abf3-1a45f0f92a6f",
   "metadata": {},
   "outputs": [
    {
     "data": {
      "text/plain": [
       "'dATA sCIENCE mASTERS'"
      ]
     },
     "execution_count": 2,
     "metadata": {},
     "output_type": "execute_result"
    }
   ],
   "source": [
    "name.swapcase()"
   ]
  },
  {
   "cell_type": "code",
   "execution_count": 3,
   "id": "9a3c93f2-246c-4289-964c-fe1f04003f36",
   "metadata": {},
   "outputs": [
    {
     "data": {
      "text/plain": [
       "'Data Science Masters'"
      ]
     },
     "execution_count": 3,
     "metadata": {},
     "output_type": "execute_result"
    }
   ],
   "source": [
    "name.title()"
   ]
  },
  {
   "cell_type": "code",
   "execution_count": 5,
   "id": "e17c7208-0b70-4008-b180-6119d5005c3c",
   "metadata": {},
   "outputs": [
    {
     "data": {
      "text/plain": [
       "'Data science masters'"
      ]
     },
     "execution_count": 5,
     "metadata": {},
     "output_type": "execute_result"
    }
   ],
   "source": [
    "name.capitalize()"
   ]
  },
  {
   "cell_type": "markdown",
   "id": "c02df912-d444-4fe5-a520-65733f40dc62",
   "metadata": {},
   "source": [
    "## Reversing a string"
   ]
  },
  {
   "cell_type": "code",
   "execution_count": 6,
   "id": "f3c10751-af41-4207-b2cd-e8d3c4efb4bd",
   "metadata": {},
   "outputs": [
    {
     "data": {
      "text/plain": [
       "'sretsaM ecneicS ataD'"
      ]
     },
     "execution_count": 6,
     "metadata": {},
     "output_type": "execute_result"
    }
   ],
   "source": [
    "name[::-1]"
   ]
  },
  {
   "cell_type": "code",
   "execution_count": 8,
   "id": "7b6e85aa-36ad-457e-84d4-e0ed85700c48",
   "metadata": {},
   "outputs": [
    {
     "data": {
      "text/plain": [
       "<reversed at 0x7f985cda1f60>"
      ]
     },
     "execution_count": 8,
     "metadata": {},
     "output_type": "execute_result"
    }
   ],
   "source": [
    "reversed(name)"
   ]
  },
  {
   "cell_type": "code",
   "execution_count": 9,
   "id": "29fdf5a1-5f23-4468-ac39-bbb074acc2be",
   "metadata": {},
   "outputs": [
    {
     "data": {
      "text/plain": [
       "'sretsaM ecneicS ataD'"
      ]
     },
     "execution_count": 9,
     "metadata": {},
     "output_type": "execute_result"
    }
   ],
   "source": [
    "''.join(reversed(name))"
   ]
  },
  {
   "cell_type": "code",
   "execution_count": 10,
   "id": "b6c2dabc-3b6a-46c4-ae8b-d581f4336bad",
   "metadata": {},
   "outputs": [
    {
     "data": {
      "text/plain": [
       "'s r e t s a M   e c n e i c S   a t a D'"
      ]
     },
     "execution_count": 10,
     "metadata": {},
     "output_type": "execute_result"
    }
   ],
   "source": [
    "' '.join(reversed(name))"
   ]
  },
  {
   "cell_type": "code",
   "execution_count": 11,
   "id": "90a47a22-9a58-49c9-9b1a-ec44fdf3c88e",
   "metadata": {},
   "outputs": [
    {
     "data": {
      "text/plain": [
       "'NKrishaKrishiKrishk'"
      ]
     },
     "execution_count": 11,
     "metadata": {},
     "output_type": "execute_result"
    }
   ],
   "source": [
    "\"Krish\".join(\"Naik\")"
   ]
  },
  {
   "cell_type": "code",
   "execution_count": 12,
   "id": "ea6f11eb-542e-4779-9de3-acf89c666e60",
   "metadata": {},
   "outputs": [
    {
     "data": {
      "text/plain": [
       "'a b c d'"
      ]
     },
     "execution_count": 12,
     "metadata": {},
     "output_type": "execute_result"
    }
   ],
   "source": [
    "\" \".join(\"abcd\")"
   ]
  },
  {
   "cell_type": "code",
   "execution_count": 13,
   "id": "b03869c8-5a35-4577-b452-5693234ae30a",
   "metadata": {},
   "outputs": [
    {
     "data": {
      "text/plain": [
       "'a n t'"
      ]
     },
     "execution_count": 13,
     "metadata": {},
     "output_type": "execute_result"
    }
   ],
   "source": [
    "' '.join(\"ant\")"
   ]
  },
  {
   "cell_type": "code",
   "execution_count": 14,
   "id": "b5e7b833-61fa-4ba0-862e-47626135524c",
   "metadata": {},
   "outputs": [
    {
     "data": {
      "text/plain": [
       "'t n a'"
      ]
     },
     "execution_count": 14,
     "metadata": {},
     "output_type": "execute_result"
    }
   ],
   "source": [
    "' '.join(reversed(\"ant\"))"
   ]
  },
  {
   "cell_type": "code",
   "execution_count": 15,
   "id": "275c9f97-3e9f-41ae-b870-f116850ae3c5",
   "metadata": {},
   "outputs": [
    {
     "data": {
      "text/plain": [
       "'t PW Skills n PW Skills a'"
      ]
     },
     "execution_count": 15,
     "metadata": {},
     "output_type": "execute_result"
    }
   ],
   "source": [
    "' PW Skills '.join(reversed(\"ant\"))"
   ]
  },
  {
   "cell_type": "code",
   "execution_count": 16,
   "id": "f6c381b4-755e-4506-b6a6-d7cae94551a6",
   "metadata": {},
   "outputs": [
    {
     "data": {
      "text/plain": [
       "['t', 'n', 'a']"
      ]
     },
     "execution_count": 16,
     "metadata": {},
     "output_type": "execute_result"
    }
   ],
   "source": [
    "## typecasting\n",
    "list(reversed(\"ant\"))\n"
   ]
  },
  {
   "cell_type": "code",
   "execution_count": 18,
   "id": "b01cfe83-0b29-4198-9646-f9bc67554624",
   "metadata": {},
   "outputs": [
    {
     "name": "stdout",
     "output_type": "stream",
     "text": [
      "tna"
     ]
    }
   ],
   "source": [
    "for i in list(reversed(\"ant\")):\n",
    "    print(i, end= '')"
   ]
  },
  {
   "cell_type": "code",
   "execution_count": 17,
   "id": "5e25b5df-d835-44aa-a109-e4abb7f8aec4",
   "metadata": {},
   "outputs": [],
   "source": [
    "## removing character from the end of the string"
   ]
  },
  {
   "cell_type": "code",
   "execution_count": 19,
   "id": "575bd44a-dda5-40a9-8eb1-b6482e1440aa",
   "metadata": {},
   "outputs": [],
   "source": [
    "string_a= \" pw skills \""
   ]
  },
  {
   "cell_type": "code",
   "execution_count": 21,
   "id": "397ac0fd-7528-46ee-aec3-816c6d404760",
   "metadata": {},
   "outputs": [
    {
     "data": {
      "text/plain": [
       "'pw skills'"
      ]
     },
     "execution_count": 21,
     "metadata": {},
     "output_type": "execute_result"
    }
   ],
   "source": [
    "string_a.strip(\" \")"
   ]
  },
  {
   "cell_type": "code",
   "execution_count": 22,
   "id": "8b84e400-3a42-4db0-84a6-0ff6e896d1ae",
   "metadata": {},
   "outputs": [
    {
     "data": {
      "text/plain": [
       "'pw skills '"
      ]
     },
     "execution_count": 22,
     "metadata": {},
     "output_type": "execute_result"
    }
   ],
   "source": [
    "string_a.lstrip(\" \")"
   ]
  },
  {
   "cell_type": "code",
   "execution_count": 23,
   "id": "a70bb018-3410-4df8-9cb6-89e3358ffd24",
   "metadata": {},
   "outputs": [
    {
     "data": {
      "text/plain": [
       "' pw skills'"
      ]
     },
     "execution_count": 23,
     "metadata": {},
     "output_type": "execute_result"
    }
   ],
   "source": [
    "string_a.rstrip(\" \")"
   ]
  },
  {
   "cell_type": "code",
   "execution_count": 24,
   "id": "a4130e32-3bb9-4823-9aac-d58ced353672",
   "metadata": {},
   "outputs": [
    {
     "data": {
      "text/plain": [
       "'Greeting from Pwskills'"
      ]
     },
     "execution_count": 24,
     "metadata": {},
     "output_type": "execute_result"
    }
   ],
   "source": [
    "string_n= \"Greeting to Pwskills\"\n",
    "string_n.replace(\"to\",\"from\")"
   ]
  },
  {
   "cell_type": "code",
   "execution_count": 27,
   "id": "a6905c9a-6352-4c62-9dba-103a17b84318",
   "metadata": {},
   "outputs": [
    {
     "data": {
      "text/plain": [
       "'Treeting to Pwskills'"
      ]
     },
     "execution_count": 27,
     "metadata": {},
     "output_type": "execute_result"
    }
   ],
   "source": [
    "string_n.replace(\"G\",\"T\")"
   ]
  },
  {
   "cell_type": "code",
   "execution_count": 28,
   "id": "3a766630-51ea-4e31-83ce-452980ee3517",
   "metadata": {},
   "outputs": [
    {
     "data": {
      "text/plain": [
       "'hello \\tworld'"
      ]
     },
     "execution_count": 28,
     "metadata": {},
     "output_type": "execute_result"
    }
   ],
   "source": [
    "\"hello \\tworld\""
   ]
  },
  {
   "cell_type": "code",
   "execution_count": 30,
   "id": "d39e16d3-bad7-4ffb-bfa7-e4d1bb220334",
   "metadata": {},
   "outputs": [
    {
     "data": {
      "text/plain": [
       "'hello   world'"
      ]
     },
     "execution_count": 30,
     "metadata": {},
     "output_type": "execute_result"
    }
   ],
   "source": [
    "\"hello \\tworld\".expandtabs()"
   ]
  },
  {
   "cell_type": "code",
   "execution_count": 31,
   "id": "e91323e4-850d-4e62-92e2-b6eed11abc36",
   "metadata": {},
   "outputs": [],
   "source": [
    "str_1=\"welcome to pwskills. welcome to dat cience masters\""
   ]
  },
  {
   "cell_type": "code",
   "execution_count": 32,
   "id": "7f185761-1488-449a-9e0d-0acc33575619",
   "metadata": {},
   "outputs": [
    {
     "data": {
      "text/plain": [
       "'welcome to pwskills. welcome to Data science masters'"
      ]
     },
     "execution_count": 32,
     "metadata": {},
     "output_type": "execute_result"
    }
   ],
   "source": [
    "str_1.replace(\"dat\", \"Data\").replace(\"cience\", \"science\")"
   ]
  },
  {
   "cell_type": "code",
   "execution_count": 33,
   "id": "89ff1425-f719-4930-bd14-1c13fb060f47",
   "metadata": {},
   "outputs": [
    {
     "data": {
      "text/plain": [
       "'welcome to pwskills. welcome to dat cience masters'"
      ]
     },
     "execution_count": 33,
     "metadata": {},
     "output_type": "execute_result"
    }
   ],
   "source": [
    "str_1"
   ]
  },
  {
   "cell_type": "code",
   "execution_count": 35,
   "id": "8cc6559e-9ea9-4831-9f2d-b36906e2975b",
   "metadata": {},
   "outputs": [
    {
     "data": {
      "text/plain": [
       "False"
      ]
     },
     "execution_count": 35,
     "metadata": {},
     "output_type": "execute_result"
    }
   ],
   "source": [
    "str_1.isupper()"
   ]
  },
  {
   "cell_type": "code",
   "execution_count": 36,
   "id": "11750628-5723-4db9-9fa9-3ddc86c63f2b",
   "metadata": {},
   "outputs": [],
   "source": [
    "str1= \"KRISH\""
   ]
  },
  {
   "cell_type": "code",
   "execution_count": 37,
   "id": "5fe38bac-6331-429f-8125-f7edea45cf0b",
   "metadata": {},
   "outputs": [
    {
     "data": {
      "text/plain": [
       "True"
      ]
     },
     "execution_count": 37,
     "metadata": {},
     "output_type": "execute_result"
    }
   ],
   "source": [
    "str1.isupper()"
   ]
  },
  {
   "cell_type": "code",
   "execution_count": 38,
   "id": "75c74b8a-ea36-40eb-a657-b470f3498a22",
   "metadata": {},
   "outputs": [
    {
     "data": {
      "text/plain": [
       "False"
      ]
     },
     "execution_count": 38,
     "metadata": {},
     "output_type": "execute_result"
    }
   ],
   "source": [
    "str1.islower()"
   ]
  },
  {
   "cell_type": "code",
   "execution_count": 39,
   "id": "b5fee158-f98e-48dc-9296-5799b7e38833",
   "metadata": {},
   "outputs": [
    {
     "data": {
      "text/plain": [
       "False"
      ]
     },
     "execution_count": 39,
     "metadata": {},
     "output_type": "execute_result"
    }
   ],
   "source": [
    "str1.isspace()"
   ]
  },
  {
   "cell_type": "code",
   "execution_count": 40,
   "id": "affd0975-6475-4b0f-ad5c-78e86c802b98",
   "metadata": {},
   "outputs": [
    {
     "data": {
      "text/plain": [
       "True"
      ]
     },
     "execution_count": 40,
     "metadata": {},
     "output_type": "execute_result"
    }
   ],
   "source": [
    "' '.isspace()"
   ]
  },
  {
   "cell_type": "code",
   "execution_count": 41,
   "id": "6a2c5a5d-f33f-4e24-b7a6-34bc2b0728ea",
   "metadata": {},
   "outputs": [
    {
     "name": "stdout",
     "output_type": "stream",
     "text": [
      "Hello\n"
     ]
    }
   ],
   "source": [
    "if \" \".isspace():\n",
    "    print(\"Hello\")"
   ]
  },
  {
   "cell_type": "code",
   "execution_count": 42,
   "id": "ac7df60e-dd1b-4499-924e-75dd28d277ea",
   "metadata": {},
   "outputs": [],
   "source": [
    "str2= \"pwskills\""
   ]
  },
  {
   "cell_type": "code",
   "execution_count": 43,
   "id": "34fddf99-8784-4b7d-8393-811ea14c7758",
   "metadata": {},
   "outputs": [
    {
     "data": {
      "text/plain": [
       "True"
      ]
     },
     "execution_count": 43,
     "metadata": {},
     "output_type": "execute_result"
    }
   ],
   "source": [
    "str2.endswith(\"s\")"
   ]
  },
  {
   "cell_type": "code",
   "execution_count": 45,
   "id": "17588f11-80b1-4c41-b856-f77884c23e9d",
   "metadata": {},
   "outputs": [
    {
     "data": {
      "text/plain": [
       "True"
      ]
     },
     "execution_count": 45,
     "metadata": {},
     "output_type": "execute_result"
    }
   ],
   "source": [
    "str2.startswith(\"p\")"
   ]
  },
  {
   "cell_type": "code",
   "execution_count": 47,
   "id": "a1fed7f6-30b2-4e68-88fe-2419c5835088",
   "metadata": {},
   "outputs": [
    {
     "data": {
      "text/plain": [
       "True"
      ]
     },
     "execution_count": 47,
     "metadata": {},
     "output_type": "execute_result"
    }
   ],
   "source": [
    "## check if all the character in string are alphanumeric\n",
    "a=\"abcd1234\"\n",
    "a.isalnum()"
   ]
  },
  {
   "cell_type": "code",
   "execution_count": 48,
   "id": "93fb3749-0ada-49d6-967a-d92616a5f2d4",
   "metadata": {},
   "outputs": [],
   "source": [
    "## to count the number of character i  string"
   ]
  },
  {
   "cell_type": "code",
   "execution_count": 2,
   "id": "9623b1c5-03f8-4510-8e1d-e9751a651270",
   "metadata": {},
   "outputs": [
    {
     "name": "stdout",
     "output_type": "stream",
     "text": [
      "8\n"
     ]
    }
   ],
   "source": [
    "str2= \"pwskills\"\n",
    "count=0\n",
    "for i in str2:\n",
    "    count=count+1\n",
    "print(count)"
   ]
  },
  {
   "cell_type": "code",
   "execution_count": 3,
   "id": "fb2ccd7d-bd6f-49a3-86c1-aa3bf429c56f",
   "metadata": {},
   "outputs": [
    {
     "data": {
      "text/plain": [
       "8"
      ]
     },
     "execution_count": 3,
     "metadata": {},
     "output_type": "execute_result"
    }
   ],
   "source": [
    "len(str2)"
   ]
  },
  {
   "cell_type": "code",
   "execution_count": 4,
   "id": "7dd3b0ab-399e-4c61-b224-abd249f61aaf",
   "metadata": {},
   "outputs": [
    {
     "data": {
      "text/plain": [
       "'pwskills'"
      ]
     },
     "execution_count": 4,
     "metadata": {},
     "output_type": "execute_result"
    }
   ],
   "source": [
    "str2"
   ]
  },
  {
   "cell_type": "code",
   "execution_count": 8,
   "id": "9022a6a8-1c01-481c-a3c9-e9b3affdb76a",
   "metadata": {},
   "outputs": [
    {
     "data": {
      "text/plain": [
       "range(0, 8)"
      ]
     },
     "execution_count": 8,
     "metadata": {},
     "output_type": "execute_result"
    }
   ],
   "source": [
    "range(len(str2))"
   ]
  },
  {
   "cell_type": "code",
   "execution_count": 5,
   "id": "a0e6fad1-9838-4e35-b0d6-f130c686c3d7",
   "metadata": {},
   "outputs": [
    {
     "name": "stdout",
     "output_type": "stream",
     "text": [
      "p\n",
      "w\n",
      "s\n",
      "k\n",
      "i\n",
      "l\n",
      "l\n",
      "s\n"
     ]
    }
   ],
   "source": [
    "for i in str2:\n",
    "    print(i)"
   ]
  },
  {
   "cell_type": "code",
   "execution_count": 7,
   "id": "09e5922f-3646-4e7f-b770-b6ec650bd8fc",
   "metadata": {},
   "outputs": [
    {
     "name": "stdout",
     "output_type": "stream",
     "text": [
      "p\n",
      "w\n",
      "s\n",
      "k\n",
      "i\n",
      "l\n",
      "l\n",
      "s\n"
     ]
    }
   ],
   "source": [
    "for i in range(len(str2)):\n",
    "    print(str2[i])"
   ]
  },
  {
   "cell_type": "code",
   "execution_count": 9,
   "id": "a9868196-cfa2-44bb-8a7d-ef2594931692",
   "metadata": {},
   "outputs": [
    {
     "name": "stdout",
     "output_type": "stream",
     "text": [
      "0 = p\n",
      "1 = w\n",
      "2 = s\n",
      "3 = k\n",
      "4 = i\n",
      "5 = l\n",
      "6 = l\n",
      "7 = s\n"
     ]
    }
   ],
   "source": [
    "for i in range(len(str2)):\n",
    "    print(i, \"=\",str2[i])"
   ]
  },
  {
   "cell_type": "code",
   "execution_count": 10,
   "id": "86b42a7b-0d4a-4723-a8da-8dda2055708f",
   "metadata": {},
   "outputs": [],
   "source": [
    "#we can use index to iterate string reverse directiom"
   ]
  },
  {
   "cell_type": "code",
   "execution_count": 4,
   "id": "537ec03a-77f2-48c1-ac19-f71b75417c54",
   "metadata": {},
   "outputs": [
    {
     "name": "stdout",
     "output_type": "stream",
     "text": [
      "s\n",
      "l\n",
      "l\n",
      "i\n",
      "k\n",
      "s\n",
      "w\n",
      "p\n"
     ]
    }
   ],
   "source": [
    "str2= \"pwskills\"\n",
    "for i in range(len(str2)-1,-1,-1):\n",
    "    print(str2[i])"
   ]
  },
  {
   "cell_type": "code",
   "execution_count": 1,
   "id": "02d4fcbe-b4f3-461e-ae8c-e88acf38efbe",
   "metadata": {},
   "outputs": [
    {
     "name": "stdout",
     "output_type": "stream",
     "text": [
      "s\n",
      "l\n",
      "l\n",
      "i\n",
      "k\n",
      "s\n",
      "w\n",
      "p\n"
     ]
    }
   ],
   "source": [
    "string=\"pwskills\"\n",
    "ch= len(string)-1\n",
    "while ch>=0:\n",
    "    print(string[ch])\n",
    "    ch=ch-1"
   ]
  },
  {
   "cell_type": "code",
   "execution_count": 6,
   "id": "a27744cf-4bfe-4b00-9084-7bdb170f7c4e",
   "metadata": {},
   "outputs": [
    {
     "data": {
      "text/plain": [
       "7"
      ]
     },
     "execution_count": 6,
     "metadata": {},
     "output_type": "execute_result"
    }
   ],
   "source": [
    "string=\"pwskills\"\n",
    "ch= len(string)-1\n",
    "ch"
   ]
  },
  {
   "cell_type": "code",
   "execution_count": 7,
   "id": "71353f65-eb7d-4b49-b456-aa64f7b109b4",
   "metadata": {},
   "outputs": [
    {
     "data": {
      "text/plain": [
       "'s'"
      ]
     },
     "execution_count": 7,
     "metadata": {},
     "output_type": "execute_result"
    }
   ],
   "source": [
    "string[7]"
   ]
  },
  {
   "cell_type": "code",
   "execution_count": 9,
   "id": "3a00f406-06f3-4bed-99af-f7259f9197d3",
   "metadata": {},
   "outputs": [
    {
     "name": "stdout",
     "output_type": "stream",
     "text": [
      "s\n",
      "l\n",
      "l\n",
      "i\n",
      "k\n",
      "s\n",
      "w\n",
      "p\n"
     ]
    }
   ],
   "source": [
    "# alternative\n",
    "\n",
    "for i in range (len(string)):\n",
    "    print(string[len(string)- (i+1)])"
   ]
  },
  {
   "cell_type": "code",
   "execution_count": 10,
   "id": "db7437af-96fd-4cf0-a325-95818954d08a",
   "metadata": {},
   "outputs": [
    {
     "name": "stdout",
     "output_type": "stream",
     "text": [
      "sllikswp"
     ]
    }
   ],
   "source": [
    "for i in range (len(string)):\n",
    "    print(string[len(string)- (i+1)], end=\"\")"
   ]
  },
  {
   "cell_type": "code",
   "execution_count": 11,
   "id": "3605a49c-e39f-40e9-bf85-61649f92c4e0",
   "metadata": {},
   "outputs": [],
   "source": [
    "Name = \"pwskills\"\n",
    "vowels= \"AaEeIiOoUu\""
   ]
  },
  {
   "cell_type": "code",
   "execution_count": 12,
   "id": "92c63781-f933-4b0d-a730-6872c30d1796",
   "metadata": {},
   "outputs": [
    {
     "name": "stdout",
     "output_type": "stream",
     "text": [
      "p is not a vowel\n",
      "w is not a vowel\n",
      "s is not a vowel\n",
      "k is not a vowel\n",
      "i is a vowel\n",
      "l is not a vowel\n",
      "l is not a vowel\n",
      "s is not a vowel\n"
     ]
    }
   ],
   "source": [
    "for ch in Name:\n",
    "    if ch in vowels:\n",
    "        print(\"{} is a vowel\".format (ch))\n",
    "    else:\n",
    "        print(\"{} is not a vowel\".format(ch))"
   ]
  },
  {
   "cell_type": "markdown",
   "id": "9d3760ca-70db-4cde-bdbb-43a31bee791e",
   "metadata": {},
   "source": [
    "## list"
   ]
  },
  {
   "cell_type": "code",
   "execution_count": 14,
   "id": "55a26c95-3a80-40c6-b891-d13521e1b2d8",
   "metadata": {},
   "outputs": [
    {
     "data": {
      "text/plain": [
       "list"
      ]
     },
     "execution_count": 14,
     "metadata": {},
     "output_type": "execute_result"
    }
   ],
   "source": [
    "type([])"
   ]
  },
  {
   "cell_type": "code",
   "execution_count": 15,
   "id": "9b306e68-aa83-4046-86fa-0bfe87c9b34a",
   "metadata": {},
   "outputs": [
    {
     "data": {
      "text/plain": [
       "['Ashish', 'Gupta', 'pwskills', 32]"
      ]
     },
     "execution_count": 15,
     "metadata": {},
     "output_type": "execute_result"
    }
   ],
   "source": [
    "[\"Ashish\", \"Gupta\", \"pwskills\",32]"
   ]
  },
  {
   "cell_type": "code",
   "execution_count": 16,
   "id": "ff506694-3475-46a9-88e0-c5170a49bd62",
   "metadata": {},
   "outputs": [
    {
     "data": {
      "text/plain": [
       "[1, 2, 3, 4, 5]"
      ]
     },
     "execution_count": 16,
     "metadata": {},
     "output_type": "execute_result"
    }
   ],
   "source": [
    "list([1,2,3,4,5])"
   ]
  },
  {
   "cell_type": "code",
   "execution_count": 17,
   "id": "8c6ed18e-c9c7-43e8-9e66-132bb9b0eb59",
   "metadata": {},
   "outputs": [
    {
     "data": {
      "text/plain": [
       "'pwskills'"
      ]
     },
     "execution_count": 17,
     "metadata": {},
     "output_type": "execute_result"
    }
   ],
   "source": [
    "str2"
   ]
  },
  {
   "cell_type": "code",
   "execution_count": 18,
   "id": "ee240b3d-843a-4ca1-a0e5-7d117d37b6c9",
   "metadata": {},
   "outputs": [
    {
     "data": {
      "text/plain": [
       "['p', 'w', 's', 'k', 'i', 'l', 'l', 's']"
      ]
     },
     "execution_count": 18,
     "metadata": {},
     "output_type": "execute_result"
    }
   ],
   "source": [
    "list(str2)"
   ]
  },
  {
   "cell_type": "code",
   "execution_count": 21,
   "id": "21844c67-bfde-4a58-be07-b02b870d2f2b",
   "metadata": {},
   "outputs": [],
   "source": [
    "str1=\"pw skills Data Science Masters\""
   ]
  },
  {
   "cell_type": "code",
   "execution_count": 22,
   "id": "ad032191-b6c2-49f2-9bf5-d6198577a33f",
   "metadata": {},
   "outputs": [
    {
     "data": {
      "text/plain": [
       "['pw', 'skills', 'Data', 'Science', 'Masters']"
      ]
     },
     "execution_count": 22,
     "metadata": {},
     "output_type": "execute_result"
    }
   ],
   "source": [
    "list(str1.split(\" \"))"
   ]
  },
  {
   "cell_type": "code",
   "execution_count": 23,
   "id": "48ed1cd3-6336-4444-9f21-5ec15faf52d0",
   "metadata": {},
   "outputs": [
    {
     "data": {
      "text/plain": [
       "['pw', 'skills', 'Data', 'Science', 'Masters']"
      ]
     },
     "execution_count": 23,
     "metadata": {},
     "output_type": "execute_result"
    }
   ],
   "source": [
    "str1.split(\" \")"
   ]
  },
  {
   "cell_type": "code",
   "execution_count": 27,
   "id": "fef9fbcc-7aa1-4e01-a265-9ef77c8a26c0",
   "metadata": {},
   "outputs": [],
   "source": [
    "str1=\"pw skills Data Science Masters\"\n",
    "lst1= str1.split(\" \")"
   ]
  },
  {
   "cell_type": "code",
   "execution_count": 29,
   "id": "be258f66-fbae-46bb-9b12-ff6951949fef",
   "metadata": {},
   "outputs": [
    {
     "data": {
      "text/plain": [
       "'skills'"
      ]
     },
     "execution_count": 29,
     "metadata": {},
     "output_type": "execute_result"
    }
   ],
   "source": [
    "lst1[1]"
   ]
  },
  {
   "cell_type": "code",
   "execution_count": 34,
   "id": "d2542555-7499-4e25-b6b4-1f45664cd892",
   "metadata": {},
   "outputs": [
    {
     "data": {
      "text/plain": [
       "['Masters', 'Data', 'pw']"
      ]
     },
     "execution_count": 34,
     "metadata": {},
     "output_type": "execute_result"
    }
   ],
   "source": [
    "str1=\"pw skills Data Science Masters\"\n",
    "lst1= str1.split(\" \")\n",
    "lst1[::-2]"
   ]
  },
  {
   "cell_type": "code",
   "execution_count": 36,
   "id": "af672dd9-c648-4492-9b66-40553f3cd17e",
   "metadata": {},
   "outputs": [],
   "source": [
    "lst1[2]= \"Datas\""
   ]
  },
  {
   "cell_type": "code",
   "execution_count": 37,
   "id": "9a8c017d-2875-4182-b362-fcdf7adef510",
   "metadata": {},
   "outputs": [
    {
     "data": {
      "text/plain": [
       "['pw', 'skills', 'Datas', 'Science', 'Masters']"
      ]
     },
     "execution_count": 37,
     "metadata": {},
     "output_type": "execute_result"
    }
   ],
   "source": [
    "lst1"
   ]
  },
  {
   "cell_type": "code",
   "execution_count": 40,
   "id": "4a5b74e5-fd85-401f-9bc6-ebb5efb8606c",
   "metadata": {},
   "outputs": [
    {
     "data": {
      "text/plain": [
       "['skills', 'Science']"
      ]
     },
     "execution_count": 40,
     "metadata": {},
     "output_type": "execute_result"
    }
   ],
   "source": [
    "lst1[-4::2]"
   ]
  },
  {
   "cell_type": "code",
   "execution_count": 41,
   "id": "404fb7ed-9038-49ff-8e21-9a9b0d024d4b",
   "metadata": {},
   "outputs": [
    {
     "data": {
      "text/plain": [
       "['pw']"
      ]
     },
     "execution_count": 41,
     "metadata": {},
     "output_type": "execute_result"
    }
   ],
   "source": [
    "lst1[-5::-2]"
   ]
  },
  {
   "cell_type": "code",
   "execution_count": 42,
   "id": "deee815c-f024-4e3a-8c86-880f786de1b5",
   "metadata": {},
   "outputs": [
    {
     "data": {
      "text/plain": [
       "['pw', 'skills', 'Datas', 'Science', 'Masters']"
      ]
     },
     "execution_count": 42,
     "metadata": {},
     "output_type": "execute_result"
    }
   ],
   "source": [
    "lst1"
   ]
  },
  {
   "cell_type": "code",
   "execution_count": 43,
   "id": "07a901f9-974b-4d69-88d0-66dc24132c80",
   "metadata": {},
   "outputs": [
    {
     "data": {
      "text/plain": [
       "['pw', 'skills', 'Datas', 'Science', 'Masters', 'new element', 3]"
      ]
     },
     "execution_count": 43,
     "metadata": {},
     "output_type": "execute_result"
    }
   ],
   "source": [
    "## concatination operation\n",
    "\n",
    "lst1+ [\"new element\",3]"
   ]
  },
  {
   "cell_type": "code",
   "execution_count": 44,
   "id": "cf096334-201e-4d1f-875a-692dd344807a",
   "metadata": {},
   "outputs": [
    {
     "data": {
      "text/plain": [
       "['pw', 'skills', 'Datas', 'Science', 'Masters', ['new element', 3]]"
      ]
     },
     "execution_count": 44,
     "metadata": {},
     "output_type": "execute_result"
    }
   ],
   "source": [
    "lst1 + [[\"new element\",3]]"
   ]
  },
  {
   "cell_type": "code",
   "execution_count": 5,
   "id": "0a0a2aac-ec62-4019-a398-8fed8436b320",
   "metadata": {},
   "outputs": [],
   "source": [
    "lst2= lst1 + [[\"new element\",3]]"
   ]
  },
  {
   "cell_type": "code",
   "execution_count": 6,
   "id": "5878859c-e138-4f38-bddd-68bb04674a38",
   "metadata": {},
   "outputs": [
    {
     "data": {
      "text/plain": [
       "['pw', 'skills', 'Data', 'Science', 'Masters', ['new element', 3]]"
      ]
     },
     "execution_count": 6,
     "metadata": {},
     "output_type": "execute_result"
    }
   ],
   "source": [
    "lst2"
   ]
  },
  {
   "cell_type": "code",
   "execution_count": 7,
   "id": "e5543fb9-29bf-4c29-8c11-bd4a5cd4a6b6",
   "metadata": {},
   "outputs": [
    {
     "data": {
      "text/plain": [
       "'new element'"
      ]
     },
     "execution_count": 7,
     "metadata": {},
     "output_type": "execute_result"
    }
   ],
   "source": [
    "lst2[-1][0]"
   ]
  },
  {
   "cell_type": "code",
   "execution_count": 8,
   "id": "8abb819b-75ac-4a56-a8f9-d0319bc3fcb9",
   "metadata": {},
   "outputs": [
    {
     "data": {
      "text/plain": [
       "['pw', 'skills', 'Data', 'Science', 'Masters']"
      ]
     },
     "execution_count": 8,
     "metadata": {},
     "output_type": "execute_result"
    }
   ],
   "source": [
    "lst1"
   ]
  },
  {
   "cell_type": "code",
   "execution_count": 9,
   "id": "98f623a2-d1fa-42cd-8793-04dc7805b41b",
   "metadata": {},
   "outputs": [
    {
     "data": {
      "text/plain": [
       "['pw',\n",
       " 'skills',\n",
       " 'Data',\n",
       " 'Science',\n",
       " 'Masters',\n",
       " 'pw',\n",
       " 'skills',\n",
       " 'Data',\n",
       " 'Science',\n",
       " 'Masters']"
      ]
     },
     "execution_count": 9,
     "metadata": {},
     "output_type": "execute_result"
    }
   ],
   "source": [
    "lst1 *2"
   ]
  },
  {
   "cell_type": "code",
   "execution_count": 10,
   "id": "e14609bd-338f-4896-9294-f94b4aeb7958",
   "metadata": {},
   "outputs": [
    {
     "data": {
      "text/plain": [
       "['pw', 'skills', 'Data', 'Science', 'Masters']"
      ]
     },
     "execution_count": 10,
     "metadata": {},
     "output_type": "execute_result"
    }
   ],
   "source": [
    "lst1"
   ]
  },
  {
   "cell_type": "code",
   "execution_count": 11,
   "id": "f89fb366-88af-4cdf-8e30-7c9dcb93b86a",
   "metadata": {},
   "outputs": [
    {
     "name": "stdout",
     "output_type": "stream",
     "text": [
      "present\n"
     ]
    }
   ],
   "source": [
    "if \"Science\" in lst1:\n",
    "    print(\"present\")"
   ]
  },
  {
   "cell_type": "code",
   "execution_count": 20,
   "id": "319aebee-5d30-4a5d-b052-e64de77f187a",
   "metadata": {},
   "outputs": [
    {
     "data": {
      "text/plain": [
       "'pw skills Data Science Masters'"
      ]
     },
     "execution_count": 20,
     "metadata": {},
     "output_type": "execute_result"
    }
   ],
   "source": [
    "lst1"
   ]
  },
  {
   "cell_type": "code",
   "execution_count": 21,
   "id": "f45ba179-1a08-44c6-bb68-8d8ad0096ebe",
   "metadata": {},
   "outputs": [],
   "source": [
    "for elements in lst1:\n",
    "    if elements==\"Science\":\n",
    "        print(elements)\n",
    "        break"
   ]
  },
  {
   "cell_type": "code",
   "execution_count": 19,
   "id": "2269ed6d-e045-4af5-abf2-2d327645cd73",
   "metadata": {},
   "outputs": [
    {
     "data": {
      "text/plain": [
       "True"
      ]
     },
     "execution_count": 19,
     "metadata": {},
     "output_type": "execute_result"
    }
   ],
   "source": [
    "## check elements inside a list\n",
    "lst=[1,2,3,4]\n",
    "4 in lst"
   ]
  },
  {
   "cell_type": "code",
   "execution_count": 22,
   "id": "1d83f009-f603-4061-9b8d-2763e8ddaf1f",
   "metadata": {},
   "outputs": [],
   "source": [
    "lst_1=[\"zebra\", \"Monkey\", \"Donkey\", \"Lion\"]\n",
    "lst_2=[5,6,2,9,5,8,6]"
   ]
  },
  {
   "cell_type": "code",
   "execution_count": 23,
   "id": "b23d4a39-0b55-43a1-808b-86542f840f70",
   "metadata": {},
   "outputs": [],
   "source": [
    "## it prints according to ASCII value\n"
   ]
  },
  {
   "cell_type": "code",
   "execution_count": 24,
   "id": "ee6f0d5e-8ac9-4e23-af0f-ae53da1b285b",
   "metadata": {},
   "outputs": [
    {
     "name": "stdout",
     "output_type": "stream",
     "text": [
      "zebra\n"
     ]
    }
   ],
   "source": [
    "print(max(lst_1))"
   ]
  },
  {
   "cell_type": "code",
   "execution_count": 25,
   "id": "17df7f60-1af9-4042-b82a-a372d4884da2",
   "metadata": {},
   "outputs": [
    {
     "data": {
      "text/plain": [
       "9"
      ]
     },
     "execution_count": 25,
     "metadata": {},
     "output_type": "execute_result"
    }
   ],
   "source": [
    "max(lst_2)"
   ]
  },
  {
   "cell_type": "code",
   "execution_count": 26,
   "id": "81079d89-57a7-43ff-a77d-5ba1b6fcbd4d",
   "metadata": {},
   "outputs": [
    {
     "data": {
      "text/plain": [
       "'Donkey'"
      ]
     },
     "execution_count": 26,
     "metadata": {},
     "output_type": "execute_result"
    }
   ],
   "source": [
    "min(lst_1)"
   ]
  },
  {
   "cell_type": "code",
   "execution_count": 27,
   "id": "31f0eee4-2e52-4c56-86af-c4275e53f594",
   "metadata": {},
   "outputs": [
    {
     "data": {
      "text/plain": [
       "2"
      ]
     },
     "execution_count": 27,
     "metadata": {},
     "output_type": "execute_result"
    }
   ],
   "source": [
    "min(lst_2)"
   ]
  },
  {
   "cell_type": "code",
   "execution_count": 28,
   "id": "cee1f882-b8ee-4c6e-84a3-5990d93740f3",
   "metadata": {},
   "outputs": [],
   "source": [
    " #append"
   ]
  },
  {
   "cell_type": "code",
   "execution_count": 29,
   "id": "6d446135-43fb-42e7-b908-5749b931203e",
   "metadata": {},
   "outputs": [],
   "source": [
    "lst=[1,2,3,4,5,6]"
   ]
  },
  {
   "cell_type": "code",
   "execution_count": 30,
   "id": "911b9dcc-aa6c-4e17-80a4-22b021ac3cac",
   "metadata": {},
   "outputs": [
    {
     "data": {
      "text/plain": [
       "[1, 2, 3, 4, 5, 6]"
      ]
     },
     "execution_count": 30,
     "metadata": {},
     "output_type": "execute_result"
    }
   ],
   "source": [
    "lst"
   ]
  },
  {
   "cell_type": "code",
   "execution_count": 31,
   "id": "e9818ccd-2336-4709-a631-f8739f0db798",
   "metadata": {},
   "outputs": [],
   "source": [
    "lst.append(\"Pwskills\")"
   ]
  },
  {
   "cell_type": "code",
   "execution_count": 32,
   "id": "8b95ae88-bee7-463c-8c55-f86029dbe34e",
   "metadata": {},
   "outputs": [
    {
     "data": {
      "text/plain": [
       "[1, 2, 3, 4, 5, 6, 'Pwskills']"
      ]
     },
     "execution_count": 32,
     "metadata": {},
     "output_type": "execute_result"
    }
   ],
   "source": [
    "lst"
   ]
  },
  {
   "cell_type": "code",
   "execution_count": 33,
   "id": "6e5462d1-8634-45e0-8244-a8cf1d7a338e",
   "metadata": {},
   "outputs": [],
   "source": [
    "lst.append([\"Data\", \"Science\",\"Masters\"])"
   ]
  },
  {
   "cell_type": "code",
   "execution_count": 34,
   "id": "0d1b3dbc-fdbc-4f1a-a4a9-9d68198a0062",
   "metadata": {},
   "outputs": [
    {
     "data": {
      "text/plain": [
       "[1, 2, 3, 4, 5, 6, 'Pwskills', ['Data', 'Science', 'Masters']]"
      ]
     },
     "execution_count": 34,
     "metadata": {},
     "output_type": "execute_result"
    }
   ],
   "source": [
    "lst"
   ]
  },
  {
   "cell_type": "code",
   "execution_count": 37,
   "id": "c230ca89-ab83-4b6a-aeb6-595b44d23be4",
   "metadata": {},
   "outputs": [],
   "source": [
    "lst1=[\"zebra\", \"Monkey\", \"Donkey\", \"Lion\"]"
   ]
  },
  {
   "cell_type": "code",
   "execution_count": 38,
   "id": "06047d6f-653b-4568-b0f2-8540ae30b589",
   "metadata": {},
   "outputs": [
    {
     "data": {
      "text/plain": [
       "'Lion'"
      ]
     },
     "execution_count": 38,
     "metadata": {},
     "output_type": "execute_result"
    }
   ],
   "source": [
    "lst1.pop()"
   ]
  },
  {
   "cell_type": "code",
   "execution_count": 39,
   "id": "fd957eb1-a99d-4940-84a4-de07fe69ae5b",
   "metadata": {},
   "outputs": [
    {
     "data": {
      "text/plain": [
       "['zebra', 'Monkey', 'Donkey']"
      ]
     },
     "execution_count": 39,
     "metadata": {},
     "output_type": "execute_result"
    }
   ],
   "source": [
    "lst1"
   ]
  },
  {
   "cell_type": "code",
   "execution_count": 41,
   "id": "3a576e23-b1f3-42f6-8ea5-294fe38ff0cc",
   "metadata": {},
   "outputs": [
    {
     "data": {
      "text/plain": [
       "'Donkey'"
      ]
     },
     "execution_count": 41,
     "metadata": {},
     "output_type": "execute_result"
    }
   ],
   "source": [
    "lst1.pop(2)"
   ]
  },
  {
   "cell_type": "code",
   "execution_count": 42,
   "id": "02b31d8d-8c62-4f25-9538-f7d7e8120d7b",
   "metadata": {},
   "outputs": [
    {
     "data": {
      "text/plain": [
       "['zebra', 'Monkey']"
      ]
     },
     "execution_count": 42,
     "metadata": {},
     "output_type": "execute_result"
    }
   ],
   "source": [
    "lst1"
   ]
  },
  {
   "cell_type": "code",
   "execution_count": 43,
   "id": "a8e829ec-fd29-46a4-86ca-16c18d56b270",
   "metadata": {},
   "outputs": [
    {
     "data": {
      "text/plain": [
       "'zebra'"
      ]
     },
     "execution_count": 43,
     "metadata": {},
     "output_type": "execute_result"
    }
   ],
   "source": [
    "removed_element=lst1.pop(0)\n",
    "removed_element"
   ]
  },
  {
   "cell_type": "code",
   "execution_count": 44,
   "id": "54b4cda7-b3ab-46f9-b30a-eda6dcb035dc",
   "metadata": {},
   "outputs": [
    {
     "ename": "IndexError",
     "evalue": "list index out of range",
     "output_type": "error",
     "traceback": [
      "\u001b[0;31m---------------------------------------------------------------------------\u001b[0m",
      "\u001b[0;31mIndexError\u001b[0m                                Traceback (most recent call last)",
      "Cell \u001b[0;32mIn[44], line 1\u001b[0m\n\u001b[0;32m----> 1\u001b[0m \u001b[43mlst1\u001b[49m\u001b[43m[\u001b[49m\u001b[38;5;241;43m100\u001b[39;49m\u001b[43m]\u001b[49m\n",
      "\u001b[0;31mIndexError\u001b[0m: list index out of range"
     ]
    }
   ],
   "source": [
    "lst1[100]"
   ]
  },
  {
   "cell_type": "code",
   "execution_count": 45,
   "id": "8b45af23-3405-4781-9914-7b7731acbc5d",
   "metadata": {},
   "outputs": [],
   "source": [
    "## sorting and reverse method in list"
   ]
  },
  {
   "cell_type": "code",
   "execution_count": 46,
   "id": "1f304cd4-7802-4752-b5d8-9e8cb29c37e9",
   "metadata": {},
   "outputs": [
    {
     "data": {
      "text/plain": [
       "['q', 'e', 'f', 's', 't', 'u']"
      ]
     },
     "execution_count": 46,
     "metadata": {},
     "output_type": "execute_result"
    }
   ],
   "source": [
    "new_list=[\"q\",\"e\",\"f\",\"s\",\"t\",\"u\"]\n",
    "new_list"
   ]
  },
  {
   "cell_type": "code",
   "execution_count": 47,
   "id": "3ea42fd9-593e-411f-8ef6-b23a3781aeff",
   "metadata": {},
   "outputs": [
    {
     "data": {
      "text/plain": [
       "['u', 't', 's', 'f', 'e', 'q']"
      ]
     },
     "execution_count": 47,
     "metadata": {},
     "output_type": "execute_result"
    }
   ],
   "source": [
    "new_list[::-1]"
   ]
  },
  {
   "cell_type": "code",
   "execution_count": 48,
   "id": "61f42960-ceea-4ce9-b99e-d494931604f4",
   "metadata": {},
   "outputs": [],
   "source": [
    "##in place\n",
    "new_list.reverse()"
   ]
  },
  {
   "cell_type": "code",
   "execution_count": 49,
   "id": "ef28f077-cd7f-4b49-bcab-480830159c1e",
   "metadata": {},
   "outputs": [
    {
     "data": {
      "text/plain": [
       "['u', 't', 's', 'f', 'e', 'q']"
      ]
     },
     "execution_count": 49,
     "metadata": {},
     "output_type": "execute_result"
    }
   ],
   "source": [
    "new_list"
   ]
  },
  {
   "cell_type": "code",
   "execution_count": 50,
   "id": "9eaaa5ac-798e-4040-b150-01940ca296c2",
   "metadata": {},
   "outputs": [],
   "source": [
    "new_list.sort()"
   ]
  },
  {
   "cell_type": "code",
   "execution_count": 51,
   "id": "a7880e68-96b1-4455-9825-5a5c26dfc814",
   "metadata": {},
   "outputs": [
    {
     "data": {
      "text/plain": [
       "['e', 'f', 'q', 's', 't', 'u']"
      ]
     },
     "execution_count": 51,
     "metadata": {},
     "output_type": "execute_result"
    }
   ],
   "source": [
    "new_list"
   ]
  },
  {
   "cell_type": "code",
   "execution_count": 66,
   "id": "09b21ec4-9d28-4db7-9251-7c1fe9937b7d",
   "metadata": {},
   "outputs": [],
   "source": [
    "new_list.sort(reverse=True)"
   ]
  },
  {
   "cell_type": "code",
   "execution_count": 67,
   "id": "7e07d7e3-f189-492c-a798-f39e6b3f80e6",
   "metadata": {},
   "outputs": [
    {
     "data": {
      "text/plain": [
       "['u', 't', 's', 'q', 'f', 'e']"
      ]
     },
     "execution_count": 67,
     "metadata": {},
     "output_type": "execute_result"
    }
   ],
   "source": [
    "new_list"
   ]
  },
  {
   "cell_type": "code",
   "execution_count": 55,
   "id": "c01d0560-846e-422b-8c71-3820c7a36fb7",
   "metadata": {},
   "outputs": [],
   "source": [
    "lst=[1,2,3,4,5,6]\n",
    "lst.append(10)"
   ]
  },
  {
   "cell_type": "code",
   "execution_count": 56,
   "id": "05e0dd0f-3d6e-49de-ae0e-76b1058be8f4",
   "metadata": {},
   "outputs": [
    {
     "data": {
      "text/plain": [
       "[1, 2, 3, 4, 5, 6, 10]"
      ]
     },
     "execution_count": 56,
     "metadata": {},
     "output_type": "execute_result"
    }
   ],
   "source": [
    "lst"
   ]
  },
  {
   "cell_type": "code",
   "execution_count": 57,
   "id": "77f525ac-1af0-4fa5-ba1f-d7048fb201bd",
   "metadata": {},
   "outputs": [],
   "source": [
    "lst.append([\"pw\", \"slills\"])"
   ]
  },
  {
   "cell_type": "code",
   "execution_count": 58,
   "id": "5b62b8f1-6caa-4e68-a773-a1db34eabda0",
   "metadata": {},
   "outputs": [
    {
     "data": {
      "text/plain": [
       "[1, 2, 3, 4, 5, 6, 10, ['pw', 'slills']]"
      ]
     },
     "execution_count": 58,
     "metadata": {},
     "output_type": "execute_result"
    }
   ],
   "source": [
    "lst"
   ]
  },
  {
   "cell_type": "code",
   "execution_count": 63,
   "id": "130175fe-f99c-4529-9ad9-87978e69778a",
   "metadata": {},
   "outputs": [],
   "source": [
    "lst=[1,2,3,4,5,6]\n",
    "lst.extend([\"pw\", \"skills\"])"
   ]
  },
  {
   "cell_type": "code",
   "execution_count": 64,
   "id": "2151de95-bb4b-47ca-8979-29c2d7c72aec",
   "metadata": {},
   "outputs": [
    {
     "data": {
      "text/plain": [
       "[1, 2, 3, 4, 5, 6, 'pw', 'skills']"
      ]
     },
     "execution_count": 64,
     "metadata": {},
     "output_type": "execute_result"
    }
   ],
   "source": [
    "lst"
   ]
  },
  {
   "cell_type": "markdown",
   "id": "c5d7254a-9dea-46e1-beb8-66045f5b87ba",
   "metadata": {
    "tags": []
   },
   "source": [
    "# Nested list"
   ]
  },
  {
   "cell_type": "code",
   "execution_count": 68,
   "id": "05cbc3f8-af92-4289-b9e3-57a7b4ee0465",
   "metadata": {},
   "outputs": [],
   "source": [
    "## Let's make three lists\n",
    "lst_1=[1,2,3]\n",
    "lst_2=[4,5,6]\n",
    "lst_3= [7,8,9]\n",
    "\n",
    "#make a list of lists to form a matrix\n",
    "matrix = [lst_1,lst_2,lst_3]"
   ]
  },
  {
   "cell_type": "code",
   "execution_count": 69,
   "id": "420fb59e-b61d-48f9-946b-6df42c129486",
   "metadata": {},
   "outputs": [
    {
     "data": {
      "text/plain": [
       "[[1, 2, 3], [4, 5, 6], [7, 8, 9]]"
      ]
     },
     "execution_count": 69,
     "metadata": {},
     "output_type": "execute_result"
    }
   ],
   "source": [
    "matrix"
   ]
  },
  {
   "cell_type": "code",
   "execution_count": 70,
   "id": "9ad72a87-e5f8-41a8-b5a6-4ee74aacdb10",
   "metadata": {},
   "outputs": [
    {
     "data": {
      "text/plain": [
       "[1, 2, 3]"
      ]
     },
     "execution_count": 70,
     "metadata": {},
     "output_type": "execute_result"
    }
   ],
   "source": [
    "matrix[0]"
   ]
  },
  {
   "cell_type": "code",
   "execution_count": 71,
   "id": "c82a815c-47c3-4e22-b998-78c6e103dffd",
   "metadata": {},
   "outputs": [
    {
     "data": {
      "text/plain": [
       "6"
      ]
     },
     "execution_count": 71,
     "metadata": {},
     "output_type": "execute_result"
    }
   ],
   "source": [
    "matrix[1][2]"
   ]
  },
  {
   "cell_type": "code",
   "execution_count": 3,
   "id": "e534ff5e-9e5b-4db8-8114-6f5e984bbd72",
   "metadata": {},
   "outputs": [
    {
     "data": {
      "text/plain": [
       "[8, 9]"
      ]
     },
     "execution_count": 3,
     "metadata": {},
     "output_type": "execute_result"
    }
   ],
   "source": [
    "lst_1=[1,2,3]\n",
    "lst_2=[4,5,6]\n",
    "lst_3= [7,8,9]\n",
    "\n",
    "#make a list of lists to form a matrix\n",
    "matrix = [lst_1,lst_2,lst_3]\n",
    "\n",
    "matrix[2][1:]"
   ]
  },
  {
   "cell_type": "code",
   "execution_count": 4,
   "id": "dcb4e7e2-47c7-46f2-88a9-a462144e16be",
   "metadata": {},
   "outputs": [
    {
     "data": {
      "text/plain": [
       "2"
      ]
     },
     "execution_count": 4,
     "metadata": {},
     "output_type": "execute_result"
    }
   ],
   "source": [
    "matrix[0][1]"
   ]
  },
  {
   "cell_type": "code",
   "execution_count": 5,
   "id": "26977bb3-76db-47db-b249-387b1f6d8e3c",
   "metadata": {},
   "outputs": [
    {
     "data": {
      "text/plain": [
       "[1, 2, 3]"
      ]
     },
     "execution_count": 5,
     "metadata": {},
     "output_type": "execute_result"
    }
   ],
   "source": [
    "matrix[0:][0]"
   ]
  },
  {
   "cell_type": "code",
   "execution_count": 6,
   "id": "44eee636-d053-4d4b-a1d7-f4d892c12025",
   "metadata": {},
   "outputs": [
    {
     "data": {
      "text/plain": [
       "[0, 1, 2, 3, 4, 5, 6, 7, 8, 9, 10, 11, 12, 13, 14, 15, 16, 17, 18, 19]"
      ]
     },
     "execution_count": 6,
     "metadata": {},
     "output_type": "execute_result"
    }
   ],
   "source": [
    "# list cpmprehension\n",
    "[i for i in range (20)]"
   ]
  },
  {
   "cell_type": "code",
   "execution_count": 7,
   "id": "91982f23-2371-4427-8fae-774e270f7638",
   "metadata": {},
   "outputs": [
    {
     "data": {
      "text/plain": [
       "[0,\n",
       " 'odd',\n",
       " 2,\n",
       " 'odd',\n",
       " 4,\n",
       " 'odd',\n",
       " 6,\n",
       " 'odd',\n",
       " 8,\n",
       " 'odd',\n",
       " 10,\n",
       " 'odd',\n",
       " 12,\n",
       " 'odd',\n",
       " 14,\n",
       " 'odd',\n",
       " 16,\n",
       " 'odd',\n",
       " 18,\n",
       " 'odd']"
      ]
     },
     "execution_count": 7,
     "metadata": {},
     "output_type": "execute_result"
    }
   ],
   "source": [
    "## even no\n",
    "[i if i%2==0 else \"odd\" for i in range (20)]"
   ]
  },
  {
   "cell_type": "code",
   "execution_count": 8,
   "id": "26438324-6a90-474a-bdac-e11750442eaa",
   "metadata": {},
   "outputs": [
    {
     "data": {
      "text/plain": [
       "[0, 1, 2, 3, 4, 5, 6, 7, 8, 9, 10, 11, 12, 13, 14, 15, 16, 17, 18, 19]"
      ]
     },
     "execution_count": 8,
     "metadata": {},
     "output_type": "execute_result"
    }
   ],
   "source": [
    "[i for i in range (0,20)]"
   ]
  },
  {
   "cell_type": "code",
   "execution_count": 9,
   "id": "a4d56e50-3470-4a7b-b41f-81ff9533f302",
   "metadata": {},
   "outputs": [
    {
     "data": {
      "text/plain": [
       "[0,\n",
       " '0dd',\n",
       " 2,\n",
       " '0dd',\n",
       " 4,\n",
       " '0dd',\n",
       " 6,\n",
       " '0dd',\n",
       " 8,\n",
       " '0dd',\n",
       " 10,\n",
       " '0dd',\n",
       " 12,\n",
       " '0dd',\n",
       " 14,\n",
       " '0dd',\n",
       " 16,\n",
       " '0dd',\n",
       " 18,\n",
       " '0dd']"
      ]
     },
     "execution_count": 9,
     "metadata": {},
     "output_type": "execute_result"
    }
   ],
   "source": [
    "[i if i%2==0 else \"0dd\" for i in range (0,20)]"
   ]
  },
  {
   "cell_type": "code",
   "execution_count": 10,
   "id": "f32e73cd-1544-4ef3-8825-c60dff28c23b",
   "metadata": {},
   "outputs": [],
   "source": [
    "## assignment\n",
    "## sum of even mo and odd no\n",
    "lst=[1,2,3,4,5,6,7,8]"
   ]
  },
  {
   "cell_type": "code",
   "execution_count": 13,
   "id": "77dbb699-8c1c-4844-9ac1-06a84383d37e",
   "metadata": {},
   "outputs": [
    {
     "name": "stdout",
     "output_type": "stream",
     "text": [
      "20\n",
      "16\n"
     ]
    }
   ],
   "source": [
    "even_sum=0\n",
    "odd_sum=0\n",
    "for i in lst:\n",
    "    if i % 2 ==0:\n",
    "        even_sum += i\n",
    "    else:\n",
    "        odd_sum += i\n",
    "        \n",
    "print(even_sum)\n",
    "print(odd_sum)"
   ]
  },
  {
   "cell_type": "code",
   "execution_count": 14,
   "id": "6fdf6606-5f78-45f8-aa31-3330d34a62e5",
   "metadata": {},
   "outputs": [
    {
     "data": {
      "text/plain": [
       "[2, 4, 6, 8]"
      ]
     },
     "execution_count": 14,
     "metadata": {},
     "output_type": "execute_result"
    }
   ],
   "source": [
    "[num for num in lst if num%2==0]"
   ]
  },
  {
   "cell_type": "code",
   "execution_count": 15,
   "id": "5b20a68d-1272-464d-90d2-2ba07d79fb58",
   "metadata": {},
   "outputs": [],
   "source": [
    "even_sum= sum([num for num in lst if num%2==0])"
   ]
  },
  {
   "cell_type": "code",
   "execution_count": 16,
   "id": "ac99a488-4a38-4f4d-b5a1-155b949eec3f",
   "metadata": {},
   "outputs": [
    {
     "data": {
      "text/plain": [
       "20"
      ]
     },
     "execution_count": 16,
     "metadata": {},
     "output_type": "execute_result"
    }
   ],
   "source": [
    "even_sum"
   ]
  },
  {
   "cell_type": "code",
   "execution_count": 17,
   "id": "222697ec-1bdc-40fd-9aae-d1340ab43fdf",
   "metadata": {},
   "outputs": [],
   "source": [
    "odd_sum= sum([num for num in lst if num%2!=0])"
   ]
  },
  {
   "cell_type": "code",
   "execution_count": 18,
   "id": "fd2912a0-b5a3-4dec-be3c-28bb22e28757",
   "metadata": {},
   "outputs": [
    {
     "data": {
      "text/plain": [
       "16"
      ]
     },
     "execution_count": 18,
     "metadata": {},
     "output_type": "execute_result"
    }
   ],
   "source": [
    "odd_sum"
   ]
  },
  {
   "cell_type": "code",
   "execution_count": 19,
   "id": "271f7a13-1abb-4eeb-bbeb-ed3754d80156",
   "metadata": {},
   "outputs": [
    {
     "data": {
      "text/plain": [
       "[1, 4, 9, 16, 25, 36, 49, 64, 81, 100]"
      ]
     },
     "execution_count": 19,
     "metadata": {},
     "output_type": "execute_result"
    }
   ],
   "source": [
    "lst=[1,2,3,4,5,6,7,8,9,10]\n",
    "[num **2 for num in lst]"
   ]
  },
  {
   "cell_type": "code",
   "execution_count": 20,
   "id": "ef759874-52bd-4c80-a8ff-b7017a983f55",
   "metadata": {},
   "outputs": [
    {
     "data": {
      "text/plain": [
       "[1, 2, 3, 4]"
      ]
     },
     "execution_count": 20,
     "metadata": {},
     "output_type": "execute_result"
    }
   ],
   "source": [
    "# example 2 create a list pf only the positive number from a given list\n",
    "\n",
    "numbers = [-2, -1, 0, 1,2,3,4]\n",
    "[num for num in numbers if num > 0]"
   ]
  },
  {
   "cell_type": "code",
   "execution_count": 21,
   "id": "a5b10c6c-7588-42de-8c6c-49813fa9465a",
   "metadata": {},
   "outputs": [
    {
     "data": {
      "text/plain": [
       "['a', 'b', 'c', 'd']"
      ]
     },
     "execution_count": 21,
     "metadata": {},
     "output_type": "execute_result"
    }
   ],
   "source": [
    "# example: create a list of only the first lettters of words in a list\n",
    "words = [\"apple\", \"banana\", \"cherry\", \"date\"]\n",
    "[word [0] for word in words ]"
   ]
  },
  {
   "cell_type": "code",
   "execution_count": 22,
   "id": "2a893216-fe23-417a-b2a1-4450744177f2",
   "metadata": {},
   "outputs": [
    {
     "ename": "NameError",
     "evalue": "name 'temp' is not defined",
     "output_type": "error",
     "traceback": [
      "\u001b[0;31m---------------------------------------------------------------------------\u001b[0m",
      "\u001b[0;31mNameError\u001b[0m                                 Traceback (most recent call last)",
      "Cell \u001b[0;32mIn[22], line 1\u001b[0m\n\u001b[0;32m----> 1\u001b[0m (\u001b[38;5;241m9\u001b[39m\u001b[38;5;241m/\u001b[39m\u001b[38;5;241m5\u001b[39m)\u001b[38;5;241m*\u001b[39m \u001b[43mtemp\u001b[49m \u001b[38;5;241m+\u001b[39m\u001b[38;5;241m32\u001b[39m\n",
      "\u001b[0;31mNameError\u001b[0m: name 'temp' is not defined"
     ]
    }
   ],
   "source": [
    "(9/5)* temp +32"
   ]
  },
  {
   "cell_type": "code",
   "execution_count": 23,
   "id": "ce42e59c-3575-449e-a9ea-fa738c986a9e",
   "metadata": {},
   "outputs": [],
   "source": [
    "## example : convert a list of temperature from celsius to farenhite using list comprehenson\n",
    "\n",
    "celsius_temperature = [0,10,20,30,40,50]"
   ]
  },
  {
   "cell_type": "code",
   "execution_count": 24,
   "id": "5db6109f-3838-4c5f-a0f5-5b1c79a4d6d7",
   "metadata": {},
   "outputs": [
    {
     "data": {
      "text/plain": [
       "[32.0, 50.0, 68.0, 86.0, 104.0, 122.0]"
      ]
     },
     "execution_count": 24,
     "metadata": {},
     "output_type": "execute_result"
    }
   ],
   "source": [
    "[(9/5)*temp + 32 for temp in celsius_temperature]"
   ]
  },
  {
   "cell_type": "code",
   "execution_count": 28,
   "id": "87ccb4c0-c67c-466b-9a8b-155c4dae5922",
   "metadata": {},
   "outputs": [
    {
     "data": {
      "text/plain": [
       "[1, 2, 3, 4, 5, 6, 7, 8, 9]"
      ]
     },
     "execution_count": 28,
     "metadata": {},
     "output_type": "execute_result"
    }
   ],
   "source": [
    "##example : flatten a list of lists into a single list\n",
    "\n",
    "lists = [[1,2,3], [4,5,6], [7,8,9]]\n",
    "[num for sublist in lists for num in sublist]"
   ]
  },
  {
   "cell_type": "code",
   "execution_count": 29,
   "id": "4c2a993c-39ef-4d45-8324-18e16f7dbaac",
   "metadata": {},
   "outputs": [],
   "source": [
    "## assignment\n",
    "## using code and list comprehension\n",
    "#example : create a list of only the prime numbers from a given list\n",
    "numbers = [1,2,3,4,5,6,7,8,9,10]"
   ]
  },
  {
   "cell_type": "code",
   "execution_count": 30,
   "id": "89a41e5f-ad49-426f-9e10-748034c7aac4",
   "metadata": {},
   "outputs": [],
   "source": [
    "#example: create a list of all the possible combination of 2 element from a list\n",
    "number = [1,2,3,4,5]\n",
    "##(1,2), (1,3)"
   ]
  },
  {
   "cell_type": "code",
   "execution_count": null,
   "id": "dd76d60d-a2b9-4dac-838f-51d7772f8c57",
   "metadata": {},
   "outputs": [],
   "source": []
  }
 ],
 "metadata": {
  "kernelspec": {
   "display_name": "Python 3 (ipykernel)",
   "language": "python",
   "name": "python3"
  },
  "language_info": {
   "codemirror_mode": {
    "name": "ipython",
    "version": 3
   },
   "file_extension": ".py",
   "mimetype": "text/x-python",
   "name": "python",
   "nbconvert_exporter": "python",
   "pygments_lexer": "ipython3",
   "version": "3.10.8"
  }
 },
 "nbformat": 4,
 "nbformat_minor": 5
}
