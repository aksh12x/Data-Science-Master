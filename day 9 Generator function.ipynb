{
 "cells": [
  {
   "cell_type": "markdown",
   "id": "c589c913-6448-412a-9698-1a8a563bf838",
   "metadata": {},
   "source": [
    "#Generator function"
   ]
  },
  {
   "cell_type": "code",
   "execution_count": 1,
   "id": "7d4e06d4-3f81-4632-b1d7-e59604117168",
   "metadata": {},
   "outputs": [
    {
     "data": {
      "text/plain": [
       "range(1, 10)"
      ]
     },
     "execution_count": 1,
     "metadata": {},
     "output_type": "execute_result"
    }
   ],
   "source": [
    "range(1,10)"
   ]
  },
  {
   "cell_type": "code",
   "execution_count": 2,
   "id": "eeec7113-fff6-444f-a33b-5c14b799a806",
   "metadata": {},
   "outputs": [
    {
     "name": "stdout",
     "output_type": "stream",
     "text": [
      "1\n",
      "2\n",
      "3\n",
      "4\n",
      "5\n",
      "6\n",
      "7\n",
      "8\n",
      "9\n"
     ]
    }
   ],
   "source": [
    "for i in range(1,10):\n",
    "    print(i)"
   ]
  },
  {
   "cell_type": "code",
   "execution_count": 3,
   "id": "d9493f6e-8bd7-4097-a3f3-2bb33448af39",
   "metadata": {},
   "outputs": [],
   "source": [
    "l= [1,2,3,4,5,6,7,8, \"Ash\", \"pw\"]"
   ]
  },
  {
   "cell_type": "code",
   "execution_count": 4,
   "id": "6a8fd22e-86a0-4482-98cc-5146091597b5",
   "metadata": {},
   "outputs": [],
   "source": [
    "def test1(a):\n",
    "    n=[]\n",
    "    for i in a:\n",
    "        if type (i) == int:\n",
    "            n.append(i)\n",
    "    return n"
   ]
  },
  {
   "cell_type": "code",
   "execution_count": 5,
   "id": "d87bdd94-9998-4ea5-afbf-0d28ce5fee25",
   "metadata": {},
   "outputs": [
    {
     "data": {
      "text/plain": [
       "[1, 2, 3, 4, 5, 6, 7, 8]"
      ]
     },
     "execution_count": 5,
     "metadata": {},
     "output_type": "execute_result"
    }
   ],
   "source": [
    "test1(l)"
   ]
  },
  {
   "cell_type": "markdown",
   "id": "df6bdc92-9615-478c-85a5-3b47fcb91b34",
   "metadata": {},
   "source": [
    "Fibonacci:\n",
    "    \n",
    "    0,1,1,2,3,5,8,13,21,34"
   ]
  },
  {
   "cell_type": "code",
   "execution_count": 10,
   "id": "b4ec1579-e0d7-44f6-8591-53a1b4aa2e91",
   "metadata": {},
   "outputs": [],
   "source": [
    "def test_fib(n) :\n",
    "    a, b= 0,1\n",
    "    for i in range (n):\n",
    "        yield a\n",
    "        a,b = b, a+ b"
   ]
  },
  {
   "cell_type": "code",
   "execution_count": 11,
   "id": "a9ae6b3a-f167-4696-bd24-b3c8766ff51f",
   "metadata": {},
   "outputs": [
    {
     "data": {
      "text/plain": [
       "<generator object test_fib at 0x7f4197e6d930>"
      ]
     },
     "execution_count": 11,
     "metadata": {},
     "output_type": "execute_result"
    }
   ],
   "source": [
    "test_fib(10)"
   ]
  },
  {
   "cell_type": "code",
   "execution_count": 12,
   "id": "e2d8520c-30cc-4a91-aa90-5f4bc10a76be",
   "metadata": {},
   "outputs": [
    {
     "name": "stdout",
     "output_type": "stream",
     "text": [
      "0\n",
      "1\n",
      "1\n",
      "2\n",
      "3\n",
      "5\n",
      "8\n",
      "13\n",
      "21\n",
      "34\n"
     ]
    }
   ],
   "source": [
    "for i in test_fib(10):\n",
    "    print(i)"
   ]
  },
  {
   "cell_type": "markdown",
   "id": "217ff0b0-fa19-4472-b59a-5ad43a0d2805",
   "metadata": {},
   "source": [
    "yield- \n",
    "a= 0\n",
    "a= 1  b = 1\n",
    "a= 1  b = 2\n",
    "a= 2  b = 3\n",
    "a= 3  b= 5\n",
    "a= 5  b= 8\n",
    "a= 8  b= 13\n",
    "a= 13 b= 21\n",
    "a= 21 b= 34\n",
    "a= 34"
   ]
  }
 ],
 "metadata": {
  "kernelspec": {
   "display_name": "Python 3 (ipykernel)",
   "language": "python",
   "name": "python3"
  },
  "language_info": {
   "codemirror_mode": {
    "name": "ipython",
    "version": 3
   },
   "file_extension": ".py",
   "mimetype": "text/x-python",
   "name": "python",
   "nbconvert_exporter": "python",
   "pygments_lexer": "ipython3",
   "version": "3.10.8"
  }
 },
 "nbformat": 4,
 "nbformat_minor": 5
}
