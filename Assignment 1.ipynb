{
 "cells": [
  {
   "cell_type": "raw",
   "id": "0fdebb05-071a-425f-ba4d-c03210fce8de",
   "metadata": {},
   "source": [
    "Ques- What are the characteristics if tuples? Is tuple immutable?"
   ]
  },
  {
   "cell_type": "raw",
   "id": "5a2a235a-f552-45f8-ab15-8da3164b5fb2",
   "metadata": {},
   "source": [
    "Ans- Tuple used to store collection of data. Three characteristics of tuple are:\n",
    "1. Tuple item are ordered\n",
    "2. immutable\n",
    "3. allow duplicate values\n",
    "\n",
    "Yes, tuple is immutable"
   ]
  },
  {
   "cell_type": "raw",
   "id": "fc9626ba-7ac9-4fd1-a17f-5df8ef23ee8c",
   "metadata": {},
   "source": [
    "Ques- What are the two tuple methods in python? Give an example of each method? Write a code using a set to remove duplicates from the given list.\n",
    "\n",
    "List= [1,1,1,2,1,3,1,4,2,1,2,2,2,3,2,4,3,1,3,2,3,3,3,4,4,1,4,2,4,3,4,4]"
   ]
  },
  {
   "cell_type": "raw",
   "id": "e380ef24-8a44-41d8-8fae-92553bf17221",
   "metadata": {},
   "source": [
    "Ans- The two tuple method in python are:\n",
    "1- count\n",
    "2- index"
   ]
  },
  {
   "cell_type": "code",
   "execution_count": 36,
   "id": "db23e904-fd05-4e86-894f-4e8fbfc59e79",
   "metadata": {},
   "outputs": [],
   "source": [
    "tup= (1,2,3,3)"
   ]
  },
  {
   "cell_type": "code",
   "execution_count": 37,
   "id": "f0f7a60e-987d-4b0b-8899-a840c0774694",
   "metadata": {},
   "outputs": [
    {
     "data": {
      "text/plain": [
       "(1, 2, 3, 3)"
      ]
     },
     "execution_count": 37,
     "metadata": {},
     "output_type": "execute_result"
    }
   ],
   "source": [
    "tup"
   ]
  },
  {
   "cell_type": "code",
   "execution_count": 43,
   "id": "ee921629-34ef-46ce-b039-f3301f90ea6a",
   "metadata": {},
   "outputs": [
    {
     "data": {
      "text/plain": [
       "2"
      ]
     },
     "execution_count": 43,
     "metadata": {},
     "output_type": "execute_result"
    }
   ],
   "source": [
    "tup.count(3)"
   ]
  },
  {
   "cell_type": "code",
   "execution_count": 45,
   "id": "8e9d26a2-ae9f-43f0-aa4a-49264f4e4031",
   "metadata": {},
   "outputs": [
    {
     "data": {
      "text/plain": [
       "0"
      ]
     },
     "execution_count": 45,
     "metadata": {},
     "output_type": "execute_result"
    }
   ],
   "source": [
    "tup.index(1)"
   ]
  },
  {
   "cell_type": "code",
   "execution_count": 48,
   "id": "ee767474-9868-41a7-bce9-05438a348b36",
   "metadata": {},
   "outputs": [
    {
     "name": "stdout",
     "output_type": "stream",
     "text": [
      "{1, 2, 3, 4}\n"
     ]
    }
   ],
   "source": [
    "List= [1,1,1,2,1,3,1,4,2,1,2,2,2,3,2,4,3,1,3,2,3,3,3,4,4,1,4,2,4,3,4,4]\n",
    "Set= set(List)\n",
    "print(Set)"
   ]
  },
  {
   "cell_type": "code",
   "execution_count": 49,
   "id": "bbfd5e5e-0d02-458a-93cc-2e4516ee4a1c",
   "metadata": {},
   "outputs": [
    {
     "data": {
      "text/plain": [
       "set"
      ]
     },
     "execution_count": 49,
     "metadata": {},
     "output_type": "execute_result"
    }
   ],
   "source": [
    "type(Set)"
   ]
  },
  {
   "cell_type": "raw",
   "id": "f3d26774-9d91-4839-9d56-9c0c467ca18d",
   "metadata": {},
   "source": [
    "Ques- Explain the difference between the union() and update() methods for a set. Give an example of each method."
   ]
  },
  {
   "cell_type": "raw",
   "id": "a5d7d365-7afa-45b0-921e-c5f1a02632fd",
   "metadata": {},
   "source": [
    "Ans- set.union() create a new set which contain all item of original and specified set\n",
    "whereas the set.update() method updates the current set, by adding items from another set"
   ]
  },
  {
   "cell_type": "code",
   "execution_count": 84,
   "id": "12b116db-c1a9-43a1-b825-66af65c3cbe3",
   "metadata": {},
   "outputs": [
    {
     "data": {
      "text/plain": [
       "{1, 2, 3, 4, 5, 6, 'Ashish', 'Gupta'}"
      ]
     },
     "execution_count": 84,
     "metadata": {},
     "output_type": "execute_result"
    }
   ],
   "source": [
    "## set.union() example:\n",
    "set1= {1,2,2,2,3,4,\"Ashish\"}\n",
    "set2={4,5,6,\"Gupta\"}\n",
    "set1.union(set2)"
   ]
  },
  {
   "cell_type": "code",
   "execution_count": 87,
   "id": "f7426b24-e379-4970-bcdc-5f9596ed273b",
   "metadata": {},
   "outputs": [
    {
     "data": {
      "text/plain": [
       "{1, 2, 3, 4, 'Ashish'}"
      ]
     },
     "execution_count": 87,
     "metadata": {},
     "output_type": "execute_result"
    }
   ],
   "source": [
    "## after performing the task when you call s1, it shows original value.\n",
    "set1"
   ]
  },
  {
   "cell_type": "code",
   "execution_count": 79,
   "id": "38a5dec2-db4c-446e-8443-875b3117c52d",
   "metadata": {},
   "outputs": [
    {
     "name": "stdout",
     "output_type": "stream",
     "text": [
      "{'apple', 'banana', 'ladyfinger', 'cauliflower', 'cherry', 'cucumber'}\n"
     ]
    }
   ],
   "source": [
    "## set.update() example:\n",
    "\n",
    "set3= {\"apple\", \"banana\", \"cherry\"}\n",
    "set4= {\"cucumber\", \"ladyfinger\", \"cauliflower\"}\n",
    "set3.update(set4)\n",
    "print(set3)"
   ]
  },
  {
   "cell_type": "code",
   "execution_count": 88,
   "id": "eeeb6fdc-9734-4f2b-9f51-541880ba8d30",
   "metadata": {},
   "outputs": [
    {
     "data": {
      "text/plain": [
       "{'apple', 'banana', 'cauliflower', 'cherry', 'cucumber', 'ladyfinger'}"
      ]
     },
     "execution_count": 88,
     "metadata": {},
     "output_type": "execute_result"
    }
   ],
   "source": [
    "## after applying .update() the original value got changed\n",
    "set3"
   ]
  },
  {
   "cell_type": "raw",
   "id": "51862483-ba10-4c44-80c2-33ccbb62d8c9",
   "metadata": {},
   "source": [
    "Ques- What is a dictionary? Give an example. Also state whether a dictionary is ordered or unordered."
   ]
  },
  {
   "cell_type": "raw",
   "id": "cbdefd6d-6de8-41c9-9ae7-78485931242f",
   "metadata": {},
   "source": [
    "Ans: Dictionary is used to store data in Key and Value pairs. \n",
    "The latest version of python i.e 3.7 are ordered, earrlier version has unordered data."
   ]
  },
  {
   "cell_type": "code",
   "execution_count": 2,
   "id": "712957cd-c47b-45b3-b8c1-c1c274f88d05",
   "metadata": {},
   "outputs": [
    {
     "name": "stdout",
     "output_type": "stream",
     "text": [
      "{'name': 'Ashish', 'email_id': 'v.ashish@gmail.com', 'Favourite_no.': 786}\n"
     ]
    }
   ],
   "source": [
    "## Example of dictionary\n",
    "\n",
    "dic= {\"name\": \"Ashish\", \"email_id\": \"v.ashish@gmail.com\", \"Favourite_no.\": 786 }\n",
    "print(dic)"
   ]
  },
  {
   "cell_type": "code",
   "execution_count": 3,
   "id": "25d310cf-626f-433a-a902-3034177dee25",
   "metadata": {},
   "outputs": [
    {
     "data": {
      "text/plain": [
       "dict"
      ]
     },
     "execution_count": 3,
     "metadata": {},
     "output_type": "execute_result"
    }
   ],
   "source": [
    "type(dic)"
   ]
  },
  {
   "cell_type": "raw",
   "id": "7e57e117-9660-4870-ab78-6b85cd59b0fb",
   "metadata": {},
   "source": [
    "Ques- Can we create a nested dictionary? If so, please give an example by creating a simple one-level nested dictionary."
   ]
  },
  {
   "cell_type": "raw",
   "id": "94d1f354-a8d0-4608-b73a-2f1505f695d5",
   "metadata": {},
   "source": [
    "Ans: Dictionary that contain dictionary is called nested dictionary.\n",
    "Yes, we create nested dictionary in python."
   ]
  },
  {
   "cell_type": "code",
   "execution_count": 4,
   "id": "62fb6d3c-fdc5-4e55-aaed-226eb997392c",
   "metadata": {},
   "outputs": [
    {
     "name": "stdout",
     "output_type": "stream",
     "text": [
      "{'key': {'Fruit name': 'Banana', 'Veggies name': 'Ladyfinger'}}\n"
     ]
    }
   ],
   "source": [
    "## Example of nested dictionary\n",
    "\n",
    "Dictionary= {\"key\": {\"Fruit name\": \"Banana\", \"Veggies name\": \"Ladyfinger\"}}\n",
    "print(Dictionary)"
   ]
  },
  {
   "cell_type": "code",
   "execution_count": 5,
   "id": "6616da52-5d9a-4510-9682-e6bb102e9750",
   "metadata": {},
   "outputs": [
    {
     "data": {
      "text/plain": [
       "dict"
      ]
     },
     "execution_count": 5,
     "metadata": {},
     "output_type": "execute_result"
    }
   ],
   "source": [
    "type(Dictionary)"
   ]
  },
  {
   "cell_type": "raw",
   "id": "d1087f2e-8750-49f1-8982-c670d4789afc",
   "metadata": {},
   "source": [
    "Ques- Using set default() method, create key named topics in the given dictionary and also add the value of the key as the list [\"Python\", \"Machine Learning\", \"Deep learning\"]\n",
    "\n",
    "dict1= {\"language\": \"Python\", \"course\": \"Data Science Masters\"}"
   ]
  },
  {
   "cell_type": "code",
   "execution_count": 12,
   "id": "e6d6e2e6-8ee7-42ab-b34c-0ea91291737a",
   "metadata": {},
   "outputs": [
    {
     "data": {
      "text/plain": [
       "'Python'"
      ]
     },
     "execution_count": 12,
     "metadata": {},
     "output_type": "execute_result"
    }
   ],
   "source": [
    "dict1= {\"language\": \"Python\", \"course\": \"Data Science Masters\"}\n",
    "dict1.setdefault(\"language\")"
   ]
  },
  {
   "cell_type": "code",
   "execution_count": 14,
   "id": "a7a80c0b-dbe1-431b-aac9-6456da2ba308",
   "metadata": {},
   "outputs": [
    {
     "data": {
      "text/plain": [
       "['Python', 'Machine Learning', 'Deep learning']"
      ]
     },
     "execution_count": 14,
     "metadata": {},
     "output_type": "execute_result"
    }
   ],
   "source": [
    "dict1.setdefault( \"Program\", [\"Python\", \"Machine Learning\", \"Deep learning\"])"
   ]
  },
  {
   "cell_type": "code",
   "execution_count": 15,
   "id": "59f293b5-94e7-46db-89e7-d363d6abbe3b",
   "metadata": {},
   "outputs": [
    {
     "data": {
      "text/plain": [
       "{'language': 'Python',\n",
       " 'course': 'Data Science Masters',\n",
       " 'Program': ['Python', 'Machine Learning', 'Deep learning']}"
      ]
     },
     "execution_count": 15,
     "metadata": {},
     "output_type": "execute_result"
    }
   ],
   "source": [
    "dict1"
   ]
  },
  {
   "cell_type": "raw",
   "id": "4e122d4e-0442-4b3e-9e2c-cc47209fcc28",
   "metadata": {},
   "source": [
    "Ques- What are the three view objects in dictionaries? Use the three in-built methods in python to display these three view objects for the given dictionary.\n",
    "\n",
    "dict1= {\"Sport\": \"Cricket\", \"Teams\": [\"India\", \"Australia\", \"England\", \"South Africa\", \"Sri Lanka\", \"New Zealand\"]}"
   ]
  },
  {
   "cell_type": "raw",
   "id": "cfa8465b-2b81-49fb-8746-46f5ac6462d5",
   "metadata": {},
   "source": [
    "Ans- The three view objects in dictionaries are:\n",
    "1- keys\n",
    "2- values\n",
    "3- item"
   ]
  },
  {
   "cell_type": "code",
   "execution_count": 6,
   "id": "93df9d05-6505-4ff9-86f2-f16517d7e41c",
   "metadata": {},
   "outputs": [
    {
     "name": "stdout",
     "output_type": "stream",
     "text": [
      "{'Sport': 'Cricket', 'Teams': ['India', 'Australia', 'England', 'South Africa', 'Sri Lanka', 'New Zealand']}\n"
     ]
    }
   ],
   "source": [
    "dict1= {\"Sport\": \"Cricket\", \"Teams\": [\"India\", \"Australia\", \"England\", \"South Africa\", \"Sri Lanka\", \"New Zealand\"]}\n",
    "print(dict1)"
   ]
  },
  {
   "cell_type": "code",
   "execution_count": 7,
   "id": "7ad571fe-03ee-4da2-b5f5-750ba7cb8b81",
   "metadata": {},
   "outputs": [
    {
     "data": {
      "text/plain": [
       "dict_keys(['Sport', 'Teams'])"
      ]
     },
     "execution_count": 7,
     "metadata": {},
     "output_type": "execute_result"
    }
   ],
   "source": [
    "dict1.keys()"
   ]
  },
  {
   "cell_type": "code",
   "execution_count": 8,
   "id": "44f99790-c592-41a8-92ec-cbcde24d1dbe",
   "metadata": {},
   "outputs": [
    {
     "data": {
      "text/plain": [
       "dict_values(['Cricket', ['India', 'Australia', 'England', 'South Africa', 'Sri Lanka', 'New Zealand']])"
      ]
     },
     "execution_count": 8,
     "metadata": {},
     "output_type": "execute_result"
    }
   ],
   "source": [
    "dict1.values()"
   ]
  },
  {
   "cell_type": "code",
   "execution_count": 9,
   "id": "33adfd73-d711-4b47-bc9c-66771c515f87",
   "metadata": {},
   "outputs": [
    {
     "data": {
      "text/plain": [
       "dict_items([('Sport', 'Cricket'), ('Teams', ['India', 'Australia', 'England', 'South Africa', 'Sri Lanka', 'New Zealand'])])"
      ]
     },
     "execution_count": 9,
     "metadata": {},
     "output_type": "execute_result"
    }
   ],
   "source": [
    "dict1.items()"
   ]
  },
  {
   "cell_type": "code",
   "execution_count": null,
   "id": "f4b9729e-3db5-4645-9f3b-7deb5289db93",
   "metadata": {},
   "outputs": [],
   "source": []
  }
 ],
 "metadata": {
  "kernelspec": {
   "display_name": "Python 3 (ipykernel)",
   "language": "python",
   "name": "python3"
  },
  "language_info": {
   "codemirror_mode": {
    "name": "ipython",
    "version": 3
   },
   "file_extension": ".py",
   "mimetype": "text/x-python",
   "name": "python",
   "nbconvert_exporter": "python",
   "pygments_lexer": "ipython3",
   "version": "3.10.8"
  }
 },
 "nbformat": 4,
 "nbformat_minor": 5
}
